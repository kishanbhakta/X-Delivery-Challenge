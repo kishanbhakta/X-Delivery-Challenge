{
 "cells": [
  {
   "cell_type": "markdown",
   "metadata": {
    "collapsed": true,
    "pycharm": {
     "name": "#%% md\n"
    }
   },
   "source": [
    "# xDelivery Data Analyst Challenge\n",
    "\n",
    "### Background Info:\n",
    "\n",
    "At a very high level, X provides a solution for retail and non-retail shippers who need a way to get their packages from their warehouses to their customers. We partner with three categories of businesses:\n",
    "\n",
    "- Freight and Last Mile carriers (the former being responsible for dropping off bulk packages to a sortation facility or last mile inject facility anbd the latter responsible for delivering the ordered parcels to the end customer)\n",
    "- Sortation centers (who receive bulk packages in a shipment then “sort” them onto trucks bound for different last mile carrier facility)\n",
    "- Airline Cargo\n",
    "\n",
    "We currently classify carriers into first and middle mile, or pick up from the client’s warehouse and deliver to a sortation center and/or to the last mile carrier facility, and last mile who are responsible for getting the package to the end customer.\n",
    "\n",
    "### Prompt:\n",
    "\n",
    "We are currently in the discovery phase of finding underperforming vendor partners. Unfortunately we only have the datapoints in the attached dataset.\n",
    "\n",
    "### Some key points:\n",
    "\n",
    "- We currently have a nationwide delivery SLA (service level agreement) of five business days (excl. postal holidays and weekends).\n",
    "- For the purposes of this exercise, we have not included Airline cargo data.\n",
    "- A typical successful delivery path goes one of two ways:\n",
    "    - client > sort facility > last mile carrier > end customer\n",
    "    - client > last mile carrier > end customer\n",
    "\n",
    "\n",
    "### Questions:\n",
    "\n",
    "- Are we meeting our nationwide SLA for all of our customers? Please provide any visualizations / charts that may help illustrate your findings.\n",
    "- Are there any high-level recommendations you can make given the data provided?\n",
    "- What are some other recommendations you could make, not necessarily related to the service level agreement, with the given data\n",
    "- What are some analyses you would like to make but can’t with the current data? What datapoint would you find helpful to include?"
   ]
  },
  {
   "cell_type": "code",
   "execution_count": 110,
   "metadata": {
    "pycharm": {
     "name": "#%%\n"
    }
   },
   "outputs": [],
   "source": [
    "import pandas as pd\n",
    "import numpy as np\n",
    "import matplotlib.pyplot as plt\n",
    "import plotly.express as px"
   ]
  },
  {
   "cell_type": "code",
   "execution_count": 111,
   "metadata": {
    "pycharm": {
     "name": "#%%\n"
    }
   },
   "outputs": [],
   "source": [
    "# load data\n",
    "data_path = r\"C:\\Users\\kisha\\Documents\\projects\\scientificProject\\xDelivery_challenge\\data\\analyst_data_challenge.xlsx\"\n",
    "data = pd.read_excel(data_path, sheet_name='data')\n",
    "# data.head()"
   ]
  },
  {
   "cell_type": "markdown",
   "metadata": {
    "pycharm": {
     "name": "#%% md\n"
    }
   },
   "source": [
    "## Total Number of Parcels Per Organization\n",
    "> This metric shows which organization demands more logistical resources.\n",
    "#### Top 5 Organizations\n",
    "1. BuiltBar\n",
    "2. Turning Point Brands\n",
    "3. Electric Tobacconist\n",
    "4. Savvi\n",
    "5. Demand Group\n",
    "\n",
    "#### Bottom 5 Organizations\n",
    "1. Glas Inc\n",
    "2. EightCig\n",
    "3. Mad Vapes\n",
    "4. Designer Brands - DSW\n",
    "5. Windship Trading"
   ]
  },
  {
   "cell_type": "code",
   "execution_count": 112,
   "metadata": {
    "pycharm": {
     "name": "#%%\n"
    }
   },
   "outputs": [
    {
     "data": {
      "text/plain": [
       "BuiltBar                 329370\n",
       "Turning Point Brands      18038\n",
       "Electric Tobacconist       9786\n",
       "Savvi                      8302\n",
       "Demand Group               8102\n",
       "Element Vape - Buku        7070\n",
       "Chirp                      5372\n",
       "Turntable Labs             3601\n",
       "Chukou1                     887\n",
       "Breazy                      761\n",
       "BUKU Ship                   659\n",
       "Glas Inc                     65\n",
       "EightCig                     50\n",
       "Mad Vapes                    15\n",
       "Designer Brands - DSW         2\n",
       "Windship Trading              1\n",
       "Name: Organizations Name, dtype: int64"
      ]
     },
     "execution_count": 112,
     "metadata": {},
     "output_type": "execute_result"
    }
   ],
   "source": [
    "# get total shipments per organization\n",
    "data['Organizations Name'].value_counts()"
   ]
  },
  {
   "cell_type": "markdown",
   "metadata": {},
   "source": [
    "### Number of Parcels Create Per Day\n",
    "> This metric helps identify shipping trends for each customer, allowing xDelivery to plan labor and transportation needs more accurately."
   ]
  },
  {
   "cell_type": "code",
   "execution_count": 113,
   "metadata": {
    "pycharm": {
     "name": "#%%\n"
    }
   },
   "outputs": [
    {
     "data": {
      "application/vnd.plotly.v1+json": {
       "config": {
        "plotlyServerURL": "https://plot.ly"
       },
       "data": [
        {
         "alignmentgroup": "True",
         "hovertemplate": "Organizations Name=BUKU Ship<br>Parcel Created At Date=%{x}<br>Total Number of Shipments=%{y}<extra></extra>",
         "legendgroup": "BUKU Ship",
         "marker": {
          "color": "#4C78A8",
          "pattern": {
           "shape": ""
          }
         },
         "name": "BUKU Ship",
         "offsetgroup": "BUKU Ship",
         "orientation": "v",
         "showlegend": true,
         "textposition": "auto",
         "type": "bar",
         "x": [
          "07/01",
          "07/02",
          "07/03",
          "07/04",
          "07/05",
          "07/06",
          "07/07",
          "07/08",
          "07/09",
          "07/10",
          "07/11",
          "07/12",
          "07/13",
          "07/14",
          "07/15",
          "07/16",
          "07/17",
          "07/18",
          "07/19",
          "07/20",
          "07/21",
          "07/22",
          "07/23",
          "07/24",
          "07/25",
          "07/26",
          "07/27",
          "07/28",
          "07/29",
          "07/30",
          "07/31",
          "08/01",
          "08/02",
          "08/03",
          "08/04",
          "08/05",
          "08/06",
          "08/07",
          "08/08",
          "08/09",
          "08/10",
          "08/11",
          "08/12",
          "08/13",
          "08/14",
          "08/15",
          "08/16",
          "08/17",
          "08/18",
          "08/19",
          "08/20",
          "08/21",
          "08/22",
          "08/23",
          "08/24",
          "08/25",
          "08/26",
          "08/27",
          "08/28",
          "08/29",
          "08/30",
          "08/31",
          "09/01",
          "09/02",
          "09/03",
          "09/04",
          "09/05",
          "09/06",
          "09/07",
          "09/08",
          "09/09",
          "09/10",
          "09/11",
          "09/12",
          "09/13",
          "09/14",
          "09/15",
          "09/16",
          "09/17",
          "09/18",
          "09/19",
          "09/20",
          "09/21",
          "09/22",
          "09/23",
          "09/24",
          "09/25",
          "09/26",
          "09/27",
          "09/28",
          "09/29",
          "09/30"
         ],
         "xaxis": "x",
         "y": [
          61,
          67,
          null,
          null,
          null,
          81,
          55,
          75,
          71,
          null,
          null,
          74,
          56,
          59,
          59,
          null,
          null,
          null,
          null,
          null,
          null,
          null,
          null,
          null,
          null,
          null,
          null,
          null,
          1,
          null,
          null,
          null,
          null,
          null,
          null,
          null,
          null,
          null,
          null,
          null,
          null,
          null,
          null,
          null,
          null,
          null,
          null,
          null,
          null,
          null,
          null,
          null,
          null,
          null,
          null,
          null,
          null,
          null,
          null,
          null,
          null,
          null,
          null,
          null,
          null,
          null,
          null,
          null,
          null,
          null,
          null,
          null,
          null,
          null,
          null,
          null,
          null,
          null,
          null,
          null,
          null,
          null,
          null,
          null,
          null,
          null,
          null,
          null,
          null,
          null,
          null,
          null
         ],
         "yaxis": "y"
        },
        {
         "alignmentgroup": "True",
         "hovertemplate": "Organizations Name=Breazy<br>Parcel Created At Date=%{x}<br>Total Number of Shipments=%{y}<extra></extra>",
         "legendgroup": "Breazy",
         "marker": {
          "color": "#F58518",
          "pattern": {
           "shape": ""
          }
         },
         "name": "Breazy",
         "offsetgroup": "Breazy",
         "orientation": "v",
         "showlegend": true,
         "textposition": "auto",
         "type": "bar",
         "x": [
          "07/01",
          "07/02",
          "07/03",
          "07/04",
          "07/05",
          "07/06",
          "07/07",
          "07/08",
          "07/09",
          "07/10",
          "07/11",
          "07/12",
          "07/13",
          "07/14",
          "07/15",
          "07/16",
          "07/17",
          "07/18",
          "07/19",
          "07/20",
          "07/21",
          "07/22",
          "07/23",
          "07/24",
          "07/25",
          "07/26",
          "07/27",
          "07/28",
          "07/29",
          "07/30",
          "07/31",
          "08/01",
          "08/02",
          "08/03",
          "08/04",
          "08/05",
          "08/06",
          "08/07",
          "08/08",
          "08/09",
          "08/10",
          "08/11",
          "08/12",
          "08/13",
          "08/14",
          "08/15",
          "08/16",
          "08/17",
          "08/18",
          "08/19",
          "08/20",
          "08/21",
          "08/22",
          "08/23",
          "08/24",
          "08/25",
          "08/26",
          "08/27",
          "08/28",
          "08/29",
          "08/30",
          "08/31",
          "09/01",
          "09/02",
          "09/03",
          "09/04",
          "09/05",
          "09/06",
          "09/07",
          "09/08",
          "09/09",
          "09/10",
          "09/11",
          "09/12",
          "09/13",
          "09/14",
          "09/15",
          "09/16",
          "09/17",
          "09/18",
          "09/19",
          "09/20",
          "09/21",
          "09/22",
          "09/23",
          "09/24",
          "09/25",
          "09/26",
          "09/27",
          "09/28",
          "09/29",
          "09/30"
         ],
         "xaxis": "x",
         "y": [
          24,
          null,
          null,
          null,
          50,
          13,
          28,
          17,
          17,
          null,
          null,
          40,
          null,
          null,
          null,
          null,
          null,
          null,
          36,
          19,
          null,
          45,
          null,
          null,
          null,
          34,
          17,
          5,
          27,
          null,
          null,
          null,
          50,
          null,
          23,
          26,
          2,
          null,
          null,
          50,
          null,
          25,
          26,
          null,
          null,
          null,
          50,
          null,
          49,
          null,
          9,
          null,
          null,
          40,
          null,
          39,
          null,
          null,
          null,
          null,
          null,
          null,
          null,
          null,
          null,
          null,
          null,
          null,
          null,
          null,
          null,
          null,
          null,
          null,
          null,
          null,
          null,
          null,
          null,
          null,
          null,
          null,
          null,
          null,
          null,
          null,
          null,
          null,
          null,
          null,
          null,
          null
         ],
         "yaxis": "y"
        },
        {
         "alignmentgroup": "True",
         "hovertemplate": "Organizations Name=BuiltBar<br>Parcel Created At Date=%{x}<br>Total Number of Shipments=%{y}<extra></extra>",
         "legendgroup": "BuiltBar",
         "marker": {
          "color": "#E45756",
          "pattern": {
           "shape": ""
          }
         },
         "name": "BuiltBar",
         "offsetgroup": "BuiltBar",
         "orientation": "v",
         "showlegend": true,
         "textposition": "auto",
         "type": "bar",
         "x": [
          "07/01",
          "07/02",
          "07/03",
          "07/04",
          "07/05",
          "07/06",
          "07/07",
          "07/08",
          "07/09",
          "07/10",
          "07/11",
          "07/12",
          "07/13",
          "07/14",
          "07/15",
          "07/16",
          "07/17",
          "07/18",
          "07/19",
          "07/20",
          "07/21",
          "07/22",
          "07/23",
          "07/24",
          "07/25",
          "07/26",
          "07/27",
          "07/28",
          "07/29",
          "07/30",
          "07/31",
          "08/01",
          "08/02",
          "08/03",
          "08/04",
          "08/05",
          "08/06",
          "08/07",
          "08/08",
          "08/09",
          "08/10",
          "08/11",
          "08/12",
          "08/13",
          "08/14",
          "08/15",
          "08/16",
          "08/17",
          "08/18",
          "08/19",
          "08/20",
          "08/21",
          "08/22",
          "08/23",
          "08/24",
          "08/25",
          "08/26",
          "08/27",
          "08/28",
          "08/29",
          "08/30",
          "08/31",
          "09/01",
          "09/02",
          "09/03",
          "09/04",
          "09/05",
          "09/06",
          "09/07",
          "09/08",
          "09/09",
          "09/10",
          "09/11",
          "09/12",
          "09/13",
          "09/14",
          "09/15",
          "09/16",
          "09/17",
          "09/18",
          "09/19",
          "09/20",
          "09/21",
          "09/22",
          "09/23",
          "09/24",
          "09/25",
          "09/26",
          "09/27",
          "09/28",
          "09/29",
          "09/30"
         ],
         "xaxis": "x",
         "y": [
          3916,
          4628,
          1198,
          null,
          null,
          3197,
          7435,
          7045,
          4540,
          1217,
          null,
          1714,
          4904,
          3808,
          5017,
          3730,
          1080,
          null,
          2673,
          4477,
          6741,
          4192,
          1605,
          1339,
          null,
          3766,
          4601,
          3805,
          2955,
          4547,
          867,
          null,
          2843,
          3148,
          1012,
          5556,
          7304,
          1560,
          null,
          3874,
          4272,
          6403,
          3391,
          3683,
          729,
          null,
          3752,
          4464,
          9604,
          5462,
          4970,
          747,
          null,
          2176,
          3778,
          3402,
          4048,
          6168,
          7502,
          null,
          4034,
          11272,
          2932,
          2692,
          3574,
          4062,
          null,
          null,
          4058,
          6250,
          3423,
          3580,
          1054,
          null,
          2659,
          4067,
          3453,
          4060,
          3132,
          515,
          null,
          4448,
          13879,
          10694,
          5164,
          8834,
          1823,
          null,
          5264,
          4371,
          7660,
          7571
         ],
         "yaxis": "y"
        },
        {
         "alignmentgroup": "True",
         "hovertemplate": "Organizations Name=Chirp<br>Parcel Created At Date=%{x}<br>Total Number of Shipments=%{y}<extra></extra>",
         "legendgroup": "Chirp",
         "marker": {
          "color": "#72B7B2",
          "pattern": {
           "shape": ""
          }
         },
         "name": "Chirp",
         "offsetgroup": "Chirp",
         "orientation": "v",
         "showlegend": true,
         "textposition": "auto",
         "type": "bar",
         "x": [
          "07/01",
          "07/02",
          "07/03",
          "07/04",
          "07/05",
          "07/06",
          "07/07",
          "07/08",
          "07/09",
          "07/10",
          "07/11",
          "07/12",
          "07/13",
          "07/14",
          "07/15",
          "07/16",
          "07/17",
          "07/18",
          "07/19",
          "07/20",
          "07/21",
          "07/22",
          "07/23",
          "07/24",
          "07/25",
          "07/26",
          "07/27",
          "07/28",
          "07/29",
          "07/30",
          "07/31",
          "08/01",
          "08/02",
          "08/03",
          "08/04",
          "08/05",
          "08/06",
          "08/07",
          "08/08",
          "08/09",
          "08/10",
          "08/11",
          "08/12",
          "08/13",
          "08/14",
          "08/15",
          "08/16",
          "08/17",
          "08/18",
          "08/19",
          "08/20",
          "08/21",
          "08/22",
          "08/23",
          "08/24",
          "08/25",
          "08/26",
          "08/27",
          "08/28",
          "08/29",
          "08/30",
          "08/31",
          "09/01",
          "09/02",
          "09/03",
          "09/04",
          "09/05",
          "09/06",
          "09/07",
          "09/08",
          "09/09",
          "09/10",
          "09/11",
          "09/12",
          "09/13",
          "09/14",
          "09/15",
          "09/16",
          "09/17",
          "09/18",
          "09/19",
          "09/20",
          "09/21",
          "09/22",
          "09/23",
          "09/24",
          "09/25",
          "09/26",
          "09/27",
          "09/28",
          "09/29",
          "09/30"
         ],
         "xaxis": "x",
         "y": [
          84,
          69,
          null,
          null,
          null,
          139,
          116,
          143,
          148,
          null,
          null,
          251,
          200,
          187,
          191,
          193,
          null,
          null,
          216,
          198,
          228,
          289,
          null,
          null,
          null,
          1329,
          382,
          356,
          318,
          332,
          null,
          null,
          3,
          null,
          null,
          null,
          null,
          null,
          null,
          null,
          null,
          null,
          null,
          null,
          null,
          null,
          null,
          null,
          null,
          null,
          null,
          null,
          null,
          null,
          null,
          null,
          null,
          null,
          null,
          null,
          null,
          null,
          null,
          null,
          null,
          null,
          null,
          null,
          null,
          null,
          null,
          null,
          null,
          null,
          null,
          null,
          null,
          null,
          null,
          null,
          null,
          null,
          null,
          null,
          null,
          null,
          null,
          null,
          null,
          null,
          null,
          null
         ],
         "yaxis": "y"
        },
        {
         "alignmentgroup": "True",
         "hovertemplate": "Organizations Name=Chukou1<br>Parcel Created At Date=%{x}<br>Total Number of Shipments=%{y}<extra></extra>",
         "legendgroup": "Chukou1",
         "marker": {
          "color": "#54A24B",
          "pattern": {
           "shape": ""
          }
         },
         "name": "Chukou1",
         "offsetgroup": "Chukou1",
         "orientation": "v",
         "showlegend": true,
         "textposition": "auto",
         "type": "bar",
         "x": [
          "07/01",
          "07/02",
          "07/03",
          "07/04",
          "07/05",
          "07/06",
          "07/07",
          "07/08",
          "07/09",
          "07/10",
          "07/11",
          "07/12",
          "07/13",
          "07/14",
          "07/15",
          "07/16",
          "07/17",
          "07/18",
          "07/19",
          "07/20",
          "07/21",
          "07/22",
          "07/23",
          "07/24",
          "07/25",
          "07/26",
          "07/27",
          "07/28",
          "07/29",
          "07/30",
          "07/31",
          "08/01",
          "08/02",
          "08/03",
          "08/04",
          "08/05",
          "08/06",
          "08/07",
          "08/08",
          "08/09",
          "08/10",
          "08/11",
          "08/12",
          "08/13",
          "08/14",
          "08/15",
          "08/16",
          "08/17",
          "08/18",
          "08/19",
          "08/20",
          "08/21",
          "08/22",
          "08/23",
          "08/24",
          "08/25",
          "08/26",
          "08/27",
          "08/28",
          "08/29",
          "08/30",
          "08/31",
          "09/01",
          "09/02",
          "09/03",
          "09/04",
          "09/05",
          "09/06",
          "09/07",
          "09/08",
          "09/09",
          "09/10",
          "09/11",
          "09/12",
          "09/13",
          "09/14",
          "09/15",
          "09/16",
          "09/17",
          "09/18",
          "09/19",
          "09/20",
          "09/21",
          "09/22",
          "09/23",
          "09/24",
          "09/25",
          "09/26",
          "09/27",
          "09/28",
          "09/29",
          "09/30"
         ],
         "xaxis": "x",
         "y": [
          null,
          null,
          null,
          null,
          null,
          null,
          null,
          null,
          null,
          null,
          null,
          null,
          null,
          null,
          null,
          null,
          null,
          null,
          null,
          null,
          null,
          null,
          null,
          null,
          null,
          null,
          null,
          null,
          null,
          null,
          null,
          null,
          null,
          null,
          null,
          null,
          null,
          null,
          null,
          null,
          null,
          null,
          null,
          null,
          null,
          null,
          null,
          null,
          null,
          4,
          31,
          7,
          3,
          189,
          36,
          38,
          53,
          40,
          5,
          8,
          66,
          44,
          27,
          26,
          39,
          6,
          3,
          100,
          43,
          38,
          41,
          40,
          null,
          null,
          null,
          null,
          null,
          null,
          null,
          null,
          null,
          null,
          null,
          null,
          null,
          null,
          null,
          null,
          null,
          null,
          null,
          null
         ],
         "yaxis": "y"
        },
        {
         "alignmentgroup": "True",
         "hovertemplate": "Organizations Name=Demand Group<br>Parcel Created At Date=%{x}<br>Total Number of Shipments=%{y}<extra></extra>",
         "legendgroup": "Demand Group",
         "marker": {
          "color": "#EECA3B",
          "pattern": {
           "shape": ""
          }
         },
         "name": "Demand Group",
         "offsetgroup": "Demand Group",
         "orientation": "v",
         "showlegend": true,
         "textposition": "auto",
         "type": "bar",
         "x": [
          "07/01",
          "07/02",
          "07/03",
          "07/04",
          "07/05",
          "07/06",
          "07/07",
          "07/08",
          "07/09",
          "07/10",
          "07/11",
          "07/12",
          "07/13",
          "07/14",
          "07/15",
          "07/16",
          "07/17",
          "07/18",
          "07/19",
          "07/20",
          "07/21",
          "07/22",
          "07/23",
          "07/24",
          "07/25",
          "07/26",
          "07/27",
          "07/28",
          "07/29",
          "07/30",
          "07/31",
          "08/01",
          "08/02",
          "08/03",
          "08/04",
          "08/05",
          "08/06",
          "08/07",
          "08/08",
          "08/09",
          "08/10",
          "08/11",
          "08/12",
          "08/13",
          "08/14",
          "08/15",
          "08/16",
          "08/17",
          "08/18",
          "08/19",
          "08/20",
          "08/21",
          "08/22",
          "08/23",
          "08/24",
          "08/25",
          "08/26",
          "08/27",
          "08/28",
          "08/29",
          "08/30",
          "08/31",
          "09/01",
          "09/02",
          "09/03",
          "09/04",
          "09/05",
          "09/06",
          "09/07",
          "09/08",
          "09/09",
          "09/10",
          "09/11",
          "09/12",
          "09/13",
          "09/14",
          "09/15",
          "09/16",
          "09/17",
          "09/18",
          "09/19",
          "09/20",
          "09/21",
          "09/22",
          "09/23",
          "09/24",
          "09/25",
          "09/26",
          "09/27",
          "09/28",
          "09/29",
          "09/30"
         ],
         "xaxis": "x",
         "y": [
          null,
          null,
          null,
          null,
          null,
          20,
          null,
          149,
          361,
          null,
          null,
          331,
          91,
          89,
          255,
          65,
          null,
          null,
          152,
          70,
          68,
          217,
          49,
          null,
          null,
          14,
          6,
          11,
          26,
          50,
          null,
          null,
          148,
          84,
          111,
          178,
          203,
          null,
          null,
          129,
          141,
          129,
          264,
          85,
          null,
          null,
          194,
          71,
          103,
          282,
          83,
          null,
          null,
          113,
          220,
          105,
          254,
          61,
          null,
          null,
          95,
          79,
          null,
          266,
          75,
          44,
          null,
          null,
          185,
          78,
          278,
          65,
          null,
          null,
          142,
          null,
          112,
          262,
          55,
          null,
          null,
          118,
          86,
          95,
          259,
          179,
          null,
          null,
          242,
          70,
          70,
          265
         ],
         "yaxis": "y"
        },
        {
         "alignmentgroup": "True",
         "hovertemplate": "Organizations Name=Designer Brands - DSW<br>Parcel Created At Date=%{x}<br>Total Number of Shipments=%{y}<extra></extra>",
         "legendgroup": "Designer Brands - DSW",
         "marker": {
          "color": "#B279A2",
          "pattern": {
           "shape": ""
          }
         },
         "name": "Designer Brands - DSW",
         "offsetgroup": "Designer Brands - DSW",
         "orientation": "v",
         "showlegend": true,
         "textposition": "auto",
         "type": "bar",
         "x": [
          "07/01",
          "07/02",
          "07/03",
          "07/04",
          "07/05",
          "07/06",
          "07/07",
          "07/08",
          "07/09",
          "07/10",
          "07/11",
          "07/12",
          "07/13",
          "07/14",
          "07/15",
          "07/16",
          "07/17",
          "07/18",
          "07/19",
          "07/20",
          "07/21",
          "07/22",
          "07/23",
          "07/24",
          "07/25",
          "07/26",
          "07/27",
          "07/28",
          "07/29",
          "07/30",
          "07/31",
          "08/01",
          "08/02",
          "08/03",
          "08/04",
          "08/05",
          "08/06",
          "08/07",
          "08/08",
          "08/09",
          "08/10",
          "08/11",
          "08/12",
          "08/13",
          "08/14",
          "08/15",
          "08/16",
          "08/17",
          "08/18",
          "08/19",
          "08/20",
          "08/21",
          "08/22",
          "08/23",
          "08/24",
          "08/25",
          "08/26",
          "08/27",
          "08/28",
          "08/29",
          "08/30",
          "08/31",
          "09/01",
          "09/02",
          "09/03",
          "09/04",
          "09/05",
          "09/06",
          "09/07",
          "09/08",
          "09/09",
          "09/10",
          "09/11",
          "09/12",
          "09/13",
          "09/14",
          "09/15",
          "09/16",
          "09/17",
          "09/18",
          "09/19",
          "09/20",
          "09/21",
          "09/22",
          "09/23",
          "09/24",
          "09/25",
          "09/26",
          "09/27",
          "09/28",
          "09/29",
          "09/30"
         ],
         "xaxis": "x",
         "y": [
          null,
          null,
          null,
          null,
          null,
          null,
          null,
          null,
          null,
          null,
          null,
          null,
          null,
          null,
          null,
          null,
          null,
          null,
          null,
          null,
          null,
          null,
          null,
          null,
          null,
          null,
          null,
          null,
          null,
          null,
          null,
          null,
          null,
          null,
          null,
          null,
          null,
          null,
          null,
          null,
          null,
          null,
          null,
          null,
          null,
          null,
          null,
          null,
          null,
          null,
          null,
          null,
          null,
          null,
          null,
          null,
          null,
          null,
          null,
          null,
          null,
          null,
          null,
          null,
          null,
          null,
          null,
          null,
          null,
          2,
          null,
          null,
          null,
          null,
          null,
          null,
          null,
          null,
          null,
          null,
          null,
          null,
          null,
          null,
          null,
          null,
          null,
          null,
          null,
          null,
          null,
          null
         ],
         "yaxis": "y"
        },
        {
         "alignmentgroup": "True",
         "hovertemplate": "Organizations Name=EightCig<br>Parcel Created At Date=%{x}<br>Total Number of Shipments=%{y}<extra></extra>",
         "legendgroup": "EightCig",
         "marker": {
          "color": "#FF9DA6",
          "pattern": {
           "shape": ""
          }
         },
         "name": "EightCig",
         "offsetgroup": "EightCig",
         "orientation": "v",
         "showlegend": true,
         "textposition": "auto",
         "type": "bar",
         "x": [
          "07/01",
          "07/02",
          "07/03",
          "07/04",
          "07/05",
          "07/06",
          "07/07",
          "07/08",
          "07/09",
          "07/10",
          "07/11",
          "07/12",
          "07/13",
          "07/14",
          "07/15",
          "07/16",
          "07/17",
          "07/18",
          "07/19",
          "07/20",
          "07/21",
          "07/22",
          "07/23",
          "07/24",
          "07/25",
          "07/26",
          "07/27",
          "07/28",
          "07/29",
          "07/30",
          "07/31",
          "08/01",
          "08/02",
          "08/03",
          "08/04",
          "08/05",
          "08/06",
          "08/07",
          "08/08",
          "08/09",
          "08/10",
          "08/11",
          "08/12",
          "08/13",
          "08/14",
          "08/15",
          "08/16",
          "08/17",
          "08/18",
          "08/19",
          "08/20",
          "08/21",
          "08/22",
          "08/23",
          "08/24",
          "08/25",
          "08/26",
          "08/27",
          "08/28",
          "08/29",
          "08/30",
          "08/31",
          "09/01",
          "09/02",
          "09/03",
          "09/04",
          "09/05",
          "09/06",
          "09/07",
          "09/08",
          "09/09",
          "09/10",
          "09/11",
          "09/12",
          "09/13",
          "09/14",
          "09/15",
          "09/16",
          "09/17",
          "09/18",
          "09/19",
          "09/20",
          "09/21",
          "09/22",
          "09/23",
          "09/24",
          "09/25",
          "09/26",
          "09/27",
          "09/28",
          "09/29",
          "09/30"
         ],
         "xaxis": "x",
         "y": [
          null,
          null,
          null,
          null,
          null,
          null,
          null,
          null,
          null,
          null,
          null,
          null,
          null,
          null,
          null,
          null,
          null,
          null,
          null,
          null,
          null,
          null,
          null,
          null,
          null,
          null,
          null,
          null,
          50,
          null,
          null,
          null,
          null,
          null,
          null,
          null,
          null,
          null,
          null,
          null,
          null,
          null,
          null,
          null,
          null,
          null,
          null,
          null,
          null,
          null,
          null,
          null,
          null,
          null,
          null,
          null,
          null,
          null,
          null,
          null,
          null,
          null,
          null,
          null,
          null,
          null,
          null,
          null,
          null,
          null,
          null,
          null,
          null,
          null,
          null,
          null,
          null,
          null,
          null,
          null,
          null,
          null,
          null,
          null,
          null,
          null,
          null,
          null,
          null,
          null,
          null,
          null
         ],
         "yaxis": "y"
        },
        {
         "alignmentgroup": "True",
         "hovertemplate": "Organizations Name=Electric Tobacconist<br>Parcel Created At Date=%{x}<br>Total Number of Shipments=%{y}<extra></extra>",
         "legendgroup": "Electric Tobacconist",
         "marker": {
          "color": "#9D755D",
          "pattern": {
           "shape": ""
          }
         },
         "name": "Electric Tobacconist",
         "offsetgroup": "Electric Tobacconist",
         "orientation": "v",
         "showlegend": true,
         "textposition": "auto",
         "type": "bar",
         "x": [
          "07/01",
          "07/02",
          "07/03",
          "07/04",
          "07/05",
          "07/06",
          "07/07",
          "07/08",
          "07/09",
          "07/10",
          "07/11",
          "07/12",
          "07/13",
          "07/14",
          "07/15",
          "07/16",
          "07/17",
          "07/18",
          "07/19",
          "07/20",
          "07/21",
          "07/22",
          "07/23",
          "07/24",
          "07/25",
          "07/26",
          "07/27",
          "07/28",
          "07/29",
          "07/30",
          "07/31",
          "08/01",
          "08/02",
          "08/03",
          "08/04",
          "08/05",
          "08/06",
          "08/07",
          "08/08",
          "08/09",
          "08/10",
          "08/11",
          "08/12",
          "08/13",
          "08/14",
          "08/15",
          "08/16",
          "08/17",
          "08/18",
          "08/19",
          "08/20",
          "08/21",
          "08/22",
          "08/23",
          "08/24",
          "08/25",
          "08/26",
          "08/27",
          "08/28",
          "08/29",
          "08/30",
          "08/31",
          "09/01",
          "09/02",
          "09/03",
          "09/04",
          "09/05",
          "09/06",
          "09/07",
          "09/08",
          "09/09",
          "09/10",
          "09/11",
          "09/12",
          "09/13",
          "09/14",
          "09/15",
          "09/16",
          "09/17",
          "09/18",
          "09/19",
          "09/20",
          "09/21",
          "09/22",
          "09/23",
          "09/24",
          "09/25",
          "09/26",
          "09/27",
          "09/28",
          "09/29",
          "09/30"
         ],
         "xaxis": "x",
         "y": [
          104,
          126,
          96,
          87,
          106,
          120,
          124,
          128,
          98,
          74,
          81,
          125,
          122,
          114,
          110,
          120,
          76,
          88,
          97,
          123,
          113,
          127,
          96,
          69,
          89,
          119,
          112,
          113,
          122,
          128,
          86,
          98,
          146,
          110,
          117,
          125,
          112,
          61,
          78,
          130,
          136,
          98,
          96,
          116,
          77,
          80,
          108,
          114,
          102,
          105,
          111,
          63,
          80,
          108,
          109,
          128,
          122,
          111,
          87,
          75,
          101,
          102,
          97,
          127,
          119,
          108,
          86,
          82,
          131,
          100,
          124,
          126,
          105,
          84,
          99,
          89,
          90,
          104,
          133,
          87,
          92,
          107,
          114,
          111,
          97,
          167,
          126,
          108,
          171,
          109,
          111,
          83
         ],
         "yaxis": "y"
        },
        {
         "alignmentgroup": "True",
         "hovertemplate": "Organizations Name=Element Vape - Buku<br>Parcel Created At Date=%{x}<br>Total Number of Shipments=%{y}<extra></extra>",
         "legendgroup": "Element Vape - Buku",
         "marker": {
          "color": "#BAB0AC",
          "pattern": {
           "shape": ""
          }
         },
         "name": "Element Vape - Buku",
         "offsetgroup": "Element Vape - Buku",
         "orientation": "v",
         "showlegend": true,
         "textposition": "auto",
         "type": "bar",
         "x": [
          "07/01",
          "07/02",
          "07/03",
          "07/04",
          "07/05",
          "07/06",
          "07/07",
          "07/08",
          "07/09",
          "07/10",
          "07/11",
          "07/12",
          "07/13",
          "07/14",
          "07/15",
          "07/16",
          "07/17",
          "07/18",
          "07/19",
          "07/20",
          "07/21",
          "07/22",
          "07/23",
          "07/24",
          "07/25",
          "07/26",
          "07/27",
          "07/28",
          "07/29",
          "07/30",
          "07/31",
          "08/01",
          "08/02",
          "08/03",
          "08/04",
          "08/05",
          "08/06",
          "08/07",
          "08/08",
          "08/09",
          "08/10",
          "08/11",
          "08/12",
          "08/13",
          "08/14",
          "08/15",
          "08/16",
          "08/17",
          "08/18",
          "08/19",
          "08/20",
          "08/21",
          "08/22",
          "08/23",
          "08/24",
          "08/25",
          "08/26",
          "08/27",
          "08/28",
          "08/29",
          "08/30",
          "08/31",
          "09/01",
          "09/02",
          "09/03",
          "09/04",
          "09/05",
          "09/06",
          "09/07",
          "09/08",
          "09/09",
          "09/10",
          "09/11",
          "09/12",
          "09/13",
          "09/14",
          "09/15",
          "09/16",
          "09/17",
          "09/18",
          "09/19",
          "09/20",
          "09/21",
          "09/22",
          "09/23",
          "09/24",
          "09/25",
          "09/26",
          "09/27",
          "09/28",
          "09/29",
          "09/30"
         ],
         "xaxis": "x",
         "y": [
          null,
          null,
          null,
          null,
          null,
          null,
          null,
          null,
          null,
          null,
          null,
          null,
          null,
          null,
          null,
          295,
          null,
          null,
          284,
          null,
          null,
          null,
          277,
          null,
          null,
          249,
          null,
          277,
          null,
          275,
          null,
          null,
          299,
          null,
          304,
          null,
          312,
          null,
          null,
          297,
          null,
          317,
          null,
          295,
          null,
          null,
          286,
          null,
          329,
          null,
          278,
          null,
          null,
          311,
          null,
          277,
          null,
          null,
          null,
          null,
          null,
          null,
          null,
          null,
          null,
          null,
          null,
          null,
          null,
          null,
          null,
          null,
          null,
          null,
          null,
          null,
          275,
          null,
          194,
          null,
          null,
          337,
          null,
          224,
          null,
          400,
          null,
          null,
          471,
          null,
          207,
          null
         ],
         "yaxis": "y"
        },
        {
         "alignmentgroup": "True",
         "hovertemplate": "Organizations Name=Glas Inc<br>Parcel Created At Date=%{x}<br>Total Number of Shipments=%{y}<extra></extra>",
         "legendgroup": "Glas Inc",
         "marker": {
          "color": "#4C78A8",
          "pattern": {
           "shape": ""
          }
         },
         "name": "Glas Inc",
         "offsetgroup": "Glas Inc",
         "orientation": "v",
         "showlegend": true,
         "textposition": "auto",
         "type": "bar",
         "x": [
          "07/01",
          "07/02",
          "07/03",
          "07/04",
          "07/05",
          "07/06",
          "07/07",
          "07/08",
          "07/09",
          "07/10",
          "07/11",
          "07/12",
          "07/13",
          "07/14",
          "07/15",
          "07/16",
          "07/17",
          "07/18",
          "07/19",
          "07/20",
          "07/21",
          "07/22",
          "07/23",
          "07/24",
          "07/25",
          "07/26",
          "07/27",
          "07/28",
          "07/29",
          "07/30",
          "07/31",
          "08/01",
          "08/02",
          "08/03",
          "08/04",
          "08/05",
          "08/06",
          "08/07",
          "08/08",
          "08/09",
          "08/10",
          "08/11",
          "08/12",
          "08/13",
          "08/14",
          "08/15",
          "08/16",
          "08/17",
          "08/18",
          "08/19",
          "08/20",
          "08/21",
          "08/22",
          "08/23",
          "08/24",
          "08/25",
          "08/26",
          "08/27",
          "08/28",
          "08/29",
          "08/30",
          "08/31",
          "09/01",
          "09/02",
          "09/03",
          "09/04",
          "09/05",
          "09/06",
          "09/07",
          "09/08",
          "09/09",
          "09/10",
          "09/11",
          "09/12",
          "09/13",
          "09/14",
          "09/15",
          "09/16",
          "09/17",
          "09/18",
          "09/19",
          "09/20",
          "09/21",
          "09/22",
          "09/23",
          "09/24",
          "09/25",
          "09/26",
          "09/27",
          "09/28",
          "09/29",
          "09/30"
         ],
         "xaxis": "x",
         "y": [
          5,
          5,
          null,
          null,
          null,
          30,
          25,
          null,
          null,
          null,
          null,
          null,
          null,
          null,
          null,
          null,
          null,
          null,
          null,
          null,
          null,
          null,
          null,
          null,
          null,
          null,
          null,
          null,
          null,
          null,
          null,
          null,
          null,
          null,
          null,
          null,
          null,
          null,
          null,
          null,
          null,
          null,
          null,
          null,
          null,
          null,
          null,
          null,
          null,
          null,
          null,
          null,
          null,
          null,
          null,
          null,
          null,
          null,
          null,
          null,
          null,
          null,
          null,
          null,
          null,
          null,
          null,
          null,
          null,
          null,
          null,
          null,
          null,
          null,
          null,
          null,
          null,
          null,
          null,
          null,
          null,
          null,
          null,
          null,
          null,
          null,
          null,
          null,
          null,
          null,
          null,
          null
         ],
         "yaxis": "y"
        },
        {
         "alignmentgroup": "True",
         "hovertemplate": "Organizations Name=Mad Vapes<br>Parcel Created At Date=%{x}<br>Total Number of Shipments=%{y}<extra></extra>",
         "legendgroup": "Mad Vapes",
         "marker": {
          "color": "#F58518",
          "pattern": {
           "shape": ""
          }
         },
         "name": "Mad Vapes",
         "offsetgroup": "Mad Vapes",
         "orientation": "v",
         "showlegend": true,
         "textposition": "auto",
         "type": "bar",
         "x": [
          "07/01",
          "07/02",
          "07/03",
          "07/04",
          "07/05",
          "07/06",
          "07/07",
          "07/08",
          "07/09",
          "07/10",
          "07/11",
          "07/12",
          "07/13",
          "07/14",
          "07/15",
          "07/16",
          "07/17",
          "07/18",
          "07/19",
          "07/20",
          "07/21",
          "07/22",
          "07/23",
          "07/24",
          "07/25",
          "07/26",
          "07/27",
          "07/28",
          "07/29",
          "07/30",
          "07/31",
          "08/01",
          "08/02",
          "08/03",
          "08/04",
          "08/05",
          "08/06",
          "08/07",
          "08/08",
          "08/09",
          "08/10",
          "08/11",
          "08/12",
          "08/13",
          "08/14",
          "08/15",
          "08/16",
          "08/17",
          "08/18",
          "08/19",
          "08/20",
          "08/21",
          "08/22",
          "08/23",
          "08/24",
          "08/25",
          "08/26",
          "08/27",
          "08/28",
          "08/29",
          "08/30",
          "08/31",
          "09/01",
          "09/02",
          "09/03",
          "09/04",
          "09/05",
          "09/06",
          "09/07",
          "09/08",
          "09/09",
          "09/10",
          "09/11",
          "09/12",
          "09/13",
          "09/14",
          "09/15",
          "09/16",
          "09/17",
          "09/18",
          "09/19",
          "09/20",
          "09/21",
          "09/22",
          "09/23",
          "09/24",
          "09/25",
          "09/26",
          "09/27",
          "09/28",
          "09/29",
          "09/30"
         ],
         "xaxis": "x",
         "y": [
          2,
          1,
          null,
          null,
          9,
          1,
          null,
          1,
          null,
          null,
          1,
          null,
          null,
          null,
          null,
          null,
          null,
          null,
          null,
          null,
          null,
          null,
          null,
          null,
          null,
          null,
          null,
          null,
          null,
          null,
          null,
          null,
          null,
          null,
          null,
          null,
          null,
          null,
          null,
          null,
          null,
          null,
          null,
          null,
          null,
          null,
          null,
          null,
          null,
          null,
          null,
          null,
          null,
          null,
          null,
          null,
          null,
          null,
          null,
          null,
          null,
          null,
          null,
          null,
          null,
          null,
          null,
          null,
          null,
          null,
          null,
          null,
          null,
          null,
          null,
          null,
          null,
          null,
          null,
          null,
          null,
          null,
          null,
          null,
          null,
          null,
          null,
          null,
          null,
          null,
          null,
          null
         ],
         "yaxis": "y"
        },
        {
         "alignmentgroup": "True",
         "hovertemplate": "Organizations Name=Savvi<br>Parcel Created At Date=%{x}<br>Total Number of Shipments=%{y}<extra></extra>",
         "legendgroup": "Savvi",
         "marker": {
          "color": "#E45756",
          "pattern": {
           "shape": ""
          }
         },
         "name": "Savvi",
         "offsetgroup": "Savvi",
         "orientation": "v",
         "showlegend": true,
         "textposition": "auto",
         "type": "bar",
         "x": [
          "07/01",
          "07/02",
          "07/03",
          "07/04",
          "07/05",
          "07/06",
          "07/07",
          "07/08",
          "07/09",
          "07/10",
          "07/11",
          "07/12",
          "07/13",
          "07/14",
          "07/15",
          "07/16",
          "07/17",
          "07/18",
          "07/19",
          "07/20",
          "07/21",
          "07/22",
          "07/23",
          "07/24",
          "07/25",
          "07/26",
          "07/27",
          "07/28",
          "07/29",
          "07/30",
          "07/31",
          "08/01",
          "08/02",
          "08/03",
          "08/04",
          "08/05",
          "08/06",
          "08/07",
          "08/08",
          "08/09",
          "08/10",
          "08/11",
          "08/12",
          "08/13",
          "08/14",
          "08/15",
          "08/16",
          "08/17",
          "08/18",
          "08/19",
          "08/20",
          "08/21",
          "08/22",
          "08/23",
          "08/24",
          "08/25",
          "08/26",
          "08/27",
          "08/28",
          "08/29",
          "08/30",
          "08/31",
          "09/01",
          "09/02",
          "09/03",
          "09/04",
          "09/05",
          "09/06",
          "09/07",
          "09/08",
          "09/09",
          "09/10",
          "09/11",
          "09/12",
          "09/13",
          "09/14",
          "09/15",
          "09/16",
          "09/17",
          "09/18",
          "09/19",
          "09/20",
          "09/21",
          "09/22",
          "09/23",
          "09/24",
          "09/25",
          "09/26",
          "09/27",
          "09/28",
          "09/29",
          "09/30"
         ],
         "xaxis": "x",
         "y": [
          null,
          null,
          null,
          null,
          null,
          null,
          null,
          null,
          null,
          null,
          null,
          null,
          null,
          null,
          null,
          null,
          null,
          null,
          null,
          null,
          null,
          null,
          null,
          null,
          null,
          null,
          null,
          null,
          null,
          null,
          null,
          null,
          null,
          null,
          null,
          null,
          null,
          null,
          null,
          null,
          null,
          null,
          null,
          null,
          null,
          null,
          null,
          null,
          null,
          null,
          null,
          null,
          null,
          null,
          null,
          null,
          null,
          null,
          null,
          null,
          null,
          null,
          null,
          null,
          null,
          null,
          null,
          null,
          null,
          null,
          null,
          307,
          null,
          null,
          1148,
          472,
          261,
          258,
          648,
          316,
          null,
          599,
          391,
          163,
          162,
          155,
          88,
          null,
          941,
          1122,
          684,
          587
         ],
         "yaxis": "y"
        },
        {
         "alignmentgroup": "True",
         "hovertemplate": "Organizations Name=Turning Point Brands<br>Parcel Created At Date=%{x}<br>Total Number of Shipments=%{y}<extra></extra>",
         "legendgroup": "Turning Point Brands",
         "marker": {
          "color": "#72B7B2",
          "pattern": {
           "shape": ""
          }
         },
         "name": "Turning Point Brands",
         "offsetgroup": "Turning Point Brands",
         "orientation": "v",
         "showlegend": true,
         "textposition": "auto",
         "type": "bar",
         "x": [
          "07/01",
          "07/02",
          "07/03",
          "07/04",
          "07/05",
          "07/06",
          "07/07",
          "07/08",
          "07/09",
          "07/10",
          "07/11",
          "07/12",
          "07/13",
          "07/14",
          "07/15",
          "07/16",
          "07/17",
          "07/18",
          "07/19",
          "07/20",
          "07/21",
          "07/22",
          "07/23",
          "07/24",
          "07/25",
          "07/26",
          "07/27",
          "07/28",
          "07/29",
          "07/30",
          "07/31",
          "08/01",
          "08/02",
          "08/03",
          "08/04",
          "08/05",
          "08/06",
          "08/07",
          "08/08",
          "08/09",
          "08/10",
          "08/11",
          "08/12",
          "08/13",
          "08/14",
          "08/15",
          "08/16",
          "08/17",
          "08/18",
          "08/19",
          "08/20",
          "08/21",
          "08/22",
          "08/23",
          "08/24",
          "08/25",
          "08/26",
          "08/27",
          "08/28",
          "08/29",
          "08/30",
          "08/31",
          "09/01",
          "09/02",
          "09/03",
          "09/04",
          "09/05",
          "09/06",
          "09/07",
          "09/08",
          "09/09",
          "09/10",
          "09/11",
          "09/12",
          "09/13",
          "09/14",
          "09/15",
          "09/16",
          "09/17",
          "09/18",
          "09/19",
          "09/20",
          "09/21",
          "09/22",
          "09/23",
          "09/24",
          "09/25",
          "09/26",
          "09/27",
          "09/28",
          "09/29",
          "09/30"
         ],
         "xaxis": "x",
         "y": [
          368,
          334,
          324,
          null,
          578,
          348,
          583,
          322,
          313,
          31,
          488,
          307,
          383,
          293,
          425,
          291,
          282,
          238,
          348,
          358,
          332,
          385,
          375,
          305,
          233,
          336,
          376,
          302,
          374,
          337,
          258,
          278,
          331,
          321,
          304,
          259,
          313,
          225,
          199,
          336,
          301,
          313,
          292,
          283,
          404,
          230,
          305,
          356,
          280,
          300,
          275,
          283,
          290,
          323,
          309,
          311,
          363,
          null,
          null,
          null,
          null,
          null,
          null,
          null,
          null,
          null,
          null,
          null,
          null,
          null,
          null,
          null,
          null,
          null,
          null,
          null,
          null,
          null,
          null,
          null,
          null,
          null,
          null,
          null,
          null,
          null,
          null,
          null,
          null,
          null,
          null,
          27
         ],
         "yaxis": "y"
        },
        {
         "alignmentgroup": "True",
         "hovertemplate": "Organizations Name=Turntable Labs<br>Parcel Created At Date=%{x}<br>Total Number of Shipments=%{y}<extra></extra>",
         "legendgroup": "Turntable Labs",
         "marker": {
          "color": "#54A24B",
          "pattern": {
           "shape": ""
          }
         },
         "name": "Turntable Labs",
         "offsetgroup": "Turntable Labs",
         "orientation": "v",
         "showlegend": true,
         "textposition": "auto",
         "type": "bar",
         "x": [
          "07/01",
          "07/02",
          "07/03",
          "07/04",
          "07/05",
          "07/06",
          "07/07",
          "07/08",
          "07/09",
          "07/10",
          "07/11",
          "07/12",
          "07/13",
          "07/14",
          "07/15",
          "07/16",
          "07/17",
          "07/18",
          "07/19",
          "07/20",
          "07/21",
          "07/22",
          "07/23",
          "07/24",
          "07/25",
          "07/26",
          "07/27",
          "07/28",
          "07/29",
          "07/30",
          "07/31",
          "08/01",
          "08/02",
          "08/03",
          "08/04",
          "08/05",
          "08/06",
          "08/07",
          "08/08",
          "08/09",
          "08/10",
          "08/11",
          "08/12",
          "08/13",
          "08/14",
          "08/15",
          "08/16",
          "08/17",
          "08/18",
          "08/19",
          "08/20",
          "08/21",
          "08/22",
          "08/23",
          "08/24",
          "08/25",
          "08/26",
          "08/27",
          "08/28",
          "08/29",
          "08/30",
          "08/31",
          "09/01",
          "09/02",
          "09/03",
          "09/04",
          "09/05",
          "09/06",
          "09/07",
          "09/08",
          "09/09",
          "09/10",
          "09/11",
          "09/12",
          "09/13",
          "09/14",
          "09/15",
          "09/16",
          "09/17",
          "09/18",
          "09/19",
          "09/20",
          "09/21",
          "09/22",
          "09/23",
          "09/24",
          "09/25",
          "09/26",
          "09/27",
          "09/28",
          "09/29",
          "09/30"
         ],
         "xaxis": "x",
         "y": [
          null,
          null,
          null,
          null,
          null,
          null,
          null,
          null,
          null,
          null,
          null,
          null,
          null,
          null,
          null,
          null,
          null,
          null,
          null,
          null,
          null,
          null,
          null,
          null,
          null,
          null,
          null,
          null,
          null,
          null,
          null,
          null,
          null,
          null,
          1,
          33,
          75,
          null,
          null,
          44,
          78,
          89,
          106,
          199,
          null,
          null,
          97,
          101,
          274,
          741,
          197,
          null,
          null,
          281,
          347,
          219,
          282,
          235,
          null,
          null,
          136,
          66,
          null,
          null,
          null,
          null,
          null,
          null,
          null,
          null,
          null,
          null,
          null,
          null,
          null,
          null,
          null,
          null,
          null,
          null,
          null,
          null,
          null,
          null,
          null,
          null,
          null,
          null,
          null,
          null,
          null,
          null
         ],
         "yaxis": "y"
        },
        {
         "alignmentgroup": "True",
         "hovertemplate": "Organizations Name=Windship Trading<br>Parcel Created At Date=%{x}<br>Total Number of Shipments=%{y}<extra></extra>",
         "legendgroup": "Windship Trading",
         "marker": {
          "color": "#EECA3B",
          "pattern": {
           "shape": ""
          }
         },
         "name": "Windship Trading",
         "offsetgroup": "Windship Trading",
         "orientation": "v",
         "showlegend": true,
         "textposition": "auto",
         "type": "bar",
         "x": [
          "07/01",
          "07/02",
          "07/03",
          "07/04",
          "07/05",
          "07/06",
          "07/07",
          "07/08",
          "07/09",
          "07/10",
          "07/11",
          "07/12",
          "07/13",
          "07/14",
          "07/15",
          "07/16",
          "07/17",
          "07/18",
          "07/19",
          "07/20",
          "07/21",
          "07/22",
          "07/23",
          "07/24",
          "07/25",
          "07/26",
          "07/27",
          "07/28",
          "07/29",
          "07/30",
          "07/31",
          "08/01",
          "08/02",
          "08/03",
          "08/04",
          "08/05",
          "08/06",
          "08/07",
          "08/08",
          "08/09",
          "08/10",
          "08/11",
          "08/12",
          "08/13",
          "08/14",
          "08/15",
          "08/16",
          "08/17",
          "08/18",
          "08/19",
          "08/20",
          "08/21",
          "08/22",
          "08/23",
          "08/24",
          "08/25",
          "08/26",
          "08/27",
          "08/28",
          "08/29",
          "08/30",
          "08/31",
          "09/01",
          "09/02",
          "09/03",
          "09/04",
          "09/05",
          "09/06",
          "09/07",
          "09/08",
          "09/09",
          "09/10",
          "09/11",
          "09/12",
          "09/13",
          "09/14",
          "09/15",
          "09/16",
          "09/17",
          "09/18",
          "09/19",
          "09/20",
          "09/21",
          "09/22",
          "09/23",
          "09/24",
          "09/25",
          "09/26",
          "09/27",
          "09/28",
          "09/29",
          "09/30"
         ],
         "xaxis": "x",
         "y": [
          null,
          null,
          null,
          null,
          null,
          null,
          null,
          null,
          null,
          null,
          null,
          null,
          null,
          null,
          null,
          null,
          null,
          null,
          null,
          null,
          null,
          1,
          null,
          null,
          null,
          null,
          null,
          null,
          null,
          null,
          null,
          null,
          null,
          null,
          null,
          null,
          null,
          null,
          null,
          null,
          null,
          null,
          null,
          null,
          null,
          null,
          null,
          null,
          null,
          null,
          null,
          null,
          null,
          null,
          null,
          null,
          null,
          null,
          null,
          null,
          null,
          null,
          null,
          null,
          null,
          null,
          null,
          null,
          null,
          null,
          null,
          null,
          null,
          null,
          null,
          null,
          null,
          null,
          null,
          null,
          null,
          null,
          null,
          null,
          null,
          null,
          null,
          null,
          null,
          null,
          null,
          null
         ],
         "yaxis": "y"
        }
       ],
       "layout": {
        "barmode": "stack",
        "height": 800,
        "legend": {
         "title": {
          "text": "Organizations Name"
         },
         "tracegroupgap": 0
        },
        "template": {
         "data": {
          "bar": [
           {
            "error_x": {
             "color": "#2a3f5f"
            },
            "error_y": {
             "color": "#2a3f5f"
            },
            "marker": {
             "line": {
              "color": "#E5ECF6",
              "width": 0.5
             },
             "pattern": {
              "fillmode": "overlay",
              "size": 10,
              "solidity": 0.2
             }
            },
            "type": "bar"
           }
          ],
          "barpolar": [
           {
            "marker": {
             "line": {
              "color": "#E5ECF6",
              "width": 0.5
             },
             "pattern": {
              "fillmode": "overlay",
              "size": 10,
              "solidity": 0.2
             }
            },
            "type": "barpolar"
           }
          ],
          "carpet": [
           {
            "aaxis": {
             "endlinecolor": "#2a3f5f",
             "gridcolor": "white",
             "linecolor": "white",
             "minorgridcolor": "white",
             "startlinecolor": "#2a3f5f"
            },
            "baxis": {
             "endlinecolor": "#2a3f5f",
             "gridcolor": "white",
             "linecolor": "white",
             "minorgridcolor": "white",
             "startlinecolor": "#2a3f5f"
            },
            "type": "carpet"
           }
          ],
          "choropleth": [
           {
            "colorbar": {
             "outlinewidth": 0,
             "ticks": ""
            },
            "type": "choropleth"
           }
          ],
          "contour": [
           {
            "colorbar": {
             "outlinewidth": 0,
             "ticks": ""
            },
            "colorscale": [
             [
              0,
              "#0d0887"
             ],
             [
              0.1111111111111111,
              "#46039f"
             ],
             [
              0.2222222222222222,
              "#7201a8"
             ],
             [
              0.3333333333333333,
              "#9c179e"
             ],
             [
              0.4444444444444444,
              "#bd3786"
             ],
             [
              0.5555555555555556,
              "#d8576b"
             ],
             [
              0.6666666666666666,
              "#ed7953"
             ],
             [
              0.7777777777777778,
              "#fb9f3a"
             ],
             [
              0.8888888888888888,
              "#fdca26"
             ],
             [
              1,
              "#f0f921"
             ]
            ],
            "type": "contour"
           }
          ],
          "contourcarpet": [
           {
            "colorbar": {
             "outlinewidth": 0,
             "ticks": ""
            },
            "type": "contourcarpet"
           }
          ],
          "heatmap": [
           {
            "colorbar": {
             "outlinewidth": 0,
             "ticks": ""
            },
            "colorscale": [
             [
              0,
              "#0d0887"
             ],
             [
              0.1111111111111111,
              "#46039f"
             ],
             [
              0.2222222222222222,
              "#7201a8"
             ],
             [
              0.3333333333333333,
              "#9c179e"
             ],
             [
              0.4444444444444444,
              "#bd3786"
             ],
             [
              0.5555555555555556,
              "#d8576b"
             ],
             [
              0.6666666666666666,
              "#ed7953"
             ],
             [
              0.7777777777777778,
              "#fb9f3a"
             ],
             [
              0.8888888888888888,
              "#fdca26"
             ],
             [
              1,
              "#f0f921"
             ]
            ],
            "type": "heatmap"
           }
          ],
          "heatmapgl": [
           {
            "colorbar": {
             "outlinewidth": 0,
             "ticks": ""
            },
            "colorscale": [
             [
              0,
              "#0d0887"
             ],
             [
              0.1111111111111111,
              "#46039f"
             ],
             [
              0.2222222222222222,
              "#7201a8"
             ],
             [
              0.3333333333333333,
              "#9c179e"
             ],
             [
              0.4444444444444444,
              "#bd3786"
             ],
             [
              0.5555555555555556,
              "#d8576b"
             ],
             [
              0.6666666666666666,
              "#ed7953"
             ],
             [
              0.7777777777777778,
              "#fb9f3a"
             ],
             [
              0.8888888888888888,
              "#fdca26"
             ],
             [
              1,
              "#f0f921"
             ]
            ],
            "type": "heatmapgl"
           }
          ],
          "histogram": [
           {
            "marker": {
             "pattern": {
              "fillmode": "overlay",
              "size": 10,
              "solidity": 0.2
             }
            },
            "type": "histogram"
           }
          ],
          "histogram2d": [
           {
            "colorbar": {
             "outlinewidth": 0,
             "ticks": ""
            },
            "colorscale": [
             [
              0,
              "#0d0887"
             ],
             [
              0.1111111111111111,
              "#46039f"
             ],
             [
              0.2222222222222222,
              "#7201a8"
             ],
             [
              0.3333333333333333,
              "#9c179e"
             ],
             [
              0.4444444444444444,
              "#bd3786"
             ],
             [
              0.5555555555555556,
              "#d8576b"
             ],
             [
              0.6666666666666666,
              "#ed7953"
             ],
             [
              0.7777777777777778,
              "#fb9f3a"
             ],
             [
              0.8888888888888888,
              "#fdca26"
             ],
             [
              1,
              "#f0f921"
             ]
            ],
            "type": "histogram2d"
           }
          ],
          "histogram2dcontour": [
           {
            "colorbar": {
             "outlinewidth": 0,
             "ticks": ""
            },
            "colorscale": [
             [
              0,
              "#0d0887"
             ],
             [
              0.1111111111111111,
              "#46039f"
             ],
             [
              0.2222222222222222,
              "#7201a8"
             ],
             [
              0.3333333333333333,
              "#9c179e"
             ],
             [
              0.4444444444444444,
              "#bd3786"
             ],
             [
              0.5555555555555556,
              "#d8576b"
             ],
             [
              0.6666666666666666,
              "#ed7953"
             ],
             [
              0.7777777777777778,
              "#fb9f3a"
             ],
             [
              0.8888888888888888,
              "#fdca26"
             ],
             [
              1,
              "#f0f921"
             ]
            ],
            "type": "histogram2dcontour"
           }
          ],
          "mesh3d": [
           {
            "colorbar": {
             "outlinewidth": 0,
             "ticks": ""
            },
            "type": "mesh3d"
           }
          ],
          "parcoords": [
           {
            "line": {
             "colorbar": {
              "outlinewidth": 0,
              "ticks": ""
             }
            },
            "type": "parcoords"
           }
          ],
          "pie": [
           {
            "automargin": true,
            "type": "pie"
           }
          ],
          "scatter": [
           {
            "marker": {
             "colorbar": {
              "outlinewidth": 0,
              "ticks": ""
             }
            },
            "type": "scatter"
           }
          ],
          "scatter3d": [
           {
            "line": {
             "colorbar": {
              "outlinewidth": 0,
              "ticks": ""
             }
            },
            "marker": {
             "colorbar": {
              "outlinewidth": 0,
              "ticks": ""
             }
            },
            "type": "scatter3d"
           }
          ],
          "scattercarpet": [
           {
            "marker": {
             "colorbar": {
              "outlinewidth": 0,
              "ticks": ""
             }
            },
            "type": "scattercarpet"
           }
          ],
          "scattergeo": [
           {
            "marker": {
             "colorbar": {
              "outlinewidth": 0,
              "ticks": ""
             }
            },
            "type": "scattergeo"
           }
          ],
          "scattergl": [
           {
            "marker": {
             "colorbar": {
              "outlinewidth": 0,
              "ticks": ""
             }
            },
            "type": "scattergl"
           }
          ],
          "scattermapbox": [
           {
            "marker": {
             "colorbar": {
              "outlinewidth": 0,
              "ticks": ""
             }
            },
            "type": "scattermapbox"
           }
          ],
          "scatterpolar": [
           {
            "marker": {
             "colorbar": {
              "outlinewidth": 0,
              "ticks": ""
             }
            },
            "type": "scatterpolar"
           }
          ],
          "scatterpolargl": [
           {
            "marker": {
             "colorbar": {
              "outlinewidth": 0,
              "ticks": ""
             }
            },
            "type": "scatterpolargl"
           }
          ],
          "scatterternary": [
           {
            "marker": {
             "colorbar": {
              "outlinewidth": 0,
              "ticks": ""
             }
            },
            "type": "scatterternary"
           }
          ],
          "surface": [
           {
            "colorbar": {
             "outlinewidth": 0,
             "ticks": ""
            },
            "colorscale": [
             [
              0,
              "#0d0887"
             ],
             [
              0.1111111111111111,
              "#46039f"
             ],
             [
              0.2222222222222222,
              "#7201a8"
             ],
             [
              0.3333333333333333,
              "#9c179e"
             ],
             [
              0.4444444444444444,
              "#bd3786"
             ],
             [
              0.5555555555555556,
              "#d8576b"
             ],
             [
              0.6666666666666666,
              "#ed7953"
             ],
             [
              0.7777777777777778,
              "#fb9f3a"
             ],
             [
              0.8888888888888888,
              "#fdca26"
             ],
             [
              1,
              "#f0f921"
             ]
            ],
            "type": "surface"
           }
          ],
          "table": [
           {
            "cells": {
             "fill": {
              "color": "#EBF0F8"
             },
             "line": {
              "color": "white"
             }
            },
            "header": {
             "fill": {
              "color": "#C8D4E3"
             },
             "line": {
              "color": "white"
             }
            },
            "type": "table"
           }
          ]
         },
         "layout": {
          "annotationdefaults": {
           "arrowcolor": "#2a3f5f",
           "arrowhead": 0,
           "arrowwidth": 1
          },
          "autotypenumbers": "strict",
          "coloraxis": {
           "colorbar": {
            "outlinewidth": 0,
            "ticks": ""
           }
          },
          "colorscale": {
           "diverging": [
            [
             0,
             "#8e0152"
            ],
            [
             0.1,
             "#c51b7d"
            ],
            [
             0.2,
             "#de77ae"
            ],
            [
             0.3,
             "#f1b6da"
            ],
            [
             0.4,
             "#fde0ef"
            ],
            [
             0.5,
             "#f7f7f7"
            ],
            [
             0.6,
             "#e6f5d0"
            ],
            [
             0.7,
             "#b8e186"
            ],
            [
             0.8,
             "#7fbc41"
            ],
            [
             0.9,
             "#4d9221"
            ],
            [
             1,
             "#276419"
            ]
           ],
           "sequential": [
            [
             0,
             "#0d0887"
            ],
            [
             0.1111111111111111,
             "#46039f"
            ],
            [
             0.2222222222222222,
             "#7201a8"
            ],
            [
             0.3333333333333333,
             "#9c179e"
            ],
            [
             0.4444444444444444,
             "#bd3786"
            ],
            [
             0.5555555555555556,
             "#d8576b"
            ],
            [
             0.6666666666666666,
             "#ed7953"
            ],
            [
             0.7777777777777778,
             "#fb9f3a"
            ],
            [
             0.8888888888888888,
             "#fdca26"
            ],
            [
             1,
             "#f0f921"
            ]
           ],
           "sequentialminus": [
            [
             0,
             "#0d0887"
            ],
            [
             0.1111111111111111,
             "#46039f"
            ],
            [
             0.2222222222222222,
             "#7201a8"
            ],
            [
             0.3333333333333333,
             "#9c179e"
            ],
            [
             0.4444444444444444,
             "#bd3786"
            ],
            [
             0.5555555555555556,
             "#d8576b"
            ],
            [
             0.6666666666666666,
             "#ed7953"
            ],
            [
             0.7777777777777778,
             "#fb9f3a"
            ],
            [
             0.8888888888888888,
             "#fdca26"
            ],
            [
             1,
             "#f0f921"
            ]
           ]
          },
          "colorway": [
           "#636efa",
           "#EF553B",
           "#00cc96",
           "#ab63fa",
           "#FFA15A",
           "#19d3f3",
           "#FF6692",
           "#B6E880",
           "#FF97FF",
           "#FECB52"
          ],
          "font": {
           "color": "#2a3f5f"
          },
          "geo": {
           "bgcolor": "white",
           "lakecolor": "white",
           "landcolor": "#E5ECF6",
           "showlakes": true,
           "showland": true,
           "subunitcolor": "white"
          },
          "hoverlabel": {
           "align": "left"
          },
          "hovermode": "closest",
          "mapbox": {
           "style": "light"
          },
          "paper_bgcolor": "white",
          "plot_bgcolor": "#E5ECF6",
          "polar": {
           "angularaxis": {
            "gridcolor": "white",
            "linecolor": "white",
            "ticks": ""
           },
           "bgcolor": "#E5ECF6",
           "radialaxis": {
            "gridcolor": "white",
            "linecolor": "white",
            "ticks": ""
           }
          },
          "scene": {
           "xaxis": {
            "backgroundcolor": "#E5ECF6",
            "gridcolor": "white",
            "gridwidth": 2,
            "linecolor": "white",
            "showbackground": true,
            "ticks": "",
            "zerolinecolor": "white"
           },
           "yaxis": {
            "backgroundcolor": "#E5ECF6",
            "gridcolor": "white",
            "gridwidth": 2,
            "linecolor": "white",
            "showbackground": true,
            "ticks": "",
            "zerolinecolor": "white"
           },
           "zaxis": {
            "backgroundcolor": "#E5ECF6",
            "gridcolor": "white",
            "gridwidth": 2,
            "linecolor": "white",
            "showbackground": true,
            "ticks": "",
            "zerolinecolor": "white"
           }
          },
          "shapedefaults": {
           "line": {
            "color": "#2a3f5f"
           }
          },
          "ternary": {
           "aaxis": {
            "gridcolor": "white",
            "linecolor": "white",
            "ticks": ""
           },
           "baxis": {
            "gridcolor": "white",
            "linecolor": "white",
            "ticks": ""
           },
           "bgcolor": "#E5ECF6",
           "caxis": {
            "gridcolor": "white",
            "linecolor": "white",
            "ticks": ""
           }
          },
          "title": {
           "x": 0.05
          },
          "xaxis": {
           "automargin": true,
           "gridcolor": "white",
           "linecolor": "white",
           "ticks": "",
           "title": {
            "standoff": 15
           },
           "zerolinecolor": "white",
           "zerolinewidth": 2
          },
          "yaxis": {
           "automargin": true,
           "gridcolor": "white",
           "linecolor": "white",
           "ticks": "",
           "title": {
            "standoff": 15
           },
           "zerolinecolor": "white",
           "zerolinewidth": 2
          }
         }
        },
        "title": {
         "text": "Number of Parcels Create Per Day"
        },
        "width": 1200,
        "xaxis": {
         "anchor": "y",
         "domain": [
          0,
          1
         ],
         "title": {
          "text": "Parcel Created At Date"
         }
        },
        "yaxis": {
         "anchor": "x",
         "domain": [
          0,
          1
         ],
         "title": {
          "text": "Total Number of Shipments"
         }
        }
       }
      },
      "text/html": [
       "<div>                            <div id=\"2bf0498f-353d-4ba6-b4da-76b0c93c7965\" class=\"plotly-graph-div\" style=\"height:800px; width:1200px;\"></div>            <script type=\"text/javascript\">                require([\"plotly\"], function(Plotly) {                    window.PLOTLYENV=window.PLOTLYENV || {};                                    if (document.getElementById(\"2bf0498f-353d-4ba6-b4da-76b0c93c7965\")) {                    Plotly.newPlot(                        \"2bf0498f-353d-4ba6-b4da-76b0c93c7965\",                        [{\"alignmentgroup\":\"True\",\"hovertemplate\":\"Organizations Name=BUKU Ship<br>Parcel Created At Date=%{x}<br>Total Number of Shipments=%{y}<extra></extra>\",\"legendgroup\":\"BUKU Ship\",\"marker\":{\"color\":\"#4C78A8\",\"pattern\":{\"shape\":\"\"}},\"name\":\"BUKU Ship\",\"offsetgroup\":\"BUKU Ship\",\"orientation\":\"v\",\"showlegend\":true,\"textposition\":\"auto\",\"type\":\"bar\",\"x\":[\"07/01\",\"07/02\",\"07/03\",\"07/04\",\"07/05\",\"07/06\",\"07/07\",\"07/08\",\"07/09\",\"07/10\",\"07/11\",\"07/12\",\"07/13\",\"07/14\",\"07/15\",\"07/16\",\"07/17\",\"07/18\",\"07/19\",\"07/20\",\"07/21\",\"07/22\",\"07/23\",\"07/24\",\"07/25\",\"07/26\",\"07/27\",\"07/28\",\"07/29\",\"07/30\",\"07/31\",\"08/01\",\"08/02\",\"08/03\",\"08/04\",\"08/05\",\"08/06\",\"08/07\",\"08/08\",\"08/09\",\"08/10\",\"08/11\",\"08/12\",\"08/13\",\"08/14\",\"08/15\",\"08/16\",\"08/17\",\"08/18\",\"08/19\",\"08/20\",\"08/21\",\"08/22\",\"08/23\",\"08/24\",\"08/25\",\"08/26\",\"08/27\",\"08/28\",\"08/29\",\"08/30\",\"08/31\",\"09/01\",\"09/02\",\"09/03\",\"09/04\",\"09/05\",\"09/06\",\"09/07\",\"09/08\",\"09/09\",\"09/10\",\"09/11\",\"09/12\",\"09/13\",\"09/14\",\"09/15\",\"09/16\",\"09/17\",\"09/18\",\"09/19\",\"09/20\",\"09/21\",\"09/22\",\"09/23\",\"09/24\",\"09/25\",\"09/26\",\"09/27\",\"09/28\",\"09/29\",\"09/30\"],\"xaxis\":\"x\",\"y\":[61.0,67.0,null,null,null,81.0,55.0,75.0,71.0,null,null,74.0,56.0,59.0,59.0,null,null,null,null,null,null,null,null,null,null,null,null,null,1.0,null,null,null,null,null,null,null,null,null,null,null,null,null,null,null,null,null,null,null,null,null,null,null,null,null,null,null,null,null,null,null,null,null,null,null,null,null,null,null,null,null,null,null,null,null,null,null,null,null,null,null,null,null,null,null,null,null,null,null,null,null,null,null],\"yaxis\":\"y\"},{\"alignmentgroup\":\"True\",\"hovertemplate\":\"Organizations Name=Breazy<br>Parcel Created At Date=%{x}<br>Total Number of Shipments=%{y}<extra></extra>\",\"legendgroup\":\"Breazy\",\"marker\":{\"color\":\"#F58518\",\"pattern\":{\"shape\":\"\"}},\"name\":\"Breazy\",\"offsetgroup\":\"Breazy\",\"orientation\":\"v\",\"showlegend\":true,\"textposition\":\"auto\",\"type\":\"bar\",\"x\":[\"07/01\",\"07/02\",\"07/03\",\"07/04\",\"07/05\",\"07/06\",\"07/07\",\"07/08\",\"07/09\",\"07/10\",\"07/11\",\"07/12\",\"07/13\",\"07/14\",\"07/15\",\"07/16\",\"07/17\",\"07/18\",\"07/19\",\"07/20\",\"07/21\",\"07/22\",\"07/23\",\"07/24\",\"07/25\",\"07/26\",\"07/27\",\"07/28\",\"07/29\",\"07/30\",\"07/31\",\"08/01\",\"08/02\",\"08/03\",\"08/04\",\"08/05\",\"08/06\",\"08/07\",\"08/08\",\"08/09\",\"08/10\",\"08/11\",\"08/12\",\"08/13\",\"08/14\",\"08/15\",\"08/16\",\"08/17\",\"08/18\",\"08/19\",\"08/20\",\"08/21\",\"08/22\",\"08/23\",\"08/24\",\"08/25\",\"08/26\",\"08/27\",\"08/28\",\"08/29\",\"08/30\",\"08/31\",\"09/01\",\"09/02\",\"09/03\",\"09/04\",\"09/05\",\"09/06\",\"09/07\",\"09/08\",\"09/09\",\"09/10\",\"09/11\",\"09/12\",\"09/13\",\"09/14\",\"09/15\",\"09/16\",\"09/17\",\"09/18\",\"09/19\",\"09/20\",\"09/21\",\"09/22\",\"09/23\",\"09/24\",\"09/25\",\"09/26\",\"09/27\",\"09/28\",\"09/29\",\"09/30\"],\"xaxis\":\"x\",\"y\":[24.0,null,null,null,50.0,13.0,28.0,17.0,17.0,null,null,40.0,null,null,null,null,null,null,36.0,19.0,null,45.0,null,null,null,34.0,17.0,5.0,27.0,null,null,null,50.0,null,23.0,26.0,2.0,null,null,50.0,null,25.0,26.0,null,null,null,50.0,null,49.0,null,9.0,null,null,40.0,null,39.0,null,null,null,null,null,null,null,null,null,null,null,null,null,null,null,null,null,null,null,null,null,null,null,null,null,null,null,null,null,null,null,null,null,null,null,null],\"yaxis\":\"y\"},{\"alignmentgroup\":\"True\",\"hovertemplate\":\"Organizations Name=BuiltBar<br>Parcel Created At Date=%{x}<br>Total Number of Shipments=%{y}<extra></extra>\",\"legendgroup\":\"BuiltBar\",\"marker\":{\"color\":\"#E45756\",\"pattern\":{\"shape\":\"\"}},\"name\":\"BuiltBar\",\"offsetgroup\":\"BuiltBar\",\"orientation\":\"v\",\"showlegend\":true,\"textposition\":\"auto\",\"type\":\"bar\",\"x\":[\"07/01\",\"07/02\",\"07/03\",\"07/04\",\"07/05\",\"07/06\",\"07/07\",\"07/08\",\"07/09\",\"07/10\",\"07/11\",\"07/12\",\"07/13\",\"07/14\",\"07/15\",\"07/16\",\"07/17\",\"07/18\",\"07/19\",\"07/20\",\"07/21\",\"07/22\",\"07/23\",\"07/24\",\"07/25\",\"07/26\",\"07/27\",\"07/28\",\"07/29\",\"07/30\",\"07/31\",\"08/01\",\"08/02\",\"08/03\",\"08/04\",\"08/05\",\"08/06\",\"08/07\",\"08/08\",\"08/09\",\"08/10\",\"08/11\",\"08/12\",\"08/13\",\"08/14\",\"08/15\",\"08/16\",\"08/17\",\"08/18\",\"08/19\",\"08/20\",\"08/21\",\"08/22\",\"08/23\",\"08/24\",\"08/25\",\"08/26\",\"08/27\",\"08/28\",\"08/29\",\"08/30\",\"08/31\",\"09/01\",\"09/02\",\"09/03\",\"09/04\",\"09/05\",\"09/06\",\"09/07\",\"09/08\",\"09/09\",\"09/10\",\"09/11\",\"09/12\",\"09/13\",\"09/14\",\"09/15\",\"09/16\",\"09/17\",\"09/18\",\"09/19\",\"09/20\",\"09/21\",\"09/22\",\"09/23\",\"09/24\",\"09/25\",\"09/26\",\"09/27\",\"09/28\",\"09/29\",\"09/30\"],\"xaxis\":\"x\",\"y\":[3916.0,4628.0,1198.0,null,null,3197.0,7435.0,7045.0,4540.0,1217.0,null,1714.0,4904.0,3808.0,5017.0,3730.0,1080.0,null,2673.0,4477.0,6741.0,4192.0,1605.0,1339.0,null,3766.0,4601.0,3805.0,2955.0,4547.0,867.0,null,2843.0,3148.0,1012.0,5556.0,7304.0,1560.0,null,3874.0,4272.0,6403.0,3391.0,3683.0,729.0,null,3752.0,4464.0,9604.0,5462.0,4970.0,747.0,null,2176.0,3778.0,3402.0,4048.0,6168.0,7502.0,null,4034.0,11272.0,2932.0,2692.0,3574.0,4062.0,null,null,4058.0,6250.0,3423.0,3580.0,1054.0,null,2659.0,4067.0,3453.0,4060.0,3132.0,515.0,null,4448.0,13879.0,10694.0,5164.0,8834.0,1823.0,null,5264.0,4371.0,7660.0,7571.0],\"yaxis\":\"y\"},{\"alignmentgroup\":\"True\",\"hovertemplate\":\"Organizations Name=Chirp<br>Parcel Created At Date=%{x}<br>Total Number of Shipments=%{y}<extra></extra>\",\"legendgroup\":\"Chirp\",\"marker\":{\"color\":\"#72B7B2\",\"pattern\":{\"shape\":\"\"}},\"name\":\"Chirp\",\"offsetgroup\":\"Chirp\",\"orientation\":\"v\",\"showlegend\":true,\"textposition\":\"auto\",\"type\":\"bar\",\"x\":[\"07/01\",\"07/02\",\"07/03\",\"07/04\",\"07/05\",\"07/06\",\"07/07\",\"07/08\",\"07/09\",\"07/10\",\"07/11\",\"07/12\",\"07/13\",\"07/14\",\"07/15\",\"07/16\",\"07/17\",\"07/18\",\"07/19\",\"07/20\",\"07/21\",\"07/22\",\"07/23\",\"07/24\",\"07/25\",\"07/26\",\"07/27\",\"07/28\",\"07/29\",\"07/30\",\"07/31\",\"08/01\",\"08/02\",\"08/03\",\"08/04\",\"08/05\",\"08/06\",\"08/07\",\"08/08\",\"08/09\",\"08/10\",\"08/11\",\"08/12\",\"08/13\",\"08/14\",\"08/15\",\"08/16\",\"08/17\",\"08/18\",\"08/19\",\"08/20\",\"08/21\",\"08/22\",\"08/23\",\"08/24\",\"08/25\",\"08/26\",\"08/27\",\"08/28\",\"08/29\",\"08/30\",\"08/31\",\"09/01\",\"09/02\",\"09/03\",\"09/04\",\"09/05\",\"09/06\",\"09/07\",\"09/08\",\"09/09\",\"09/10\",\"09/11\",\"09/12\",\"09/13\",\"09/14\",\"09/15\",\"09/16\",\"09/17\",\"09/18\",\"09/19\",\"09/20\",\"09/21\",\"09/22\",\"09/23\",\"09/24\",\"09/25\",\"09/26\",\"09/27\",\"09/28\",\"09/29\",\"09/30\"],\"xaxis\":\"x\",\"y\":[84.0,69.0,null,null,null,139.0,116.0,143.0,148.0,null,null,251.0,200.0,187.0,191.0,193.0,null,null,216.0,198.0,228.0,289.0,null,null,null,1329.0,382.0,356.0,318.0,332.0,null,null,3.0,null,null,null,null,null,null,null,null,null,null,null,null,null,null,null,null,null,null,null,null,null,null,null,null,null,null,null,null,null,null,null,null,null,null,null,null,null,null,null,null,null,null,null,null,null,null,null,null,null,null,null,null,null,null,null,null,null,null,null],\"yaxis\":\"y\"},{\"alignmentgroup\":\"True\",\"hovertemplate\":\"Organizations Name=Chukou1<br>Parcel Created At Date=%{x}<br>Total Number of Shipments=%{y}<extra></extra>\",\"legendgroup\":\"Chukou1\",\"marker\":{\"color\":\"#54A24B\",\"pattern\":{\"shape\":\"\"}},\"name\":\"Chukou1\",\"offsetgroup\":\"Chukou1\",\"orientation\":\"v\",\"showlegend\":true,\"textposition\":\"auto\",\"type\":\"bar\",\"x\":[\"07/01\",\"07/02\",\"07/03\",\"07/04\",\"07/05\",\"07/06\",\"07/07\",\"07/08\",\"07/09\",\"07/10\",\"07/11\",\"07/12\",\"07/13\",\"07/14\",\"07/15\",\"07/16\",\"07/17\",\"07/18\",\"07/19\",\"07/20\",\"07/21\",\"07/22\",\"07/23\",\"07/24\",\"07/25\",\"07/26\",\"07/27\",\"07/28\",\"07/29\",\"07/30\",\"07/31\",\"08/01\",\"08/02\",\"08/03\",\"08/04\",\"08/05\",\"08/06\",\"08/07\",\"08/08\",\"08/09\",\"08/10\",\"08/11\",\"08/12\",\"08/13\",\"08/14\",\"08/15\",\"08/16\",\"08/17\",\"08/18\",\"08/19\",\"08/20\",\"08/21\",\"08/22\",\"08/23\",\"08/24\",\"08/25\",\"08/26\",\"08/27\",\"08/28\",\"08/29\",\"08/30\",\"08/31\",\"09/01\",\"09/02\",\"09/03\",\"09/04\",\"09/05\",\"09/06\",\"09/07\",\"09/08\",\"09/09\",\"09/10\",\"09/11\",\"09/12\",\"09/13\",\"09/14\",\"09/15\",\"09/16\",\"09/17\",\"09/18\",\"09/19\",\"09/20\",\"09/21\",\"09/22\",\"09/23\",\"09/24\",\"09/25\",\"09/26\",\"09/27\",\"09/28\",\"09/29\",\"09/30\"],\"xaxis\":\"x\",\"y\":[null,null,null,null,null,null,null,null,null,null,null,null,null,null,null,null,null,null,null,null,null,null,null,null,null,null,null,null,null,null,null,null,null,null,null,null,null,null,null,null,null,null,null,null,null,null,null,null,null,4.0,31.0,7.0,3.0,189.0,36.0,38.0,53.0,40.0,5.0,8.0,66.0,44.0,27.0,26.0,39.0,6.0,3.0,100.0,43.0,38.0,41.0,40.0,null,null,null,null,null,null,null,null,null,null,null,null,null,null,null,null,null,null,null,null],\"yaxis\":\"y\"},{\"alignmentgroup\":\"True\",\"hovertemplate\":\"Organizations Name=Demand Group<br>Parcel Created At Date=%{x}<br>Total Number of Shipments=%{y}<extra></extra>\",\"legendgroup\":\"Demand Group\",\"marker\":{\"color\":\"#EECA3B\",\"pattern\":{\"shape\":\"\"}},\"name\":\"Demand Group\",\"offsetgroup\":\"Demand Group\",\"orientation\":\"v\",\"showlegend\":true,\"textposition\":\"auto\",\"type\":\"bar\",\"x\":[\"07/01\",\"07/02\",\"07/03\",\"07/04\",\"07/05\",\"07/06\",\"07/07\",\"07/08\",\"07/09\",\"07/10\",\"07/11\",\"07/12\",\"07/13\",\"07/14\",\"07/15\",\"07/16\",\"07/17\",\"07/18\",\"07/19\",\"07/20\",\"07/21\",\"07/22\",\"07/23\",\"07/24\",\"07/25\",\"07/26\",\"07/27\",\"07/28\",\"07/29\",\"07/30\",\"07/31\",\"08/01\",\"08/02\",\"08/03\",\"08/04\",\"08/05\",\"08/06\",\"08/07\",\"08/08\",\"08/09\",\"08/10\",\"08/11\",\"08/12\",\"08/13\",\"08/14\",\"08/15\",\"08/16\",\"08/17\",\"08/18\",\"08/19\",\"08/20\",\"08/21\",\"08/22\",\"08/23\",\"08/24\",\"08/25\",\"08/26\",\"08/27\",\"08/28\",\"08/29\",\"08/30\",\"08/31\",\"09/01\",\"09/02\",\"09/03\",\"09/04\",\"09/05\",\"09/06\",\"09/07\",\"09/08\",\"09/09\",\"09/10\",\"09/11\",\"09/12\",\"09/13\",\"09/14\",\"09/15\",\"09/16\",\"09/17\",\"09/18\",\"09/19\",\"09/20\",\"09/21\",\"09/22\",\"09/23\",\"09/24\",\"09/25\",\"09/26\",\"09/27\",\"09/28\",\"09/29\",\"09/30\"],\"xaxis\":\"x\",\"y\":[null,null,null,null,null,20.0,null,149.0,361.0,null,null,331.0,91.0,89.0,255.0,65.0,null,null,152.0,70.0,68.0,217.0,49.0,null,null,14.0,6.0,11.0,26.0,50.0,null,null,148.0,84.0,111.0,178.0,203.0,null,null,129.0,141.0,129.0,264.0,85.0,null,null,194.0,71.0,103.0,282.0,83.0,null,null,113.0,220.0,105.0,254.0,61.0,null,null,95.0,79.0,null,266.0,75.0,44.0,null,null,185.0,78.0,278.0,65.0,null,null,142.0,null,112.0,262.0,55.0,null,null,118.0,86.0,95.0,259.0,179.0,null,null,242.0,70.0,70.0,265.0],\"yaxis\":\"y\"},{\"alignmentgroup\":\"True\",\"hovertemplate\":\"Organizations Name=Designer Brands - DSW<br>Parcel Created At Date=%{x}<br>Total Number of Shipments=%{y}<extra></extra>\",\"legendgroup\":\"Designer Brands - DSW\",\"marker\":{\"color\":\"#B279A2\",\"pattern\":{\"shape\":\"\"}},\"name\":\"Designer Brands - DSW\",\"offsetgroup\":\"Designer Brands - DSW\",\"orientation\":\"v\",\"showlegend\":true,\"textposition\":\"auto\",\"type\":\"bar\",\"x\":[\"07/01\",\"07/02\",\"07/03\",\"07/04\",\"07/05\",\"07/06\",\"07/07\",\"07/08\",\"07/09\",\"07/10\",\"07/11\",\"07/12\",\"07/13\",\"07/14\",\"07/15\",\"07/16\",\"07/17\",\"07/18\",\"07/19\",\"07/20\",\"07/21\",\"07/22\",\"07/23\",\"07/24\",\"07/25\",\"07/26\",\"07/27\",\"07/28\",\"07/29\",\"07/30\",\"07/31\",\"08/01\",\"08/02\",\"08/03\",\"08/04\",\"08/05\",\"08/06\",\"08/07\",\"08/08\",\"08/09\",\"08/10\",\"08/11\",\"08/12\",\"08/13\",\"08/14\",\"08/15\",\"08/16\",\"08/17\",\"08/18\",\"08/19\",\"08/20\",\"08/21\",\"08/22\",\"08/23\",\"08/24\",\"08/25\",\"08/26\",\"08/27\",\"08/28\",\"08/29\",\"08/30\",\"08/31\",\"09/01\",\"09/02\",\"09/03\",\"09/04\",\"09/05\",\"09/06\",\"09/07\",\"09/08\",\"09/09\",\"09/10\",\"09/11\",\"09/12\",\"09/13\",\"09/14\",\"09/15\",\"09/16\",\"09/17\",\"09/18\",\"09/19\",\"09/20\",\"09/21\",\"09/22\",\"09/23\",\"09/24\",\"09/25\",\"09/26\",\"09/27\",\"09/28\",\"09/29\",\"09/30\"],\"xaxis\":\"x\",\"y\":[null,null,null,null,null,null,null,null,null,null,null,null,null,null,null,null,null,null,null,null,null,null,null,null,null,null,null,null,null,null,null,null,null,null,null,null,null,null,null,null,null,null,null,null,null,null,null,null,null,null,null,null,null,null,null,null,null,null,null,null,null,null,null,null,null,null,null,null,null,2.0,null,null,null,null,null,null,null,null,null,null,null,null,null,null,null,null,null,null,null,null,null,null],\"yaxis\":\"y\"},{\"alignmentgroup\":\"True\",\"hovertemplate\":\"Organizations Name=EightCig<br>Parcel Created At Date=%{x}<br>Total Number of Shipments=%{y}<extra></extra>\",\"legendgroup\":\"EightCig\",\"marker\":{\"color\":\"#FF9DA6\",\"pattern\":{\"shape\":\"\"}},\"name\":\"EightCig\",\"offsetgroup\":\"EightCig\",\"orientation\":\"v\",\"showlegend\":true,\"textposition\":\"auto\",\"type\":\"bar\",\"x\":[\"07/01\",\"07/02\",\"07/03\",\"07/04\",\"07/05\",\"07/06\",\"07/07\",\"07/08\",\"07/09\",\"07/10\",\"07/11\",\"07/12\",\"07/13\",\"07/14\",\"07/15\",\"07/16\",\"07/17\",\"07/18\",\"07/19\",\"07/20\",\"07/21\",\"07/22\",\"07/23\",\"07/24\",\"07/25\",\"07/26\",\"07/27\",\"07/28\",\"07/29\",\"07/30\",\"07/31\",\"08/01\",\"08/02\",\"08/03\",\"08/04\",\"08/05\",\"08/06\",\"08/07\",\"08/08\",\"08/09\",\"08/10\",\"08/11\",\"08/12\",\"08/13\",\"08/14\",\"08/15\",\"08/16\",\"08/17\",\"08/18\",\"08/19\",\"08/20\",\"08/21\",\"08/22\",\"08/23\",\"08/24\",\"08/25\",\"08/26\",\"08/27\",\"08/28\",\"08/29\",\"08/30\",\"08/31\",\"09/01\",\"09/02\",\"09/03\",\"09/04\",\"09/05\",\"09/06\",\"09/07\",\"09/08\",\"09/09\",\"09/10\",\"09/11\",\"09/12\",\"09/13\",\"09/14\",\"09/15\",\"09/16\",\"09/17\",\"09/18\",\"09/19\",\"09/20\",\"09/21\",\"09/22\",\"09/23\",\"09/24\",\"09/25\",\"09/26\",\"09/27\",\"09/28\",\"09/29\",\"09/30\"],\"xaxis\":\"x\",\"y\":[null,null,null,null,null,null,null,null,null,null,null,null,null,null,null,null,null,null,null,null,null,null,null,null,null,null,null,null,50.0,null,null,null,null,null,null,null,null,null,null,null,null,null,null,null,null,null,null,null,null,null,null,null,null,null,null,null,null,null,null,null,null,null,null,null,null,null,null,null,null,null,null,null,null,null,null,null,null,null,null,null,null,null,null,null,null,null,null,null,null,null,null,null],\"yaxis\":\"y\"},{\"alignmentgroup\":\"True\",\"hovertemplate\":\"Organizations Name=Electric Tobacconist<br>Parcel Created At Date=%{x}<br>Total Number of Shipments=%{y}<extra></extra>\",\"legendgroup\":\"Electric Tobacconist\",\"marker\":{\"color\":\"#9D755D\",\"pattern\":{\"shape\":\"\"}},\"name\":\"Electric Tobacconist\",\"offsetgroup\":\"Electric Tobacconist\",\"orientation\":\"v\",\"showlegend\":true,\"textposition\":\"auto\",\"type\":\"bar\",\"x\":[\"07/01\",\"07/02\",\"07/03\",\"07/04\",\"07/05\",\"07/06\",\"07/07\",\"07/08\",\"07/09\",\"07/10\",\"07/11\",\"07/12\",\"07/13\",\"07/14\",\"07/15\",\"07/16\",\"07/17\",\"07/18\",\"07/19\",\"07/20\",\"07/21\",\"07/22\",\"07/23\",\"07/24\",\"07/25\",\"07/26\",\"07/27\",\"07/28\",\"07/29\",\"07/30\",\"07/31\",\"08/01\",\"08/02\",\"08/03\",\"08/04\",\"08/05\",\"08/06\",\"08/07\",\"08/08\",\"08/09\",\"08/10\",\"08/11\",\"08/12\",\"08/13\",\"08/14\",\"08/15\",\"08/16\",\"08/17\",\"08/18\",\"08/19\",\"08/20\",\"08/21\",\"08/22\",\"08/23\",\"08/24\",\"08/25\",\"08/26\",\"08/27\",\"08/28\",\"08/29\",\"08/30\",\"08/31\",\"09/01\",\"09/02\",\"09/03\",\"09/04\",\"09/05\",\"09/06\",\"09/07\",\"09/08\",\"09/09\",\"09/10\",\"09/11\",\"09/12\",\"09/13\",\"09/14\",\"09/15\",\"09/16\",\"09/17\",\"09/18\",\"09/19\",\"09/20\",\"09/21\",\"09/22\",\"09/23\",\"09/24\",\"09/25\",\"09/26\",\"09/27\",\"09/28\",\"09/29\",\"09/30\"],\"xaxis\":\"x\",\"y\":[104.0,126.0,96.0,87.0,106.0,120.0,124.0,128.0,98.0,74.0,81.0,125.0,122.0,114.0,110.0,120.0,76.0,88.0,97.0,123.0,113.0,127.0,96.0,69.0,89.0,119.0,112.0,113.0,122.0,128.0,86.0,98.0,146.0,110.0,117.0,125.0,112.0,61.0,78.0,130.0,136.0,98.0,96.0,116.0,77.0,80.0,108.0,114.0,102.0,105.0,111.0,63.0,80.0,108.0,109.0,128.0,122.0,111.0,87.0,75.0,101.0,102.0,97.0,127.0,119.0,108.0,86.0,82.0,131.0,100.0,124.0,126.0,105.0,84.0,99.0,89.0,90.0,104.0,133.0,87.0,92.0,107.0,114.0,111.0,97.0,167.0,126.0,108.0,171.0,109.0,111.0,83.0],\"yaxis\":\"y\"},{\"alignmentgroup\":\"True\",\"hovertemplate\":\"Organizations Name=Element Vape - Buku<br>Parcel Created At Date=%{x}<br>Total Number of Shipments=%{y}<extra></extra>\",\"legendgroup\":\"Element Vape - Buku\",\"marker\":{\"color\":\"#BAB0AC\",\"pattern\":{\"shape\":\"\"}},\"name\":\"Element Vape - Buku\",\"offsetgroup\":\"Element Vape - Buku\",\"orientation\":\"v\",\"showlegend\":true,\"textposition\":\"auto\",\"type\":\"bar\",\"x\":[\"07/01\",\"07/02\",\"07/03\",\"07/04\",\"07/05\",\"07/06\",\"07/07\",\"07/08\",\"07/09\",\"07/10\",\"07/11\",\"07/12\",\"07/13\",\"07/14\",\"07/15\",\"07/16\",\"07/17\",\"07/18\",\"07/19\",\"07/20\",\"07/21\",\"07/22\",\"07/23\",\"07/24\",\"07/25\",\"07/26\",\"07/27\",\"07/28\",\"07/29\",\"07/30\",\"07/31\",\"08/01\",\"08/02\",\"08/03\",\"08/04\",\"08/05\",\"08/06\",\"08/07\",\"08/08\",\"08/09\",\"08/10\",\"08/11\",\"08/12\",\"08/13\",\"08/14\",\"08/15\",\"08/16\",\"08/17\",\"08/18\",\"08/19\",\"08/20\",\"08/21\",\"08/22\",\"08/23\",\"08/24\",\"08/25\",\"08/26\",\"08/27\",\"08/28\",\"08/29\",\"08/30\",\"08/31\",\"09/01\",\"09/02\",\"09/03\",\"09/04\",\"09/05\",\"09/06\",\"09/07\",\"09/08\",\"09/09\",\"09/10\",\"09/11\",\"09/12\",\"09/13\",\"09/14\",\"09/15\",\"09/16\",\"09/17\",\"09/18\",\"09/19\",\"09/20\",\"09/21\",\"09/22\",\"09/23\",\"09/24\",\"09/25\",\"09/26\",\"09/27\",\"09/28\",\"09/29\",\"09/30\"],\"xaxis\":\"x\",\"y\":[null,null,null,null,null,null,null,null,null,null,null,null,null,null,null,295.0,null,null,284.0,null,null,null,277.0,null,null,249.0,null,277.0,null,275.0,null,null,299.0,null,304.0,null,312.0,null,null,297.0,null,317.0,null,295.0,null,null,286.0,null,329.0,null,278.0,null,null,311.0,null,277.0,null,null,null,null,null,null,null,null,null,null,null,null,null,null,null,null,null,null,null,null,275.0,null,194.0,null,null,337.0,null,224.0,null,400.0,null,null,471.0,null,207.0,null],\"yaxis\":\"y\"},{\"alignmentgroup\":\"True\",\"hovertemplate\":\"Organizations Name=Glas Inc<br>Parcel Created At Date=%{x}<br>Total Number of Shipments=%{y}<extra></extra>\",\"legendgroup\":\"Glas Inc\",\"marker\":{\"color\":\"#4C78A8\",\"pattern\":{\"shape\":\"\"}},\"name\":\"Glas Inc\",\"offsetgroup\":\"Glas Inc\",\"orientation\":\"v\",\"showlegend\":true,\"textposition\":\"auto\",\"type\":\"bar\",\"x\":[\"07/01\",\"07/02\",\"07/03\",\"07/04\",\"07/05\",\"07/06\",\"07/07\",\"07/08\",\"07/09\",\"07/10\",\"07/11\",\"07/12\",\"07/13\",\"07/14\",\"07/15\",\"07/16\",\"07/17\",\"07/18\",\"07/19\",\"07/20\",\"07/21\",\"07/22\",\"07/23\",\"07/24\",\"07/25\",\"07/26\",\"07/27\",\"07/28\",\"07/29\",\"07/30\",\"07/31\",\"08/01\",\"08/02\",\"08/03\",\"08/04\",\"08/05\",\"08/06\",\"08/07\",\"08/08\",\"08/09\",\"08/10\",\"08/11\",\"08/12\",\"08/13\",\"08/14\",\"08/15\",\"08/16\",\"08/17\",\"08/18\",\"08/19\",\"08/20\",\"08/21\",\"08/22\",\"08/23\",\"08/24\",\"08/25\",\"08/26\",\"08/27\",\"08/28\",\"08/29\",\"08/30\",\"08/31\",\"09/01\",\"09/02\",\"09/03\",\"09/04\",\"09/05\",\"09/06\",\"09/07\",\"09/08\",\"09/09\",\"09/10\",\"09/11\",\"09/12\",\"09/13\",\"09/14\",\"09/15\",\"09/16\",\"09/17\",\"09/18\",\"09/19\",\"09/20\",\"09/21\",\"09/22\",\"09/23\",\"09/24\",\"09/25\",\"09/26\",\"09/27\",\"09/28\",\"09/29\",\"09/30\"],\"xaxis\":\"x\",\"y\":[5.0,5.0,null,null,null,30.0,25.0,null,null,null,null,null,null,null,null,null,null,null,null,null,null,null,null,null,null,null,null,null,null,null,null,null,null,null,null,null,null,null,null,null,null,null,null,null,null,null,null,null,null,null,null,null,null,null,null,null,null,null,null,null,null,null,null,null,null,null,null,null,null,null,null,null,null,null,null,null,null,null,null,null,null,null,null,null,null,null,null,null,null,null,null,null],\"yaxis\":\"y\"},{\"alignmentgroup\":\"True\",\"hovertemplate\":\"Organizations Name=Mad Vapes<br>Parcel Created At Date=%{x}<br>Total Number of Shipments=%{y}<extra></extra>\",\"legendgroup\":\"Mad Vapes\",\"marker\":{\"color\":\"#F58518\",\"pattern\":{\"shape\":\"\"}},\"name\":\"Mad Vapes\",\"offsetgroup\":\"Mad Vapes\",\"orientation\":\"v\",\"showlegend\":true,\"textposition\":\"auto\",\"type\":\"bar\",\"x\":[\"07/01\",\"07/02\",\"07/03\",\"07/04\",\"07/05\",\"07/06\",\"07/07\",\"07/08\",\"07/09\",\"07/10\",\"07/11\",\"07/12\",\"07/13\",\"07/14\",\"07/15\",\"07/16\",\"07/17\",\"07/18\",\"07/19\",\"07/20\",\"07/21\",\"07/22\",\"07/23\",\"07/24\",\"07/25\",\"07/26\",\"07/27\",\"07/28\",\"07/29\",\"07/30\",\"07/31\",\"08/01\",\"08/02\",\"08/03\",\"08/04\",\"08/05\",\"08/06\",\"08/07\",\"08/08\",\"08/09\",\"08/10\",\"08/11\",\"08/12\",\"08/13\",\"08/14\",\"08/15\",\"08/16\",\"08/17\",\"08/18\",\"08/19\",\"08/20\",\"08/21\",\"08/22\",\"08/23\",\"08/24\",\"08/25\",\"08/26\",\"08/27\",\"08/28\",\"08/29\",\"08/30\",\"08/31\",\"09/01\",\"09/02\",\"09/03\",\"09/04\",\"09/05\",\"09/06\",\"09/07\",\"09/08\",\"09/09\",\"09/10\",\"09/11\",\"09/12\",\"09/13\",\"09/14\",\"09/15\",\"09/16\",\"09/17\",\"09/18\",\"09/19\",\"09/20\",\"09/21\",\"09/22\",\"09/23\",\"09/24\",\"09/25\",\"09/26\",\"09/27\",\"09/28\",\"09/29\",\"09/30\"],\"xaxis\":\"x\",\"y\":[2.0,1.0,null,null,9.0,1.0,null,1.0,null,null,1.0,null,null,null,null,null,null,null,null,null,null,null,null,null,null,null,null,null,null,null,null,null,null,null,null,null,null,null,null,null,null,null,null,null,null,null,null,null,null,null,null,null,null,null,null,null,null,null,null,null,null,null,null,null,null,null,null,null,null,null,null,null,null,null,null,null,null,null,null,null,null,null,null,null,null,null,null,null,null,null,null,null],\"yaxis\":\"y\"},{\"alignmentgroup\":\"True\",\"hovertemplate\":\"Organizations Name=Savvi<br>Parcel Created At Date=%{x}<br>Total Number of Shipments=%{y}<extra></extra>\",\"legendgroup\":\"Savvi\",\"marker\":{\"color\":\"#E45756\",\"pattern\":{\"shape\":\"\"}},\"name\":\"Savvi\",\"offsetgroup\":\"Savvi\",\"orientation\":\"v\",\"showlegend\":true,\"textposition\":\"auto\",\"type\":\"bar\",\"x\":[\"07/01\",\"07/02\",\"07/03\",\"07/04\",\"07/05\",\"07/06\",\"07/07\",\"07/08\",\"07/09\",\"07/10\",\"07/11\",\"07/12\",\"07/13\",\"07/14\",\"07/15\",\"07/16\",\"07/17\",\"07/18\",\"07/19\",\"07/20\",\"07/21\",\"07/22\",\"07/23\",\"07/24\",\"07/25\",\"07/26\",\"07/27\",\"07/28\",\"07/29\",\"07/30\",\"07/31\",\"08/01\",\"08/02\",\"08/03\",\"08/04\",\"08/05\",\"08/06\",\"08/07\",\"08/08\",\"08/09\",\"08/10\",\"08/11\",\"08/12\",\"08/13\",\"08/14\",\"08/15\",\"08/16\",\"08/17\",\"08/18\",\"08/19\",\"08/20\",\"08/21\",\"08/22\",\"08/23\",\"08/24\",\"08/25\",\"08/26\",\"08/27\",\"08/28\",\"08/29\",\"08/30\",\"08/31\",\"09/01\",\"09/02\",\"09/03\",\"09/04\",\"09/05\",\"09/06\",\"09/07\",\"09/08\",\"09/09\",\"09/10\",\"09/11\",\"09/12\",\"09/13\",\"09/14\",\"09/15\",\"09/16\",\"09/17\",\"09/18\",\"09/19\",\"09/20\",\"09/21\",\"09/22\",\"09/23\",\"09/24\",\"09/25\",\"09/26\",\"09/27\",\"09/28\",\"09/29\",\"09/30\"],\"xaxis\":\"x\",\"y\":[null,null,null,null,null,null,null,null,null,null,null,null,null,null,null,null,null,null,null,null,null,null,null,null,null,null,null,null,null,null,null,null,null,null,null,null,null,null,null,null,null,null,null,null,null,null,null,null,null,null,null,null,null,null,null,null,null,null,null,null,null,null,null,null,null,null,null,null,null,null,null,307.0,null,null,1148.0,472.0,261.0,258.0,648.0,316.0,null,599.0,391.0,163.0,162.0,155.0,88.0,null,941.0,1122.0,684.0,587.0],\"yaxis\":\"y\"},{\"alignmentgroup\":\"True\",\"hovertemplate\":\"Organizations Name=Turning Point Brands<br>Parcel Created At Date=%{x}<br>Total Number of Shipments=%{y}<extra></extra>\",\"legendgroup\":\"Turning Point Brands\",\"marker\":{\"color\":\"#72B7B2\",\"pattern\":{\"shape\":\"\"}},\"name\":\"Turning Point Brands\",\"offsetgroup\":\"Turning Point Brands\",\"orientation\":\"v\",\"showlegend\":true,\"textposition\":\"auto\",\"type\":\"bar\",\"x\":[\"07/01\",\"07/02\",\"07/03\",\"07/04\",\"07/05\",\"07/06\",\"07/07\",\"07/08\",\"07/09\",\"07/10\",\"07/11\",\"07/12\",\"07/13\",\"07/14\",\"07/15\",\"07/16\",\"07/17\",\"07/18\",\"07/19\",\"07/20\",\"07/21\",\"07/22\",\"07/23\",\"07/24\",\"07/25\",\"07/26\",\"07/27\",\"07/28\",\"07/29\",\"07/30\",\"07/31\",\"08/01\",\"08/02\",\"08/03\",\"08/04\",\"08/05\",\"08/06\",\"08/07\",\"08/08\",\"08/09\",\"08/10\",\"08/11\",\"08/12\",\"08/13\",\"08/14\",\"08/15\",\"08/16\",\"08/17\",\"08/18\",\"08/19\",\"08/20\",\"08/21\",\"08/22\",\"08/23\",\"08/24\",\"08/25\",\"08/26\",\"08/27\",\"08/28\",\"08/29\",\"08/30\",\"08/31\",\"09/01\",\"09/02\",\"09/03\",\"09/04\",\"09/05\",\"09/06\",\"09/07\",\"09/08\",\"09/09\",\"09/10\",\"09/11\",\"09/12\",\"09/13\",\"09/14\",\"09/15\",\"09/16\",\"09/17\",\"09/18\",\"09/19\",\"09/20\",\"09/21\",\"09/22\",\"09/23\",\"09/24\",\"09/25\",\"09/26\",\"09/27\",\"09/28\",\"09/29\",\"09/30\"],\"xaxis\":\"x\",\"y\":[368.0,334.0,324.0,null,578.0,348.0,583.0,322.0,313.0,31.0,488.0,307.0,383.0,293.0,425.0,291.0,282.0,238.0,348.0,358.0,332.0,385.0,375.0,305.0,233.0,336.0,376.0,302.0,374.0,337.0,258.0,278.0,331.0,321.0,304.0,259.0,313.0,225.0,199.0,336.0,301.0,313.0,292.0,283.0,404.0,230.0,305.0,356.0,280.0,300.0,275.0,283.0,290.0,323.0,309.0,311.0,363.0,null,null,null,null,null,null,null,null,null,null,null,null,null,null,null,null,null,null,null,null,null,null,null,null,null,null,null,null,null,null,null,null,null,null,27.0],\"yaxis\":\"y\"},{\"alignmentgroup\":\"True\",\"hovertemplate\":\"Organizations Name=Turntable Labs<br>Parcel Created At Date=%{x}<br>Total Number of Shipments=%{y}<extra></extra>\",\"legendgroup\":\"Turntable Labs\",\"marker\":{\"color\":\"#54A24B\",\"pattern\":{\"shape\":\"\"}},\"name\":\"Turntable Labs\",\"offsetgroup\":\"Turntable Labs\",\"orientation\":\"v\",\"showlegend\":true,\"textposition\":\"auto\",\"type\":\"bar\",\"x\":[\"07/01\",\"07/02\",\"07/03\",\"07/04\",\"07/05\",\"07/06\",\"07/07\",\"07/08\",\"07/09\",\"07/10\",\"07/11\",\"07/12\",\"07/13\",\"07/14\",\"07/15\",\"07/16\",\"07/17\",\"07/18\",\"07/19\",\"07/20\",\"07/21\",\"07/22\",\"07/23\",\"07/24\",\"07/25\",\"07/26\",\"07/27\",\"07/28\",\"07/29\",\"07/30\",\"07/31\",\"08/01\",\"08/02\",\"08/03\",\"08/04\",\"08/05\",\"08/06\",\"08/07\",\"08/08\",\"08/09\",\"08/10\",\"08/11\",\"08/12\",\"08/13\",\"08/14\",\"08/15\",\"08/16\",\"08/17\",\"08/18\",\"08/19\",\"08/20\",\"08/21\",\"08/22\",\"08/23\",\"08/24\",\"08/25\",\"08/26\",\"08/27\",\"08/28\",\"08/29\",\"08/30\",\"08/31\",\"09/01\",\"09/02\",\"09/03\",\"09/04\",\"09/05\",\"09/06\",\"09/07\",\"09/08\",\"09/09\",\"09/10\",\"09/11\",\"09/12\",\"09/13\",\"09/14\",\"09/15\",\"09/16\",\"09/17\",\"09/18\",\"09/19\",\"09/20\",\"09/21\",\"09/22\",\"09/23\",\"09/24\",\"09/25\",\"09/26\",\"09/27\",\"09/28\",\"09/29\",\"09/30\"],\"xaxis\":\"x\",\"y\":[null,null,null,null,null,null,null,null,null,null,null,null,null,null,null,null,null,null,null,null,null,null,null,null,null,null,null,null,null,null,null,null,null,null,1.0,33.0,75.0,null,null,44.0,78.0,89.0,106.0,199.0,null,null,97.0,101.0,274.0,741.0,197.0,null,null,281.0,347.0,219.0,282.0,235.0,null,null,136.0,66.0,null,null,null,null,null,null,null,null,null,null,null,null,null,null,null,null,null,null,null,null,null,null,null,null,null,null,null,null,null,null],\"yaxis\":\"y\"},{\"alignmentgroup\":\"True\",\"hovertemplate\":\"Organizations Name=Windship Trading<br>Parcel Created At Date=%{x}<br>Total Number of Shipments=%{y}<extra></extra>\",\"legendgroup\":\"Windship Trading\",\"marker\":{\"color\":\"#EECA3B\",\"pattern\":{\"shape\":\"\"}},\"name\":\"Windship Trading\",\"offsetgroup\":\"Windship Trading\",\"orientation\":\"v\",\"showlegend\":true,\"textposition\":\"auto\",\"type\":\"bar\",\"x\":[\"07/01\",\"07/02\",\"07/03\",\"07/04\",\"07/05\",\"07/06\",\"07/07\",\"07/08\",\"07/09\",\"07/10\",\"07/11\",\"07/12\",\"07/13\",\"07/14\",\"07/15\",\"07/16\",\"07/17\",\"07/18\",\"07/19\",\"07/20\",\"07/21\",\"07/22\",\"07/23\",\"07/24\",\"07/25\",\"07/26\",\"07/27\",\"07/28\",\"07/29\",\"07/30\",\"07/31\",\"08/01\",\"08/02\",\"08/03\",\"08/04\",\"08/05\",\"08/06\",\"08/07\",\"08/08\",\"08/09\",\"08/10\",\"08/11\",\"08/12\",\"08/13\",\"08/14\",\"08/15\",\"08/16\",\"08/17\",\"08/18\",\"08/19\",\"08/20\",\"08/21\",\"08/22\",\"08/23\",\"08/24\",\"08/25\",\"08/26\",\"08/27\",\"08/28\",\"08/29\",\"08/30\",\"08/31\",\"09/01\",\"09/02\",\"09/03\",\"09/04\",\"09/05\",\"09/06\",\"09/07\",\"09/08\",\"09/09\",\"09/10\",\"09/11\",\"09/12\",\"09/13\",\"09/14\",\"09/15\",\"09/16\",\"09/17\",\"09/18\",\"09/19\",\"09/20\",\"09/21\",\"09/22\",\"09/23\",\"09/24\",\"09/25\",\"09/26\",\"09/27\",\"09/28\",\"09/29\",\"09/30\"],\"xaxis\":\"x\",\"y\":[null,null,null,null,null,null,null,null,null,null,null,null,null,null,null,null,null,null,null,null,null,1.0,null,null,null,null,null,null,null,null,null,null,null,null,null,null,null,null,null,null,null,null,null,null,null,null,null,null,null,null,null,null,null,null,null,null,null,null,null,null,null,null,null,null,null,null,null,null,null,null,null,null,null,null,null,null,null,null,null,null,null,null,null,null,null,null,null,null,null,null,null,null],\"yaxis\":\"y\"}],                        {\"barmode\":\"stack\",\"height\":800,\"legend\":{\"title\":{\"text\":\"Organizations Name\"},\"tracegroupgap\":0},\"template\":{\"data\":{\"bar\":[{\"error_x\":{\"color\":\"#2a3f5f\"},\"error_y\":{\"color\":\"#2a3f5f\"},\"marker\":{\"line\":{\"color\":\"#E5ECF6\",\"width\":0.5},\"pattern\":{\"fillmode\":\"overlay\",\"size\":10,\"solidity\":0.2}},\"type\":\"bar\"}],\"barpolar\":[{\"marker\":{\"line\":{\"color\":\"#E5ECF6\",\"width\":0.5},\"pattern\":{\"fillmode\":\"overlay\",\"size\":10,\"solidity\":0.2}},\"type\":\"barpolar\"}],\"carpet\":[{\"aaxis\":{\"endlinecolor\":\"#2a3f5f\",\"gridcolor\":\"white\",\"linecolor\":\"white\",\"minorgridcolor\":\"white\",\"startlinecolor\":\"#2a3f5f\"},\"baxis\":{\"endlinecolor\":\"#2a3f5f\",\"gridcolor\":\"white\",\"linecolor\":\"white\",\"minorgridcolor\":\"white\",\"startlinecolor\":\"#2a3f5f\"},\"type\":\"carpet\"}],\"choropleth\":[{\"colorbar\":{\"outlinewidth\":0,\"ticks\":\"\"},\"type\":\"choropleth\"}],\"contour\":[{\"colorbar\":{\"outlinewidth\":0,\"ticks\":\"\"},\"colorscale\":[[0.0,\"#0d0887\"],[0.1111111111111111,\"#46039f\"],[0.2222222222222222,\"#7201a8\"],[0.3333333333333333,\"#9c179e\"],[0.4444444444444444,\"#bd3786\"],[0.5555555555555556,\"#d8576b\"],[0.6666666666666666,\"#ed7953\"],[0.7777777777777778,\"#fb9f3a\"],[0.8888888888888888,\"#fdca26\"],[1.0,\"#f0f921\"]],\"type\":\"contour\"}],\"contourcarpet\":[{\"colorbar\":{\"outlinewidth\":0,\"ticks\":\"\"},\"type\":\"contourcarpet\"}],\"heatmap\":[{\"colorbar\":{\"outlinewidth\":0,\"ticks\":\"\"},\"colorscale\":[[0.0,\"#0d0887\"],[0.1111111111111111,\"#46039f\"],[0.2222222222222222,\"#7201a8\"],[0.3333333333333333,\"#9c179e\"],[0.4444444444444444,\"#bd3786\"],[0.5555555555555556,\"#d8576b\"],[0.6666666666666666,\"#ed7953\"],[0.7777777777777778,\"#fb9f3a\"],[0.8888888888888888,\"#fdca26\"],[1.0,\"#f0f921\"]],\"type\":\"heatmap\"}],\"heatmapgl\":[{\"colorbar\":{\"outlinewidth\":0,\"ticks\":\"\"},\"colorscale\":[[0.0,\"#0d0887\"],[0.1111111111111111,\"#46039f\"],[0.2222222222222222,\"#7201a8\"],[0.3333333333333333,\"#9c179e\"],[0.4444444444444444,\"#bd3786\"],[0.5555555555555556,\"#d8576b\"],[0.6666666666666666,\"#ed7953\"],[0.7777777777777778,\"#fb9f3a\"],[0.8888888888888888,\"#fdca26\"],[1.0,\"#f0f921\"]],\"type\":\"heatmapgl\"}],\"histogram\":[{\"marker\":{\"pattern\":{\"fillmode\":\"overlay\",\"size\":10,\"solidity\":0.2}},\"type\":\"histogram\"}],\"histogram2d\":[{\"colorbar\":{\"outlinewidth\":0,\"ticks\":\"\"},\"colorscale\":[[0.0,\"#0d0887\"],[0.1111111111111111,\"#46039f\"],[0.2222222222222222,\"#7201a8\"],[0.3333333333333333,\"#9c179e\"],[0.4444444444444444,\"#bd3786\"],[0.5555555555555556,\"#d8576b\"],[0.6666666666666666,\"#ed7953\"],[0.7777777777777778,\"#fb9f3a\"],[0.8888888888888888,\"#fdca26\"],[1.0,\"#f0f921\"]],\"type\":\"histogram2d\"}],\"histogram2dcontour\":[{\"colorbar\":{\"outlinewidth\":0,\"ticks\":\"\"},\"colorscale\":[[0.0,\"#0d0887\"],[0.1111111111111111,\"#46039f\"],[0.2222222222222222,\"#7201a8\"],[0.3333333333333333,\"#9c179e\"],[0.4444444444444444,\"#bd3786\"],[0.5555555555555556,\"#d8576b\"],[0.6666666666666666,\"#ed7953\"],[0.7777777777777778,\"#fb9f3a\"],[0.8888888888888888,\"#fdca26\"],[1.0,\"#f0f921\"]],\"type\":\"histogram2dcontour\"}],\"mesh3d\":[{\"colorbar\":{\"outlinewidth\":0,\"ticks\":\"\"},\"type\":\"mesh3d\"}],\"parcoords\":[{\"line\":{\"colorbar\":{\"outlinewidth\":0,\"ticks\":\"\"}},\"type\":\"parcoords\"}],\"pie\":[{\"automargin\":true,\"type\":\"pie\"}],\"scatter\":[{\"marker\":{\"colorbar\":{\"outlinewidth\":0,\"ticks\":\"\"}},\"type\":\"scatter\"}],\"scatter3d\":[{\"line\":{\"colorbar\":{\"outlinewidth\":0,\"ticks\":\"\"}},\"marker\":{\"colorbar\":{\"outlinewidth\":0,\"ticks\":\"\"}},\"type\":\"scatter3d\"}],\"scattercarpet\":[{\"marker\":{\"colorbar\":{\"outlinewidth\":0,\"ticks\":\"\"}},\"type\":\"scattercarpet\"}],\"scattergeo\":[{\"marker\":{\"colorbar\":{\"outlinewidth\":0,\"ticks\":\"\"}},\"type\":\"scattergeo\"}],\"scattergl\":[{\"marker\":{\"colorbar\":{\"outlinewidth\":0,\"ticks\":\"\"}},\"type\":\"scattergl\"}],\"scattermapbox\":[{\"marker\":{\"colorbar\":{\"outlinewidth\":0,\"ticks\":\"\"}},\"type\":\"scattermapbox\"}],\"scatterpolar\":[{\"marker\":{\"colorbar\":{\"outlinewidth\":0,\"ticks\":\"\"}},\"type\":\"scatterpolar\"}],\"scatterpolargl\":[{\"marker\":{\"colorbar\":{\"outlinewidth\":0,\"ticks\":\"\"}},\"type\":\"scatterpolargl\"}],\"scatterternary\":[{\"marker\":{\"colorbar\":{\"outlinewidth\":0,\"ticks\":\"\"}},\"type\":\"scatterternary\"}],\"surface\":[{\"colorbar\":{\"outlinewidth\":0,\"ticks\":\"\"},\"colorscale\":[[0.0,\"#0d0887\"],[0.1111111111111111,\"#46039f\"],[0.2222222222222222,\"#7201a8\"],[0.3333333333333333,\"#9c179e\"],[0.4444444444444444,\"#bd3786\"],[0.5555555555555556,\"#d8576b\"],[0.6666666666666666,\"#ed7953\"],[0.7777777777777778,\"#fb9f3a\"],[0.8888888888888888,\"#fdca26\"],[1.0,\"#f0f921\"]],\"type\":\"surface\"}],\"table\":[{\"cells\":{\"fill\":{\"color\":\"#EBF0F8\"},\"line\":{\"color\":\"white\"}},\"header\":{\"fill\":{\"color\":\"#C8D4E3\"},\"line\":{\"color\":\"white\"}},\"type\":\"table\"}]},\"layout\":{\"annotationdefaults\":{\"arrowcolor\":\"#2a3f5f\",\"arrowhead\":0,\"arrowwidth\":1},\"autotypenumbers\":\"strict\",\"coloraxis\":{\"colorbar\":{\"outlinewidth\":0,\"ticks\":\"\"}},\"colorscale\":{\"diverging\":[[0,\"#8e0152\"],[0.1,\"#c51b7d\"],[0.2,\"#de77ae\"],[0.3,\"#f1b6da\"],[0.4,\"#fde0ef\"],[0.5,\"#f7f7f7\"],[0.6,\"#e6f5d0\"],[0.7,\"#b8e186\"],[0.8,\"#7fbc41\"],[0.9,\"#4d9221\"],[1,\"#276419\"]],\"sequential\":[[0.0,\"#0d0887\"],[0.1111111111111111,\"#46039f\"],[0.2222222222222222,\"#7201a8\"],[0.3333333333333333,\"#9c179e\"],[0.4444444444444444,\"#bd3786\"],[0.5555555555555556,\"#d8576b\"],[0.6666666666666666,\"#ed7953\"],[0.7777777777777778,\"#fb9f3a\"],[0.8888888888888888,\"#fdca26\"],[1.0,\"#f0f921\"]],\"sequentialminus\":[[0.0,\"#0d0887\"],[0.1111111111111111,\"#46039f\"],[0.2222222222222222,\"#7201a8\"],[0.3333333333333333,\"#9c179e\"],[0.4444444444444444,\"#bd3786\"],[0.5555555555555556,\"#d8576b\"],[0.6666666666666666,\"#ed7953\"],[0.7777777777777778,\"#fb9f3a\"],[0.8888888888888888,\"#fdca26\"],[1.0,\"#f0f921\"]]},\"colorway\":[\"#636efa\",\"#EF553B\",\"#00cc96\",\"#ab63fa\",\"#FFA15A\",\"#19d3f3\",\"#FF6692\",\"#B6E880\",\"#FF97FF\",\"#FECB52\"],\"font\":{\"color\":\"#2a3f5f\"},\"geo\":{\"bgcolor\":\"white\",\"lakecolor\":\"white\",\"landcolor\":\"#E5ECF6\",\"showlakes\":true,\"showland\":true,\"subunitcolor\":\"white\"},\"hoverlabel\":{\"align\":\"left\"},\"hovermode\":\"closest\",\"mapbox\":{\"style\":\"light\"},\"paper_bgcolor\":\"white\",\"plot_bgcolor\":\"#E5ECF6\",\"polar\":{\"angularaxis\":{\"gridcolor\":\"white\",\"linecolor\":\"white\",\"ticks\":\"\"},\"bgcolor\":\"#E5ECF6\",\"radialaxis\":{\"gridcolor\":\"white\",\"linecolor\":\"white\",\"ticks\":\"\"}},\"scene\":{\"xaxis\":{\"backgroundcolor\":\"#E5ECF6\",\"gridcolor\":\"white\",\"gridwidth\":2,\"linecolor\":\"white\",\"showbackground\":true,\"ticks\":\"\",\"zerolinecolor\":\"white\"},\"yaxis\":{\"backgroundcolor\":\"#E5ECF6\",\"gridcolor\":\"white\",\"gridwidth\":2,\"linecolor\":\"white\",\"showbackground\":true,\"ticks\":\"\",\"zerolinecolor\":\"white\"},\"zaxis\":{\"backgroundcolor\":\"#E5ECF6\",\"gridcolor\":\"white\",\"gridwidth\":2,\"linecolor\":\"white\",\"showbackground\":true,\"ticks\":\"\",\"zerolinecolor\":\"white\"}},\"shapedefaults\":{\"line\":{\"color\":\"#2a3f5f\"}},\"ternary\":{\"aaxis\":{\"gridcolor\":\"white\",\"linecolor\":\"white\",\"ticks\":\"\"},\"baxis\":{\"gridcolor\":\"white\",\"linecolor\":\"white\",\"ticks\":\"\"},\"bgcolor\":\"#E5ECF6\",\"caxis\":{\"gridcolor\":\"white\",\"linecolor\":\"white\",\"ticks\":\"\"}},\"title\":{\"x\":0.05},\"xaxis\":{\"automargin\":true,\"gridcolor\":\"white\",\"linecolor\":\"white\",\"ticks\":\"\",\"title\":{\"standoff\":15},\"zerolinecolor\":\"white\",\"zerolinewidth\":2},\"yaxis\":{\"automargin\":true,\"gridcolor\":\"white\",\"linecolor\":\"white\",\"ticks\":\"\",\"title\":{\"standoff\":15},\"zerolinecolor\":\"white\",\"zerolinewidth\":2}}},\"title\":{\"text\":\"Number of Parcels Create Per Day\"},\"width\":1200,\"xaxis\":{\"anchor\":\"y\",\"domain\":[0.0,1.0],\"title\":{\"text\":\"Parcel Created At Date\"}},\"yaxis\":{\"anchor\":\"x\",\"domain\":[0.0,1.0],\"title\":{\"text\":\"Total Number of Shipments\"}}},                        {\"responsive\": true}                    ).then(function(){\n",
       "                            \n",
       "var gd = document.getElementById('2bf0498f-353d-4ba6-b4da-76b0c93c7965');\n",
       "var x = new MutationObserver(function (mutations, observer) {{\n",
       "        var display = window.getComputedStyle(gd).display;\n",
       "        if (!display || display === 'none') {{\n",
       "            console.log([gd, 'removed!']);\n",
       "            Plotly.purge(gd);\n",
       "            observer.disconnect();\n",
       "        }}\n",
       "}});\n",
       "\n",
       "// Listen for the removal of the full notebook cells\n",
       "var notebookContainer = gd.closest('#notebook-container');\n",
       "if (notebookContainer) {{\n",
       "    x.observe(notebookContainer, {childList: true});\n",
       "}}\n",
       "\n",
       "// Listen for the clearing of the current output cell\n",
       "var outputEl = gd.closest('.output');\n",
       "if (outputEl) {{\n",
       "    x.observe(outputEl, {childList: true});\n",
       "}}\n",
       "\n",
       "                        })                };                });            </script>        </div>"
      ]
     },
     "metadata": {},
     "output_type": "display_data"
    }
   ],
   "source": [
    "# use groupby on dataframe\n",
    "org_daily_shipments = data.groupby(['Parcel Created At Date', 'Organizations Name']).size().to_frame('Count').reset_index()\n",
    "#pivot the table into correct format\n",
    "org_daily_shipments_pivot = org_daily_shipments.pivot_table(index=org_daily_shipments['Parcel Created At Date'].dt.strftime(\"%m/%d\"), columns='Organizations Name', values='Count', aggfunc='sum')\n",
    "\n",
    "# plot the pivoted dataframe\n",
    "colors = px.colors.qualitative.T10\n",
    "fig = px.bar(org_daily_shipments_pivot,\n",
    "             title='Number of Parcels Create Per Day',\n",
    "             color_discrete_sequence = colors,\n",
    "             labels={'value': 'Total Number of Shipments'},\n",
    "             width=1200,\n",
    "             height=800)\n",
    "fig.update_layout(barmode='stack')\n",
    "fig.show()"
   ]
  },
  {
   "cell_type": "markdown",
   "metadata": {
    "pycharm": {
     "name": "#%% md\n"
    }
   },
   "source": [
    "### Number of Shipments vs Business Days from Label Created to Delivery - 2021\n",
    "> According to this chart, xDelivery is meeting a vast majority of its nationwide SLAs for it's customers."
   ]
  },
  {
   "cell_type": "code",
   "execution_count": 129,
   "metadata": {
    "pycharm": {
     "name": "#%%\n"
    }
   },
   "outputs": [
    {
     "data": {
      "application/vnd.plotly.v1+json": {
       "config": {
        "plotlyServerURL": "https://plot.ly"
       },
       "data": [
        {
         "alignmentgroup": "True",
         "hovertemplate": "Business Days=%{x}<br>Number of Shipments=%{y}<extra></extra>",
         "legendgroup": "",
         "marker": {
          "color": "#4C78A8",
          "pattern": {
           "shape": ""
          }
         },
         "name": "",
         "offsetgroup": "",
         "orientation": "v",
         "showlegend": false,
         "textposition": "auto",
         "type": "bar",
         "x": [
          0,
          1,
          2,
          3,
          4,
          5,
          6,
          7,
          8,
          9,
          10,
          11,
          12,
          13,
          14,
          15,
          16,
          17,
          18,
          19,
          20,
          21,
          22,
          23,
          24,
          25,
          26,
          27,
          28,
          29,
          30,
          31,
          32,
          33,
          34,
          35,
          36,
          37,
          38,
          39,
          40,
          41,
          42,
          43,
          44,
          45,
          46,
          47,
          49,
          50,
          51,
          52,
          53,
          54,
          56,
          58,
          60
         ],
         "xaxis": "x",
         "y": [
          2434,
          55491,
          106754,
          97567,
          66172,
          27499,
          13042,
          6741,
          4066,
          2659,
          1663,
          1218,
          736,
          691,
          265,
          213,
          125,
          89,
          68,
          37,
          40,
          35,
          35,
          18,
          28,
          17,
          20,
          16,
          12,
          5,
          5,
          7,
          12,
          7,
          13,
          5,
          4,
          5,
          2,
          4,
          3,
          2,
          4,
          3,
          2,
          3,
          1,
          3,
          5,
          1,
          1,
          1,
          2,
          2,
          1,
          1,
          1
         ],
         "yaxis": "y"
        }
       ],
       "layout": {
        "barmode": "relative",
        "height": 400,
        "legend": {
         "tracegroupgap": 0
        },
        "template": {
         "data": {
          "bar": [
           {
            "error_x": {
             "color": "#2a3f5f"
            },
            "error_y": {
             "color": "#2a3f5f"
            },
            "marker": {
             "line": {
              "color": "#E5ECF6",
              "width": 0.5
             },
             "pattern": {
              "fillmode": "overlay",
              "size": 10,
              "solidity": 0.2
             }
            },
            "type": "bar"
           }
          ],
          "barpolar": [
           {
            "marker": {
             "line": {
              "color": "#E5ECF6",
              "width": 0.5
             },
             "pattern": {
              "fillmode": "overlay",
              "size": 10,
              "solidity": 0.2
             }
            },
            "type": "barpolar"
           }
          ],
          "carpet": [
           {
            "aaxis": {
             "endlinecolor": "#2a3f5f",
             "gridcolor": "white",
             "linecolor": "white",
             "minorgridcolor": "white",
             "startlinecolor": "#2a3f5f"
            },
            "baxis": {
             "endlinecolor": "#2a3f5f",
             "gridcolor": "white",
             "linecolor": "white",
             "minorgridcolor": "white",
             "startlinecolor": "#2a3f5f"
            },
            "type": "carpet"
           }
          ],
          "choropleth": [
           {
            "colorbar": {
             "outlinewidth": 0,
             "ticks": ""
            },
            "type": "choropleth"
           }
          ],
          "contour": [
           {
            "colorbar": {
             "outlinewidth": 0,
             "ticks": ""
            },
            "colorscale": [
             [
              0,
              "#0d0887"
             ],
             [
              0.1111111111111111,
              "#46039f"
             ],
             [
              0.2222222222222222,
              "#7201a8"
             ],
             [
              0.3333333333333333,
              "#9c179e"
             ],
             [
              0.4444444444444444,
              "#bd3786"
             ],
             [
              0.5555555555555556,
              "#d8576b"
             ],
             [
              0.6666666666666666,
              "#ed7953"
             ],
             [
              0.7777777777777778,
              "#fb9f3a"
             ],
             [
              0.8888888888888888,
              "#fdca26"
             ],
             [
              1,
              "#f0f921"
             ]
            ],
            "type": "contour"
           }
          ],
          "contourcarpet": [
           {
            "colorbar": {
             "outlinewidth": 0,
             "ticks": ""
            },
            "type": "contourcarpet"
           }
          ],
          "heatmap": [
           {
            "colorbar": {
             "outlinewidth": 0,
             "ticks": ""
            },
            "colorscale": [
             [
              0,
              "#0d0887"
             ],
             [
              0.1111111111111111,
              "#46039f"
             ],
             [
              0.2222222222222222,
              "#7201a8"
             ],
             [
              0.3333333333333333,
              "#9c179e"
             ],
             [
              0.4444444444444444,
              "#bd3786"
             ],
             [
              0.5555555555555556,
              "#d8576b"
             ],
             [
              0.6666666666666666,
              "#ed7953"
             ],
             [
              0.7777777777777778,
              "#fb9f3a"
             ],
             [
              0.8888888888888888,
              "#fdca26"
             ],
             [
              1,
              "#f0f921"
             ]
            ],
            "type": "heatmap"
           }
          ],
          "heatmapgl": [
           {
            "colorbar": {
             "outlinewidth": 0,
             "ticks": ""
            },
            "colorscale": [
             [
              0,
              "#0d0887"
             ],
             [
              0.1111111111111111,
              "#46039f"
             ],
             [
              0.2222222222222222,
              "#7201a8"
             ],
             [
              0.3333333333333333,
              "#9c179e"
             ],
             [
              0.4444444444444444,
              "#bd3786"
             ],
             [
              0.5555555555555556,
              "#d8576b"
             ],
             [
              0.6666666666666666,
              "#ed7953"
             ],
             [
              0.7777777777777778,
              "#fb9f3a"
             ],
             [
              0.8888888888888888,
              "#fdca26"
             ],
             [
              1,
              "#f0f921"
             ]
            ],
            "type": "heatmapgl"
           }
          ],
          "histogram": [
           {
            "marker": {
             "pattern": {
              "fillmode": "overlay",
              "size": 10,
              "solidity": 0.2
             }
            },
            "type": "histogram"
           }
          ],
          "histogram2d": [
           {
            "colorbar": {
             "outlinewidth": 0,
             "ticks": ""
            },
            "colorscale": [
             [
              0,
              "#0d0887"
             ],
             [
              0.1111111111111111,
              "#46039f"
             ],
             [
              0.2222222222222222,
              "#7201a8"
             ],
             [
              0.3333333333333333,
              "#9c179e"
             ],
             [
              0.4444444444444444,
              "#bd3786"
             ],
             [
              0.5555555555555556,
              "#d8576b"
             ],
             [
              0.6666666666666666,
              "#ed7953"
             ],
             [
              0.7777777777777778,
              "#fb9f3a"
             ],
             [
              0.8888888888888888,
              "#fdca26"
             ],
             [
              1,
              "#f0f921"
             ]
            ],
            "type": "histogram2d"
           }
          ],
          "histogram2dcontour": [
           {
            "colorbar": {
             "outlinewidth": 0,
             "ticks": ""
            },
            "colorscale": [
             [
              0,
              "#0d0887"
             ],
             [
              0.1111111111111111,
              "#46039f"
             ],
             [
              0.2222222222222222,
              "#7201a8"
             ],
             [
              0.3333333333333333,
              "#9c179e"
             ],
             [
              0.4444444444444444,
              "#bd3786"
             ],
             [
              0.5555555555555556,
              "#d8576b"
             ],
             [
              0.6666666666666666,
              "#ed7953"
             ],
             [
              0.7777777777777778,
              "#fb9f3a"
             ],
             [
              0.8888888888888888,
              "#fdca26"
             ],
             [
              1,
              "#f0f921"
             ]
            ],
            "type": "histogram2dcontour"
           }
          ],
          "mesh3d": [
           {
            "colorbar": {
             "outlinewidth": 0,
             "ticks": ""
            },
            "type": "mesh3d"
           }
          ],
          "parcoords": [
           {
            "line": {
             "colorbar": {
              "outlinewidth": 0,
              "ticks": ""
             }
            },
            "type": "parcoords"
           }
          ],
          "pie": [
           {
            "automargin": true,
            "type": "pie"
           }
          ],
          "scatter": [
           {
            "marker": {
             "colorbar": {
              "outlinewidth": 0,
              "ticks": ""
             }
            },
            "type": "scatter"
           }
          ],
          "scatter3d": [
           {
            "line": {
             "colorbar": {
              "outlinewidth": 0,
              "ticks": ""
             }
            },
            "marker": {
             "colorbar": {
              "outlinewidth": 0,
              "ticks": ""
             }
            },
            "type": "scatter3d"
           }
          ],
          "scattercarpet": [
           {
            "marker": {
             "colorbar": {
              "outlinewidth": 0,
              "ticks": ""
             }
            },
            "type": "scattercarpet"
           }
          ],
          "scattergeo": [
           {
            "marker": {
             "colorbar": {
              "outlinewidth": 0,
              "ticks": ""
             }
            },
            "type": "scattergeo"
           }
          ],
          "scattergl": [
           {
            "marker": {
             "colorbar": {
              "outlinewidth": 0,
              "ticks": ""
             }
            },
            "type": "scattergl"
           }
          ],
          "scattermapbox": [
           {
            "marker": {
             "colorbar": {
              "outlinewidth": 0,
              "ticks": ""
             }
            },
            "type": "scattermapbox"
           }
          ],
          "scatterpolar": [
           {
            "marker": {
             "colorbar": {
              "outlinewidth": 0,
              "ticks": ""
             }
            },
            "type": "scatterpolar"
           }
          ],
          "scatterpolargl": [
           {
            "marker": {
             "colorbar": {
              "outlinewidth": 0,
              "ticks": ""
             }
            },
            "type": "scatterpolargl"
           }
          ],
          "scatterternary": [
           {
            "marker": {
             "colorbar": {
              "outlinewidth": 0,
              "ticks": ""
             }
            },
            "type": "scatterternary"
           }
          ],
          "surface": [
           {
            "colorbar": {
             "outlinewidth": 0,
             "ticks": ""
            },
            "colorscale": [
             [
              0,
              "#0d0887"
             ],
             [
              0.1111111111111111,
              "#46039f"
             ],
             [
              0.2222222222222222,
              "#7201a8"
             ],
             [
              0.3333333333333333,
              "#9c179e"
             ],
             [
              0.4444444444444444,
              "#bd3786"
             ],
             [
              0.5555555555555556,
              "#d8576b"
             ],
             [
              0.6666666666666666,
              "#ed7953"
             ],
             [
              0.7777777777777778,
              "#fb9f3a"
             ],
             [
              0.8888888888888888,
              "#fdca26"
             ],
             [
              1,
              "#f0f921"
             ]
            ],
            "type": "surface"
           }
          ],
          "table": [
           {
            "cells": {
             "fill": {
              "color": "#EBF0F8"
             },
             "line": {
              "color": "white"
             }
            },
            "header": {
             "fill": {
              "color": "#C8D4E3"
             },
             "line": {
              "color": "white"
             }
            },
            "type": "table"
           }
          ]
         },
         "layout": {
          "annotationdefaults": {
           "arrowcolor": "#2a3f5f",
           "arrowhead": 0,
           "arrowwidth": 1
          },
          "autotypenumbers": "strict",
          "coloraxis": {
           "colorbar": {
            "outlinewidth": 0,
            "ticks": ""
           }
          },
          "colorscale": {
           "diverging": [
            [
             0,
             "#8e0152"
            ],
            [
             0.1,
             "#c51b7d"
            ],
            [
             0.2,
             "#de77ae"
            ],
            [
             0.3,
             "#f1b6da"
            ],
            [
             0.4,
             "#fde0ef"
            ],
            [
             0.5,
             "#f7f7f7"
            ],
            [
             0.6,
             "#e6f5d0"
            ],
            [
             0.7,
             "#b8e186"
            ],
            [
             0.8,
             "#7fbc41"
            ],
            [
             0.9,
             "#4d9221"
            ],
            [
             1,
             "#276419"
            ]
           ],
           "sequential": [
            [
             0,
             "#0d0887"
            ],
            [
             0.1111111111111111,
             "#46039f"
            ],
            [
             0.2222222222222222,
             "#7201a8"
            ],
            [
             0.3333333333333333,
             "#9c179e"
            ],
            [
             0.4444444444444444,
             "#bd3786"
            ],
            [
             0.5555555555555556,
             "#d8576b"
            ],
            [
             0.6666666666666666,
             "#ed7953"
            ],
            [
             0.7777777777777778,
             "#fb9f3a"
            ],
            [
             0.8888888888888888,
             "#fdca26"
            ],
            [
             1,
             "#f0f921"
            ]
           ],
           "sequentialminus": [
            [
             0,
             "#0d0887"
            ],
            [
             0.1111111111111111,
             "#46039f"
            ],
            [
             0.2222222222222222,
             "#7201a8"
            ],
            [
             0.3333333333333333,
             "#9c179e"
            ],
            [
             0.4444444444444444,
             "#bd3786"
            ],
            [
             0.5555555555555556,
             "#d8576b"
            ],
            [
             0.6666666666666666,
             "#ed7953"
            ],
            [
             0.7777777777777778,
             "#fb9f3a"
            ],
            [
             0.8888888888888888,
             "#fdca26"
            ],
            [
             1,
             "#f0f921"
            ]
           ]
          },
          "colorway": [
           "#636efa",
           "#EF553B",
           "#00cc96",
           "#ab63fa",
           "#FFA15A",
           "#19d3f3",
           "#FF6692",
           "#B6E880",
           "#FF97FF",
           "#FECB52"
          ],
          "font": {
           "color": "#2a3f5f"
          },
          "geo": {
           "bgcolor": "white",
           "lakecolor": "white",
           "landcolor": "#E5ECF6",
           "showlakes": true,
           "showland": true,
           "subunitcolor": "white"
          },
          "hoverlabel": {
           "align": "left"
          },
          "hovermode": "closest",
          "mapbox": {
           "style": "light"
          },
          "paper_bgcolor": "white",
          "plot_bgcolor": "#E5ECF6",
          "polar": {
           "angularaxis": {
            "gridcolor": "white",
            "linecolor": "white",
            "ticks": ""
           },
           "bgcolor": "#E5ECF6",
           "radialaxis": {
            "gridcolor": "white",
            "linecolor": "white",
            "ticks": ""
           }
          },
          "scene": {
           "xaxis": {
            "backgroundcolor": "#E5ECF6",
            "gridcolor": "white",
            "gridwidth": 2,
            "linecolor": "white",
            "showbackground": true,
            "ticks": "",
            "zerolinecolor": "white"
           },
           "yaxis": {
            "backgroundcolor": "#E5ECF6",
            "gridcolor": "white",
            "gridwidth": 2,
            "linecolor": "white",
            "showbackground": true,
            "ticks": "",
            "zerolinecolor": "white"
           },
           "zaxis": {
            "backgroundcolor": "#E5ECF6",
            "gridcolor": "white",
            "gridwidth": 2,
            "linecolor": "white",
            "showbackground": true,
            "ticks": "",
            "zerolinecolor": "white"
           }
          },
          "shapedefaults": {
           "line": {
            "color": "#2a3f5f"
           }
          },
          "ternary": {
           "aaxis": {
            "gridcolor": "white",
            "linecolor": "white",
            "ticks": ""
           },
           "baxis": {
            "gridcolor": "white",
            "linecolor": "white",
            "ticks": ""
           },
           "bgcolor": "#E5ECF6",
           "caxis": {
            "gridcolor": "white",
            "linecolor": "white",
            "ticks": ""
           }
          },
          "title": {
           "x": 0.05
          },
          "xaxis": {
           "automargin": true,
           "gridcolor": "white",
           "linecolor": "white",
           "ticks": "",
           "title": {
            "standoff": 15
           },
           "zerolinecolor": "white",
           "zerolinewidth": 2
          },
          "yaxis": {
           "automargin": true,
           "gridcolor": "white",
           "linecolor": "white",
           "ticks": "",
           "title": {
            "standoff": 15
           },
           "zerolinecolor": "white",
           "zerolinewidth": 2
          }
         }
        },
        "title": {
         "text": "Number of Shipments vs Label Created to Delivery - 2021"
        },
        "width": 800,
        "xaxis": {
         "anchor": "y",
         "domain": [
          0,
          1
         ],
         "tickmode": "array",
         "tickvals": [
          0,
          2,
          4,
          6,
          8,
          10,
          12,
          14,
          16,
          18,
          20,
          22,
          24,
          26,
          28,
          30,
          32,
          34,
          36,
          38,
          40,
          42,
          44,
          46,
          48,
          50,
          52,
          54,
          56,
          58,
          60
         ],
         "title": {
          "text": "Business Days"
         }
        },
        "yaxis": {
         "anchor": "x",
         "domain": [
          0,
          1
         ],
         "title": {
          "text": "Number of Shipments"
         }
        }
       }
      },
      "text/html": [
       "<div>                            <div id=\"d7a76911-b592-47f3-89ba-aefbd38875e9\" class=\"plotly-graph-div\" style=\"height:400px; width:800px;\"></div>            <script type=\"text/javascript\">                require([\"plotly\"], function(Plotly) {                    window.PLOTLYENV=window.PLOTLYENV || {};                                    if (document.getElementById(\"d7a76911-b592-47f3-89ba-aefbd38875e9\")) {                    Plotly.newPlot(                        \"d7a76911-b592-47f3-89ba-aefbd38875e9\",                        [{\"alignmentgroup\":\"True\",\"hovertemplate\":\"Business Days=%{x}<br>Number of Shipments=%{y}<extra></extra>\",\"legendgroup\":\"\",\"marker\":{\"color\":\"#4C78A8\",\"pattern\":{\"shape\":\"\"}},\"name\":\"\",\"offsetgroup\":\"\",\"orientation\":\"v\",\"showlegend\":false,\"textposition\":\"auto\",\"type\":\"bar\",\"x\":[0.0,1.0,2.0,3.0,4.0,5.0,6.0,7.0,8.0,9.0,10.0,11.0,12.0,13.0,14.0,15.0,16.0,17.0,18.0,19.0,20.0,21.0,22.0,23.0,24.0,25.0,26.0,27.0,28.0,29.0,30.0,31.0,32.0,33.0,34.0,35.0,36.0,37.0,38.0,39.0,40.0,41.0,42.0,43.0,44.0,45.0,46.0,47.0,49.0,50.0,51.0,52.0,53.0,54.0,56.0,58.0,60.0],\"xaxis\":\"x\",\"y\":[2434,55491,106754,97567,66172,27499,13042,6741,4066,2659,1663,1218,736,691,265,213,125,89,68,37,40,35,35,18,28,17,20,16,12,5,5,7,12,7,13,5,4,5,2,4,3,2,4,3,2,3,1,3,5,1,1,1,2,2,1,1,1],\"yaxis\":\"y\"}],                        {\"barmode\":\"relative\",\"height\":400,\"legend\":{\"tracegroupgap\":0},\"template\":{\"data\":{\"bar\":[{\"error_x\":{\"color\":\"#2a3f5f\"},\"error_y\":{\"color\":\"#2a3f5f\"},\"marker\":{\"line\":{\"color\":\"#E5ECF6\",\"width\":0.5},\"pattern\":{\"fillmode\":\"overlay\",\"size\":10,\"solidity\":0.2}},\"type\":\"bar\"}],\"barpolar\":[{\"marker\":{\"line\":{\"color\":\"#E5ECF6\",\"width\":0.5},\"pattern\":{\"fillmode\":\"overlay\",\"size\":10,\"solidity\":0.2}},\"type\":\"barpolar\"}],\"carpet\":[{\"aaxis\":{\"endlinecolor\":\"#2a3f5f\",\"gridcolor\":\"white\",\"linecolor\":\"white\",\"minorgridcolor\":\"white\",\"startlinecolor\":\"#2a3f5f\"},\"baxis\":{\"endlinecolor\":\"#2a3f5f\",\"gridcolor\":\"white\",\"linecolor\":\"white\",\"minorgridcolor\":\"white\",\"startlinecolor\":\"#2a3f5f\"},\"type\":\"carpet\"}],\"choropleth\":[{\"colorbar\":{\"outlinewidth\":0,\"ticks\":\"\"},\"type\":\"choropleth\"}],\"contour\":[{\"colorbar\":{\"outlinewidth\":0,\"ticks\":\"\"},\"colorscale\":[[0.0,\"#0d0887\"],[0.1111111111111111,\"#46039f\"],[0.2222222222222222,\"#7201a8\"],[0.3333333333333333,\"#9c179e\"],[0.4444444444444444,\"#bd3786\"],[0.5555555555555556,\"#d8576b\"],[0.6666666666666666,\"#ed7953\"],[0.7777777777777778,\"#fb9f3a\"],[0.8888888888888888,\"#fdca26\"],[1.0,\"#f0f921\"]],\"type\":\"contour\"}],\"contourcarpet\":[{\"colorbar\":{\"outlinewidth\":0,\"ticks\":\"\"},\"type\":\"contourcarpet\"}],\"heatmap\":[{\"colorbar\":{\"outlinewidth\":0,\"ticks\":\"\"},\"colorscale\":[[0.0,\"#0d0887\"],[0.1111111111111111,\"#46039f\"],[0.2222222222222222,\"#7201a8\"],[0.3333333333333333,\"#9c179e\"],[0.4444444444444444,\"#bd3786\"],[0.5555555555555556,\"#d8576b\"],[0.6666666666666666,\"#ed7953\"],[0.7777777777777778,\"#fb9f3a\"],[0.8888888888888888,\"#fdca26\"],[1.0,\"#f0f921\"]],\"type\":\"heatmap\"}],\"heatmapgl\":[{\"colorbar\":{\"outlinewidth\":0,\"ticks\":\"\"},\"colorscale\":[[0.0,\"#0d0887\"],[0.1111111111111111,\"#46039f\"],[0.2222222222222222,\"#7201a8\"],[0.3333333333333333,\"#9c179e\"],[0.4444444444444444,\"#bd3786\"],[0.5555555555555556,\"#d8576b\"],[0.6666666666666666,\"#ed7953\"],[0.7777777777777778,\"#fb9f3a\"],[0.8888888888888888,\"#fdca26\"],[1.0,\"#f0f921\"]],\"type\":\"heatmapgl\"}],\"histogram\":[{\"marker\":{\"pattern\":{\"fillmode\":\"overlay\",\"size\":10,\"solidity\":0.2}},\"type\":\"histogram\"}],\"histogram2d\":[{\"colorbar\":{\"outlinewidth\":0,\"ticks\":\"\"},\"colorscale\":[[0.0,\"#0d0887\"],[0.1111111111111111,\"#46039f\"],[0.2222222222222222,\"#7201a8\"],[0.3333333333333333,\"#9c179e\"],[0.4444444444444444,\"#bd3786\"],[0.5555555555555556,\"#d8576b\"],[0.6666666666666666,\"#ed7953\"],[0.7777777777777778,\"#fb9f3a\"],[0.8888888888888888,\"#fdca26\"],[1.0,\"#f0f921\"]],\"type\":\"histogram2d\"}],\"histogram2dcontour\":[{\"colorbar\":{\"outlinewidth\":0,\"ticks\":\"\"},\"colorscale\":[[0.0,\"#0d0887\"],[0.1111111111111111,\"#46039f\"],[0.2222222222222222,\"#7201a8\"],[0.3333333333333333,\"#9c179e\"],[0.4444444444444444,\"#bd3786\"],[0.5555555555555556,\"#d8576b\"],[0.6666666666666666,\"#ed7953\"],[0.7777777777777778,\"#fb9f3a\"],[0.8888888888888888,\"#fdca26\"],[1.0,\"#f0f921\"]],\"type\":\"histogram2dcontour\"}],\"mesh3d\":[{\"colorbar\":{\"outlinewidth\":0,\"ticks\":\"\"},\"type\":\"mesh3d\"}],\"parcoords\":[{\"line\":{\"colorbar\":{\"outlinewidth\":0,\"ticks\":\"\"}},\"type\":\"parcoords\"}],\"pie\":[{\"automargin\":true,\"type\":\"pie\"}],\"scatter\":[{\"marker\":{\"colorbar\":{\"outlinewidth\":0,\"ticks\":\"\"}},\"type\":\"scatter\"}],\"scatter3d\":[{\"line\":{\"colorbar\":{\"outlinewidth\":0,\"ticks\":\"\"}},\"marker\":{\"colorbar\":{\"outlinewidth\":0,\"ticks\":\"\"}},\"type\":\"scatter3d\"}],\"scattercarpet\":[{\"marker\":{\"colorbar\":{\"outlinewidth\":0,\"ticks\":\"\"}},\"type\":\"scattercarpet\"}],\"scattergeo\":[{\"marker\":{\"colorbar\":{\"outlinewidth\":0,\"ticks\":\"\"}},\"type\":\"scattergeo\"}],\"scattergl\":[{\"marker\":{\"colorbar\":{\"outlinewidth\":0,\"ticks\":\"\"}},\"type\":\"scattergl\"}],\"scattermapbox\":[{\"marker\":{\"colorbar\":{\"outlinewidth\":0,\"ticks\":\"\"}},\"type\":\"scattermapbox\"}],\"scatterpolar\":[{\"marker\":{\"colorbar\":{\"outlinewidth\":0,\"ticks\":\"\"}},\"type\":\"scatterpolar\"}],\"scatterpolargl\":[{\"marker\":{\"colorbar\":{\"outlinewidth\":0,\"ticks\":\"\"}},\"type\":\"scatterpolargl\"}],\"scatterternary\":[{\"marker\":{\"colorbar\":{\"outlinewidth\":0,\"ticks\":\"\"}},\"type\":\"scatterternary\"}],\"surface\":[{\"colorbar\":{\"outlinewidth\":0,\"ticks\":\"\"},\"colorscale\":[[0.0,\"#0d0887\"],[0.1111111111111111,\"#46039f\"],[0.2222222222222222,\"#7201a8\"],[0.3333333333333333,\"#9c179e\"],[0.4444444444444444,\"#bd3786\"],[0.5555555555555556,\"#d8576b\"],[0.6666666666666666,\"#ed7953\"],[0.7777777777777778,\"#fb9f3a\"],[0.8888888888888888,\"#fdca26\"],[1.0,\"#f0f921\"]],\"type\":\"surface\"}],\"table\":[{\"cells\":{\"fill\":{\"color\":\"#EBF0F8\"},\"line\":{\"color\":\"white\"}},\"header\":{\"fill\":{\"color\":\"#C8D4E3\"},\"line\":{\"color\":\"white\"}},\"type\":\"table\"}]},\"layout\":{\"annotationdefaults\":{\"arrowcolor\":\"#2a3f5f\",\"arrowhead\":0,\"arrowwidth\":1},\"autotypenumbers\":\"strict\",\"coloraxis\":{\"colorbar\":{\"outlinewidth\":0,\"ticks\":\"\"}},\"colorscale\":{\"diverging\":[[0,\"#8e0152\"],[0.1,\"#c51b7d\"],[0.2,\"#de77ae\"],[0.3,\"#f1b6da\"],[0.4,\"#fde0ef\"],[0.5,\"#f7f7f7\"],[0.6,\"#e6f5d0\"],[0.7,\"#b8e186\"],[0.8,\"#7fbc41\"],[0.9,\"#4d9221\"],[1,\"#276419\"]],\"sequential\":[[0.0,\"#0d0887\"],[0.1111111111111111,\"#46039f\"],[0.2222222222222222,\"#7201a8\"],[0.3333333333333333,\"#9c179e\"],[0.4444444444444444,\"#bd3786\"],[0.5555555555555556,\"#d8576b\"],[0.6666666666666666,\"#ed7953\"],[0.7777777777777778,\"#fb9f3a\"],[0.8888888888888888,\"#fdca26\"],[1.0,\"#f0f921\"]],\"sequentialminus\":[[0.0,\"#0d0887\"],[0.1111111111111111,\"#46039f\"],[0.2222222222222222,\"#7201a8\"],[0.3333333333333333,\"#9c179e\"],[0.4444444444444444,\"#bd3786\"],[0.5555555555555556,\"#d8576b\"],[0.6666666666666666,\"#ed7953\"],[0.7777777777777778,\"#fb9f3a\"],[0.8888888888888888,\"#fdca26\"],[1.0,\"#f0f921\"]]},\"colorway\":[\"#636efa\",\"#EF553B\",\"#00cc96\",\"#ab63fa\",\"#FFA15A\",\"#19d3f3\",\"#FF6692\",\"#B6E880\",\"#FF97FF\",\"#FECB52\"],\"font\":{\"color\":\"#2a3f5f\"},\"geo\":{\"bgcolor\":\"white\",\"lakecolor\":\"white\",\"landcolor\":\"#E5ECF6\",\"showlakes\":true,\"showland\":true,\"subunitcolor\":\"white\"},\"hoverlabel\":{\"align\":\"left\"},\"hovermode\":\"closest\",\"mapbox\":{\"style\":\"light\"},\"paper_bgcolor\":\"white\",\"plot_bgcolor\":\"#E5ECF6\",\"polar\":{\"angularaxis\":{\"gridcolor\":\"white\",\"linecolor\":\"white\",\"ticks\":\"\"},\"bgcolor\":\"#E5ECF6\",\"radialaxis\":{\"gridcolor\":\"white\",\"linecolor\":\"white\",\"ticks\":\"\"}},\"scene\":{\"xaxis\":{\"backgroundcolor\":\"#E5ECF6\",\"gridcolor\":\"white\",\"gridwidth\":2,\"linecolor\":\"white\",\"showbackground\":true,\"ticks\":\"\",\"zerolinecolor\":\"white\"},\"yaxis\":{\"backgroundcolor\":\"#E5ECF6\",\"gridcolor\":\"white\",\"gridwidth\":2,\"linecolor\":\"white\",\"showbackground\":true,\"ticks\":\"\",\"zerolinecolor\":\"white\"},\"zaxis\":{\"backgroundcolor\":\"#E5ECF6\",\"gridcolor\":\"white\",\"gridwidth\":2,\"linecolor\":\"white\",\"showbackground\":true,\"ticks\":\"\",\"zerolinecolor\":\"white\"}},\"shapedefaults\":{\"line\":{\"color\":\"#2a3f5f\"}},\"ternary\":{\"aaxis\":{\"gridcolor\":\"white\",\"linecolor\":\"white\",\"ticks\":\"\"},\"baxis\":{\"gridcolor\":\"white\",\"linecolor\":\"white\",\"ticks\":\"\"},\"bgcolor\":\"#E5ECF6\",\"caxis\":{\"gridcolor\":\"white\",\"linecolor\":\"white\",\"ticks\":\"\"}},\"title\":{\"x\":0.05},\"xaxis\":{\"automargin\":true,\"gridcolor\":\"white\",\"linecolor\":\"white\",\"ticks\":\"\",\"title\":{\"standoff\":15},\"zerolinecolor\":\"white\",\"zerolinewidth\":2},\"yaxis\":{\"automargin\":true,\"gridcolor\":\"white\",\"linecolor\":\"white\",\"ticks\":\"\",\"title\":{\"standoff\":15},\"zerolinecolor\":\"white\",\"zerolinewidth\":2}}},\"title\":{\"text\":\"Number of Shipments vs Label Created to Delivery - 2021\"},\"width\":800,\"xaxis\":{\"anchor\":\"y\",\"domain\":[0.0,1.0],\"tickmode\":\"array\",\"tickvals\":[0,2,4,6,8,10,12,14,16,18,20,22,24,26,28,30,32,34,36,38,40,42,44,46,48,50,52,54,56,58,60],\"title\":{\"text\":\"Business Days\"}},\"yaxis\":{\"anchor\":\"x\",\"domain\":[0.0,1.0],\"title\":{\"text\":\"Number of Shipments\"}}},                        {\"responsive\": true}                    ).then(function(){\n",
       "                            \n",
       "var gd = document.getElementById('d7a76911-b592-47f3-89ba-aefbd38875e9');\n",
       "var x = new MutationObserver(function (mutations, observer) {{\n",
       "        var display = window.getComputedStyle(gd).display;\n",
       "        if (!display || display === 'none') {{\n",
       "            console.log([gd, 'removed!']);\n",
       "            Plotly.purge(gd);\n",
       "            observer.disconnect();\n",
       "        }}\n",
       "}});\n",
       "\n",
       "// Listen for the removal of the full notebook cells\n",
       "var notebookContainer = gd.closest('#notebook-container');\n",
       "if (notebookContainer) {{\n",
       "    x.observe(notebookContainer, {childList: true});\n",
       "}}\n",
       "\n",
       "// Listen for the clearing of the current output cell\n",
       "var outputEl = gd.closest('.output');\n",
       "if (outputEl) {{\n",
       "    x.observe(outputEl, {childList: true});\n",
       "}}\n",
       "\n",
       "                        })                };                });            </script>        </div>"
      ]
     },
     "metadata": {},
     "output_type": "display_data"
    }
   ],
   "source": [
    "# convert dataframe column to list\n",
    "chart_data = data.copy()\n",
    "totals = chart_data['Business Days from Label Created to Delivery'].value_counts(dropna=True).sort_index(ascending=True).reset_index()\n",
    "totals['Count'] = totals['Business Days from Label Created to Delivery'].astype(int)\n",
    "# totals\n",
    "colors = px.colors.qualitative.T10\n",
    "fig = px.bar(totals,\n",
    "              x='index',\n",
    "              y='Count',\n",
    "              labels={'Count': 'Number of Shipments',\n",
    "                      'index': 'Business Days'},\n",
    "              title='Number of Shipments vs Label Created to Delivery - 2021',\n",
    "              width=800,\n",
    "              height=400,\n",
    "             color_discrete_sequence = colors)\n",
    "\n",
    "fig.update_layout(\n",
    "    xaxis = dict(\n",
    "        tickmode = 'array',\n",
    "        tickvals = np.arange(0,61,2)\n",
    "    )\n",
    ")\n",
    "fig.show()\n"
   ]
  },
  {
   "cell_type": "markdown",
   "metadata": {
    "pycharm": {
     "name": "#%% md\n"
    }
   },
   "source": [
    "### Delivery Time Distribution by Business Days\n",
    "> This chart illustrates the delivery time distribution by business days for each of xDelivery's customers."
   ]
  },
  {
   "cell_type": "code",
   "execution_count": 131,
   "metadata": {
    "pycharm": {
     "name": "#%%\n"
    }
   },
   "outputs": [
    {
     "data": {
      "application/vnd.plotly.v1+json": {
       "config": {
        "plotlyServerURL": "https://plot.ly"
       },
       "data": [
        {
         "alignmentgroup": "True",
         "hovertemplate": "Business Days=0.0<br>Organizations Name=%{x}<br>Number of Shipments=%{y}<extra></extra>",
         "legendgroup": "0.0",
         "marker": {
          "color": "#4C78A8",
          "pattern": {
           "shape": ""
          }
         },
         "name": "0.0",
         "offsetgroup": "0.0",
         "orientation": "v",
         "showlegend": true,
         "textposition": "auto",
         "type": "bar",
         "x": [
          "BUKU Ship",
          "Breazy",
          "BuiltBar",
          "Chirp",
          "Chukou1",
          "Demand Group",
          "EightCig",
          "Electric Tobacconist",
          "Element Vape - Buku",
          "Glas Inc",
          "Savvi",
          "Turning Point Brands",
          "Turntable Labs"
         ],
         "xaxis": "x",
         "y": [
          null,
          null,
          2162,
          7,
          106,
          1,
          null,
          4,
          null,
          null,
          52,
          16,
          86
         ],
         "yaxis": "y"
        },
        {
         "alignmentgroup": "True",
         "hovertemplate": "Business Days=1.0<br>Organizations Name=%{x}<br>Number of Shipments=%{y}<extra></extra>",
         "legendgroup": "1.0",
         "marker": {
          "color": "#F58518",
          "pattern": {
           "shape": ""
          }
         },
         "name": "1.0",
         "offsetgroup": "1.0",
         "orientation": "v",
         "showlegend": true,
         "textposition": "auto",
         "type": "bar",
         "x": [
          "BUKU Ship",
          "Breazy",
          "BuiltBar",
          "Chirp",
          "Chukou1",
          "Demand Group",
          "EightCig",
          "Electric Tobacconist",
          "Element Vape - Buku",
          "Glas Inc",
          "Savvi",
          "Turning Point Brands",
          "Turntable Labs"
         ],
         "xaxis": "x",
         "y": [
          34,
          null,
          53345,
          524,
          515,
          18,
          null,
          8,
          2,
          null,
          529,
          40,
          476
         ],
         "yaxis": "y"
        },
        {
         "alignmentgroup": "True",
         "hovertemplate": "Business Days=2.0<br>Organizations Name=%{x}<br>Number of Shipments=%{y}<extra></extra>",
         "legendgroup": "2.0",
         "marker": {
          "color": "#E45756",
          "pattern": {
           "shape": ""
          }
         },
         "name": "2.0",
         "offsetgroup": "2.0",
         "orientation": "v",
         "showlegend": true,
         "textposition": "auto",
         "type": "bar",
         "x": [
          "BUKU Ship",
          "Breazy",
          "BuiltBar",
          "Chirp",
          "Chukou1",
          "Demand Group",
          "EightCig",
          "Electric Tobacconist",
          "Element Vape - Buku",
          "Glas Inc",
          "Savvi",
          "Turning Point Brands",
          "Turntable Labs"
         ],
         "xaxis": "x",
         "y": [
          395,
          null,
          97999,
          1290,
          199,
          5,
          null,
          34,
          3975,
          null,
          1721,
          455,
          681
         ],
         "yaxis": "y"
        },
        {
         "alignmentgroup": "True",
         "hovertemplate": "Business Days=3.0<br>Organizations Name=%{x}<br>Number of Shipments=%{y}<extra></extra>",
         "legendgroup": "3.0",
         "marker": {
          "color": "#72B7B2",
          "pattern": {
           "shape": ""
          }
         },
         "name": "3.0",
         "offsetgroup": "3.0",
         "orientation": "v",
         "showlegend": true,
         "textposition": "auto",
         "type": "bar",
         "x": [
          "BUKU Ship",
          "Breazy",
          "BuiltBar",
          "Chirp",
          "Chukou1",
          "Demand Group",
          "EightCig",
          "Electric Tobacconist",
          "Element Vape - Buku",
          "Glas Inc",
          "Savvi",
          "Turning Point Brands",
          "Turntable Labs"
         ],
         "xaxis": "x",
         "y": [
          145,
          4,
          88751,
          1300,
          49,
          8,
          null,
          1050,
          604,
          27,
          1918,
          3063,
          648
         ],
         "yaxis": "y"
        },
        {
         "alignmentgroup": "True",
         "hovertemplate": "Business Days=4.0<br>Organizations Name=%{x}<br>Number of Shipments=%{y}<extra></extra>",
         "legendgroup": "4.0",
         "marker": {
          "color": "#54A24B",
          "pattern": {
           "shape": ""
          }
         },
         "name": "4.0",
         "offsetgroup": "4.0",
         "orientation": "v",
         "showlegend": true,
         "textposition": "auto",
         "type": "bar",
         "x": [
          "BUKU Ship",
          "Breazy",
          "BuiltBar",
          "Chirp",
          "Chukou1",
          "Demand Group",
          "EightCig",
          "Electric Tobacconist",
          "Element Vape - Buku",
          "Glas Inc",
          "Savvi",
          "Turning Point Brands",
          "Turntable Labs"
         ],
         "xaxis": "x",
         "y": [
          50,
          16,
          53493,
          1118,
          9,
          141,
          null,
          2893,
          427,
          9,
          2398,
          4979,
          639
         ],
         "yaxis": "y"
        },
        {
         "alignmentgroup": "True",
         "hovertemplate": "Business Days=5.0<br>Organizations Name=%{x}<br>Number of Shipments=%{y}<extra></extra>",
         "legendgroup": "5.0",
         "marker": {
          "color": "#EECA3B",
          "pattern": {
           "shape": ""
          }
         },
         "name": "5.0",
         "offsetgroup": "5.0",
         "orientation": "v",
         "showlegend": true,
         "textposition": "auto",
         "type": "bar",
         "x": [
          "BUKU Ship",
          "Breazy",
          "BuiltBar",
          "Chirp",
          "Chukou1",
          "Demand Group",
          "EightCig",
          "Electric Tobacconist",
          "Element Vape - Buku",
          "Glas Inc",
          "Savvi",
          "Turning Point Brands",
          "Turntable Labs"
         ],
         "xaxis": "x",
         "y": [
          20,
          78,
          19287,
          394,
          3,
          385,
          null,
          2128,
          362,
          2,
          982,
          3501,
          357
         ],
         "yaxis": "y"
        },
        {
         "alignmentgroup": "True",
         "hovertemplate": "Business Days=6.0<br>Organizations Name=%{x}<br>Number of Shipments=%{y}<extra></extra>",
         "legendgroup": "6.0",
         "marker": {
          "color": "#B279A2",
          "pattern": {
           "shape": ""
          }
         },
         "name": "6.0",
         "offsetgroup": "6.0",
         "orientation": "v",
         "showlegend": true,
         "textposition": "auto",
         "type": "bar",
         "x": [
          "BUKU Ship",
          "Breazy",
          "BuiltBar",
          "Chirp",
          "Chukou1",
          "Demand Group",
          "EightCig",
          "Electric Tobacconist",
          "Element Vape - Buku",
          "Glas Inc",
          "Savvi",
          "Turning Point Brands",
          "Turntable Labs"
         ],
         "xaxis": "x",
         "y": [
          null,
          140,
          7142,
          156,
          1,
          866,
          15,
          1441,
          192,
          1,
          281,
          2654,
          153
         ],
         "yaxis": "y"
        },
        {
         "alignmentgroup": "True",
         "hovertemplate": "Business Days=7.0<br>Organizations Name=%{x}<br>Number of Shipments=%{y}<extra></extra>",
         "legendgroup": "7.0",
         "marker": {
          "color": "#FF9DA6",
          "pattern": {
           "shape": ""
          }
         },
         "name": "7.0",
         "offsetgroup": "7.0",
         "orientation": "v",
         "showlegend": true,
         "textposition": "auto",
         "type": "bar",
         "x": [
          "BUKU Ship",
          "Breazy",
          "BuiltBar",
          "Chirp",
          "Chukou1",
          "Demand Group",
          "EightCig",
          "Electric Tobacconist",
          "Element Vape - Buku",
          "Glas Inc",
          "Savvi",
          "Turning Point Brands",
          "Turntable Labs"
         ],
         "xaxis": "x",
         "y": [
          null,
          100,
          2905,
          129,
          2,
          1190,
          19,
          791,
          290,
          1,
          107,
          1099,
          108
         ],
         "yaxis": "y"
        },
        {
         "alignmentgroup": "True",
         "hovertemplate": "Business Days=8.0<br>Organizations Name=%{x}<br>Number of Shipments=%{y}<extra></extra>",
         "legendgroup": "8.0",
         "marker": {
          "color": "#9D755D",
          "pattern": {
           "shape": ""
          }
         },
         "name": "8.0",
         "offsetgroup": "8.0",
         "orientation": "v",
         "showlegend": true,
         "textposition": "auto",
         "type": "bar",
         "x": [
          "BUKU Ship",
          "Breazy",
          "BuiltBar",
          "Chirp",
          "Chukou1",
          "Demand Group",
          "EightCig",
          "Electric Tobacconist",
          "Element Vape - Buku",
          "Glas Inc",
          "Savvi",
          "Turning Point Brands",
          "Turntable Labs"
         ],
         "xaxis": "x",
         "y": [
          1,
          100,
          1234,
          83,
          1,
          1242,
          7,
          353,
          134,
          2,
          73,
          650,
          186
         ],
         "yaxis": "y"
        },
        {
         "alignmentgroup": "True",
         "hovertemplate": "Business Days=9.0<br>Organizations Name=%{x}<br>Number of Shipments=%{y}<extra></extra>",
         "legendgroup": "9.0",
         "marker": {
          "color": "#BAB0AC",
          "pattern": {
           "shape": ""
          }
         },
         "name": "9.0",
         "offsetgroup": "9.0",
         "orientation": "v",
         "showlegend": true,
         "textposition": "auto",
         "type": "bar",
         "x": [
          "BUKU Ship",
          "Breazy",
          "BuiltBar",
          "Chirp",
          "Chukou1",
          "Demand Group",
          "EightCig",
          "Electric Tobacconist",
          "Element Vape - Buku",
          "Glas Inc",
          "Savvi",
          "Turning Point Brands",
          "Turntable Labs"
         ],
         "xaxis": "x",
         "y": [
          null,
          82,
          648,
          96,
          null,
          984,
          5,
          237,
          67,
          null,
          42,
          399,
          99
         ],
         "yaxis": "y"
        },
        {
         "alignmentgroup": "True",
         "hovertemplate": "Business Days=10.0<br>Organizations Name=%{x}<br>Number of Shipments=%{y}<extra></extra>",
         "legendgroup": "10.0",
         "marker": {
          "color": "#4C78A8",
          "pattern": {
           "shape": ""
          }
         },
         "name": "10.0",
         "offsetgroup": "10.0",
         "orientation": "v",
         "showlegend": true,
         "textposition": "auto",
         "type": "bar",
         "x": [
          "BUKU Ship",
          "Breazy",
          "BuiltBar",
          "Chirp",
          "Chukou1",
          "Demand Group",
          "EightCig",
          "Electric Tobacconist",
          "Element Vape - Buku",
          "Glas Inc",
          "Savvi",
          "Turning Point Brands",
          "Turntable Labs"
         ],
         "xaxis": "x",
         "y": [
          1,
          44,
          392,
          52,
          null,
          820,
          1,
          73,
          84,
          null,
          19,
          129,
          48
         ],
         "yaxis": "y"
        },
        {
         "alignmentgroup": "True",
         "hovertemplate": "Business Days=11.0<br>Organizations Name=%{x}<br>Number of Shipments=%{y}<extra></extra>",
         "legendgroup": "11.0",
         "marker": {
          "color": "#F58518",
          "pattern": {
           "shape": ""
          }
         },
         "name": "11.0",
         "offsetgroup": "11.0",
         "orientation": "v",
         "showlegend": true,
         "textposition": "auto",
         "type": "bar",
         "x": [
          "BUKU Ship",
          "Breazy",
          "BuiltBar",
          "Chirp",
          "Chukou1",
          "Demand Group",
          "EightCig",
          "Electric Tobacconist",
          "Element Vape - Buku",
          "Glas Inc",
          "Savvi",
          "Turning Point Brands",
          "Turntable Labs"
         ],
         "xaxis": "x",
         "y": [
          null,
          33,
          268,
          22,
          null,
          607,
          2,
          51,
          59,
          1,
          11,
          143,
          21
         ],
         "yaxis": "y"
        },
        {
         "alignmentgroup": "True",
         "hovertemplate": "Business Days=12.0<br>Organizations Name=%{x}<br>Number of Shipments=%{y}<extra></extra>",
         "legendgroup": "12.0",
         "marker": {
          "color": "#E45756",
          "pattern": {
           "shape": ""
          }
         },
         "name": "12.0",
         "offsetgroup": "12.0",
         "orientation": "v",
         "showlegend": true,
         "textposition": "auto",
         "type": "bar",
         "x": [
          "BUKU Ship",
          "Breazy",
          "BuiltBar",
          "Chirp",
          "Chukou1",
          "Demand Group",
          "EightCig",
          "Electric Tobacconist",
          "Element Vape - Buku",
          "Glas Inc",
          "Savvi",
          "Turning Point Brands",
          "Turntable Labs"
         ],
         "xaxis": "x",
         "y": [
          null,
          21,
          263,
          2,
          null,
          322,
          null,
          35,
          28,
          2,
          6,
          56,
          1
         ],
         "yaxis": "y"
        },
        {
         "alignmentgroup": "True",
         "hovertemplate": "Business Days=13.0<br>Organizations Name=%{x}<br>Number of Shipments=%{y}<extra></extra>",
         "legendgroup": "13.0",
         "marker": {
          "color": "#72B7B2",
          "pattern": {
           "shape": ""
          }
         },
         "name": "13.0",
         "offsetgroup": "13.0",
         "orientation": "v",
         "showlegend": true,
         "textposition": "auto",
         "type": "bar",
         "x": [
          "BUKU Ship",
          "Breazy",
          "BuiltBar",
          "Chirp",
          "Chukou1",
          "Demand Group",
          "EightCig",
          "Electric Tobacconist",
          "Element Vape - Buku",
          "Glas Inc",
          "Savvi",
          "Turning Point Brands",
          "Turntable Labs"
         ],
         "xaxis": "x",
         "y": [
          null,
          24,
          114,
          1,
          null,
          345,
          null,
          17,
          44,
          14,
          2,
          129,
          1
         ],
         "yaxis": "y"
        },
        {
         "alignmentgroup": "True",
         "hovertemplate": "Business Days=14.0<br>Organizations Name=%{x}<br>Number of Shipments=%{y}<extra></extra>",
         "legendgroup": "14.0",
         "marker": {
          "color": "#54A24B",
          "pattern": {
           "shape": ""
          }
         },
         "name": "14.0",
         "offsetgroup": "14.0",
         "orientation": "v",
         "showlegend": true,
         "textposition": "auto",
         "type": "bar",
         "x": [
          "BUKU Ship",
          "Breazy",
          "BuiltBar",
          "Chirp",
          "Chukou1",
          "Demand Group",
          "EightCig",
          "Electric Tobacconist",
          "Element Vape - Buku",
          "Glas Inc",
          "Savvi",
          "Turning Point Brands",
          "Turntable Labs"
         ],
         "xaxis": "x",
         "y": [
          null,
          15,
          57,
          null,
          null,
          96,
          null,
          24,
          22,
          2,
          4,
          42,
          3
         ],
         "yaxis": "y"
        },
        {
         "alignmentgroup": "True",
         "hovertemplate": "Business Days=15.0<br>Organizations Name=%{x}<br>Number of Shipments=%{y}<extra></extra>",
         "legendgroup": "15.0",
         "marker": {
          "color": "#EECA3B",
          "pattern": {
           "shape": ""
          }
         },
         "name": "15.0",
         "offsetgroup": "15.0",
         "orientation": "v",
         "showlegend": true,
         "textposition": "auto",
         "type": "bar",
         "x": [
          "BUKU Ship",
          "Breazy",
          "BuiltBar",
          "Chirp",
          "Chukou1",
          "Demand Group",
          "EightCig",
          "Electric Tobacconist",
          "Element Vape - Buku",
          "Glas Inc",
          "Savvi",
          "Turning Point Brands",
          "Turntable Labs"
         ],
         "xaxis": "x",
         "y": [
          null,
          9,
          35,
          13,
          null,
          42,
          null,
          21,
          66,
          null,
          1,
          25,
          1
         ],
         "yaxis": "y"
        },
        {
         "alignmentgroup": "True",
         "hovertemplate": "Business Days=16.0<br>Organizations Name=%{x}<br>Number of Shipments=%{y}<extra></extra>",
         "legendgroup": "16.0",
         "marker": {
          "color": "#B279A2",
          "pattern": {
           "shape": ""
          }
         },
         "name": "16.0",
         "offsetgroup": "16.0",
         "orientation": "v",
         "showlegend": true,
         "textposition": "auto",
         "type": "bar",
         "x": [
          "BUKU Ship",
          "Breazy",
          "BuiltBar",
          "Chirp",
          "Chukou1",
          "Demand Group",
          "EightCig",
          "Electric Tobacconist",
          "Element Vape - Buku",
          "Glas Inc",
          "Savvi",
          "Turning Point Brands",
          "Turntable Labs"
         ],
         "xaxis": "x",
         "y": [
          null,
          9,
          16,
          9,
          null,
          35,
          null,
          11,
          27,
          1,
          3,
          14,
          null
         ],
         "yaxis": "y"
        },
        {
         "alignmentgroup": "True",
         "hovertemplate": "Business Days=17.0<br>Organizations Name=%{x}<br>Number of Shipments=%{y}<extra></extra>",
         "legendgroup": "17.0",
         "marker": {
          "color": "#FF9DA6",
          "pattern": {
           "shape": ""
          }
         },
         "name": "17.0",
         "offsetgroup": "17.0",
         "orientation": "v",
         "showlegend": true,
         "textposition": "auto",
         "type": "bar",
         "x": [
          "BUKU Ship",
          "Breazy",
          "BuiltBar",
          "Chirp",
          "Chukou1",
          "Demand Group",
          "EightCig",
          "Electric Tobacconist",
          "Element Vape - Buku",
          "Glas Inc",
          "Savvi",
          "Turning Point Brands",
          "Turntable Labs"
         ],
         "xaxis": "x",
         "y": [
          null,
          4,
          22,
          2,
          null,
          19,
          null,
          10,
          10,
          null,
          null,
          21,
          1
         ],
         "yaxis": "y"
        },
        {
         "alignmentgroup": "True",
         "hovertemplate": "Business Days=18.0<br>Organizations Name=%{x}<br>Number of Shipments=%{y}<extra></extra>",
         "legendgroup": "18.0",
         "marker": {
          "color": "#9D755D",
          "pattern": {
           "shape": ""
          }
         },
         "name": "18.0",
         "offsetgroup": "18.0",
         "orientation": "v",
         "showlegend": true,
         "textposition": "auto",
         "type": "bar",
         "x": [
          "BUKU Ship",
          "Breazy",
          "BuiltBar",
          "Chirp",
          "Chukou1",
          "Demand Group",
          "EightCig",
          "Electric Tobacconist",
          "Element Vape - Buku",
          "Glas Inc",
          "Savvi",
          "Turning Point Brands",
          "Turntable Labs"
         ],
         "xaxis": "x",
         "y": [
          null,
          4,
          14,
          null,
          null,
          19,
          1,
          9,
          11,
          null,
          null,
          10,
          null
         ],
         "yaxis": "y"
        },
        {
         "alignmentgroup": "True",
         "hovertemplate": "Business Days=19.0<br>Organizations Name=%{x}<br>Number of Shipments=%{y}<extra></extra>",
         "legendgroup": "19.0",
         "marker": {
          "color": "#BAB0AC",
          "pattern": {
           "shape": ""
          }
         },
         "name": "19.0",
         "offsetgroup": "19.0",
         "orientation": "v",
         "showlegend": true,
         "textposition": "auto",
         "type": "bar",
         "x": [
          "BUKU Ship",
          "Breazy",
          "BuiltBar",
          "Chirp",
          "Chukou1",
          "Demand Group",
          "EightCig",
          "Electric Tobacconist",
          "Element Vape - Buku",
          "Glas Inc",
          "Savvi",
          "Turning Point Brands",
          "Turntable Labs"
         ],
         "xaxis": "x",
         "y": [
          null,
          1,
          3,
          1,
          null,
          15,
          null,
          4,
          3,
          null,
          null,
          10,
          null
         ],
         "yaxis": "y"
        },
        {
         "alignmentgroup": "True",
         "hovertemplate": "Business Days=20.0<br>Organizations Name=%{x}<br>Number of Shipments=%{y}<extra></extra>",
         "legendgroup": "20.0",
         "marker": {
          "color": "#4C78A8",
          "pattern": {
           "shape": ""
          }
         },
         "name": "20.0",
         "offsetgroup": "20.0",
         "orientation": "v",
         "showlegend": true,
         "textposition": "auto",
         "type": "bar",
         "x": [
          "BUKU Ship",
          "Breazy",
          "BuiltBar",
          "Chirp",
          "Chukou1",
          "Demand Group",
          "EightCig",
          "Electric Tobacconist",
          "Element Vape - Buku",
          "Glas Inc",
          "Savvi",
          "Turning Point Brands",
          "Turntable Labs"
         ],
         "xaxis": "x",
         "y": [
          null,
          1,
          3,
          4,
          null,
          10,
          null,
          8,
          2,
          null,
          null,
          12,
          null
         ],
         "yaxis": "y"
        },
        {
         "alignmentgroup": "True",
         "hovertemplate": "Business Days=21.0<br>Organizations Name=%{x}<br>Number of Shipments=%{y}<extra></extra>",
         "legendgroup": "21.0",
         "marker": {
          "color": "#F58518",
          "pattern": {
           "shape": ""
          }
         },
         "name": "21.0",
         "offsetgroup": "21.0",
         "orientation": "v",
         "showlegend": true,
         "textposition": "auto",
         "type": "bar",
         "x": [
          "BUKU Ship",
          "Breazy",
          "BuiltBar",
          "Chirp",
          "Chukou1",
          "Demand Group",
          "EightCig",
          "Electric Tobacconist",
          "Element Vape - Buku",
          "Glas Inc",
          "Savvi",
          "Turning Point Brands",
          "Turntable Labs"
         ],
         "xaxis": "x",
         "y": [
          null,
          1,
          4,
          15,
          null,
          7,
          null,
          2,
          1,
          null,
          null,
          5,
          null
         ],
         "yaxis": "y"
        },
        {
         "alignmentgroup": "True",
         "hovertemplate": "Business Days=22.0<br>Organizations Name=%{x}<br>Number of Shipments=%{y}<extra></extra>",
         "legendgroup": "22.0",
         "marker": {
          "color": "#E45756",
          "pattern": {
           "shape": ""
          }
         },
         "name": "22.0",
         "offsetgroup": "22.0",
         "orientation": "v",
         "showlegend": true,
         "textposition": "auto",
         "type": "bar",
         "x": [
          "BUKU Ship",
          "Breazy",
          "BuiltBar",
          "Chirp",
          "Chukou1",
          "Demand Group",
          "EightCig",
          "Electric Tobacconist",
          "Element Vape - Buku",
          "Glas Inc",
          "Savvi",
          "Turning Point Brands",
          "Turntable Labs"
         ],
         "xaxis": "x",
         "y": [
          null,
          1,
          2,
          13,
          null,
          1,
          null,
          2,
          null,
          null,
          null,
          16,
          null
         ],
         "yaxis": "y"
        },
        {
         "alignmentgroup": "True",
         "hovertemplate": "Business Days=23.0<br>Organizations Name=%{x}<br>Number of Shipments=%{y}<extra></extra>",
         "legendgroup": "23.0",
         "marker": {
          "color": "#72B7B2",
          "pattern": {
           "shape": ""
          }
         },
         "name": "23.0",
         "offsetgroup": "23.0",
         "orientation": "v",
         "showlegend": true,
         "textposition": "auto",
         "type": "bar",
         "x": [
          "BUKU Ship",
          "Breazy",
          "BuiltBar",
          "Chirp",
          "Chukou1",
          "Demand Group",
          "EightCig",
          "Electric Tobacconist",
          "Element Vape - Buku",
          "Glas Inc",
          "Savvi",
          "Turning Point Brands",
          "Turntable Labs"
         ],
         "xaxis": "x",
         "y": [
          null,
          null,
          3,
          null,
          null,
          3,
          null,
          4,
          1,
          null,
          null,
          7,
          null
         ],
         "yaxis": "y"
        },
        {
         "alignmentgroup": "True",
         "hovertemplate": "Business Days=24.0<br>Organizations Name=%{x}<br>Number of Shipments=%{y}<extra></extra>",
         "legendgroup": "24.0",
         "marker": {
          "color": "#54A24B",
          "pattern": {
           "shape": ""
          }
         },
         "name": "24.0",
         "offsetgroup": "24.0",
         "orientation": "v",
         "showlegend": true,
         "textposition": "auto",
         "type": "bar",
         "x": [
          "BUKU Ship",
          "Breazy",
          "BuiltBar",
          "Chirp",
          "Chukou1",
          "Demand Group",
          "EightCig",
          "Electric Tobacconist",
          "Element Vape - Buku",
          "Glas Inc",
          "Savvi",
          "Turning Point Brands",
          "Turntable Labs"
         ],
         "xaxis": "x",
         "y": [
          null,
          1,
          4,
          3,
          null,
          6,
          null,
          7,
          null,
          null,
          1,
          6,
          null
         ],
         "yaxis": "y"
        },
        {
         "alignmentgroup": "True",
         "hovertemplate": "Business Days=25.0<br>Organizations Name=%{x}<br>Number of Shipments=%{y}<extra></extra>",
         "legendgroup": "25.0",
         "marker": {
          "color": "#EECA3B",
          "pattern": {
           "shape": ""
          }
         },
         "name": "25.0",
         "offsetgroup": "25.0",
         "orientation": "v",
         "showlegend": true,
         "textposition": "auto",
         "type": "bar",
         "x": [
          "BUKU Ship",
          "Breazy",
          "BuiltBar",
          "Chirp",
          "Chukou1",
          "Demand Group",
          "EightCig",
          "Electric Tobacconist",
          "Element Vape - Buku",
          "Glas Inc",
          "Savvi",
          "Turning Point Brands",
          "Turntable Labs"
         ],
         "xaxis": "x",
         "y": [
          null,
          1,
          null,
          9,
          null,
          2,
          null,
          2,
          1,
          null,
          null,
          1,
          1
         ],
         "yaxis": "y"
        },
        {
         "alignmentgroup": "True",
         "hovertemplate": "Business Days=26.0<br>Organizations Name=%{x}<br>Number of Shipments=%{y}<extra></extra>",
         "legendgroup": "26.0",
         "marker": {
          "color": "#B279A2",
          "pattern": {
           "shape": ""
          }
         },
         "name": "26.0",
         "offsetgroup": "26.0",
         "orientation": "v",
         "showlegend": true,
         "textposition": "auto",
         "type": "bar",
         "x": [
          "BUKU Ship",
          "Breazy",
          "BuiltBar",
          "Chirp",
          "Chukou1",
          "Demand Group",
          "EightCig",
          "Electric Tobacconist",
          "Element Vape - Buku",
          "Glas Inc",
          "Savvi",
          "Turning Point Brands",
          "Turntable Labs"
         ],
         "xaxis": "x",
         "y": [
          null,
          1,
          1,
          4,
          null,
          5,
          null,
          1,
          1,
          null,
          null,
          7,
          null
         ],
         "yaxis": "y"
        },
        {
         "alignmentgroup": "True",
         "hovertemplate": "Business Days=27.0<br>Organizations Name=%{x}<br>Number of Shipments=%{y}<extra></extra>",
         "legendgroup": "27.0",
         "marker": {
          "color": "#FF9DA6",
          "pattern": {
           "shape": ""
          }
         },
         "name": "27.0",
         "offsetgroup": "27.0",
         "orientation": "v",
         "showlegend": true,
         "textposition": "auto",
         "type": "bar",
         "x": [
          "BUKU Ship",
          "Breazy",
          "BuiltBar",
          "Chirp",
          "Chukou1",
          "Demand Group",
          "EightCig",
          "Electric Tobacconist",
          "Element Vape - Buku",
          "Glas Inc",
          "Savvi",
          "Turning Point Brands",
          "Turntable Labs"
         ],
         "xaxis": "x",
         "y": [
          null,
          null,
          4,
          2,
          null,
          2,
          null,
          2,
          1,
          null,
          null,
          5,
          null
         ],
         "yaxis": "y"
        },
        {
         "alignmentgroup": "True",
         "hovertemplate": "Business Days=28.0<br>Organizations Name=%{x}<br>Number of Shipments=%{y}<extra></extra>",
         "legendgroup": "28.0",
         "marker": {
          "color": "#9D755D",
          "pattern": {
           "shape": ""
          }
         },
         "name": "28.0",
         "offsetgroup": "28.0",
         "orientation": "v",
         "showlegend": true,
         "textposition": "auto",
         "type": "bar",
         "x": [
          "BUKU Ship",
          "Breazy",
          "BuiltBar",
          "Chirp",
          "Chukou1",
          "Demand Group",
          "EightCig",
          "Electric Tobacconist",
          "Element Vape - Buku",
          "Glas Inc",
          "Savvi",
          "Turning Point Brands",
          "Turntable Labs"
         ],
         "xaxis": "x",
         "y": [
          null,
          null,
          1,
          1,
          null,
          1,
          null,
          2,
          null,
          null,
          null,
          7,
          null
         ],
         "yaxis": "y"
        },
        {
         "alignmentgroup": "True",
         "hovertemplate": "Business Days=29.0<br>Organizations Name=%{x}<br>Number of Shipments=%{y}<extra></extra>",
         "legendgroup": "29.0",
         "marker": {
          "color": "#BAB0AC",
          "pattern": {
           "shape": ""
          }
         },
         "name": "29.0",
         "offsetgroup": "29.0",
         "orientation": "v",
         "showlegend": true,
         "textposition": "auto",
         "type": "bar",
         "x": [
          "BUKU Ship",
          "Breazy",
          "BuiltBar",
          "Chirp",
          "Chukou1",
          "Demand Group",
          "EightCig",
          "Electric Tobacconist",
          "Element Vape - Buku",
          "Glas Inc",
          "Savvi",
          "Turning Point Brands",
          "Turntable Labs"
         ],
         "xaxis": "x",
         "y": [
          null,
          null,
          null,
          null,
          null,
          1,
          null,
          null,
          1,
          null,
          null,
          3,
          null
         ],
         "yaxis": "y"
        },
        {
         "alignmentgroup": "True",
         "hovertemplate": "Business Days=30.0<br>Organizations Name=%{x}<br>Number of Shipments=%{y}<extra></extra>",
         "legendgroup": "30.0",
         "marker": {
          "color": "#4C78A8",
          "pattern": {
           "shape": ""
          }
         },
         "name": "30.0",
         "offsetgroup": "30.0",
         "orientation": "v",
         "showlegend": true,
         "textposition": "auto",
         "type": "bar",
         "x": [
          "BUKU Ship",
          "Breazy",
          "BuiltBar",
          "Chirp",
          "Chukou1",
          "Demand Group",
          "EightCig",
          "Electric Tobacconist",
          "Element Vape - Buku",
          "Glas Inc",
          "Savvi",
          "Turning Point Brands",
          "Turntable Labs"
         ],
         "xaxis": "x",
         "y": [
          null,
          null,
          2,
          null,
          null,
          null,
          null,
          2,
          null,
          null,
          null,
          1,
          null
         ],
         "yaxis": "y"
        },
        {
         "alignmentgroup": "True",
         "hovertemplate": "Business Days=31.0<br>Organizations Name=%{x}<br>Number of Shipments=%{y}<extra></extra>",
         "legendgroup": "31.0",
         "marker": {
          "color": "#F58518",
          "pattern": {
           "shape": ""
          }
         },
         "name": "31.0",
         "offsetgroup": "31.0",
         "orientation": "v",
         "showlegend": true,
         "textposition": "auto",
         "type": "bar",
         "x": [
          "BUKU Ship",
          "Breazy",
          "BuiltBar",
          "Chirp",
          "Chukou1",
          "Demand Group",
          "EightCig",
          "Electric Tobacconist",
          "Element Vape - Buku",
          "Glas Inc",
          "Savvi",
          "Turning Point Brands",
          "Turntable Labs"
         ],
         "xaxis": "x",
         "y": [
          null,
          null,
          null,
          null,
          null,
          2,
          null,
          2,
          1,
          null,
          null,
          2,
          null
         ],
         "yaxis": "y"
        },
        {
         "alignmentgroup": "True",
         "hovertemplate": "Business Days=32.0<br>Organizations Name=%{x}<br>Number of Shipments=%{y}<extra></extra>",
         "legendgroup": "32.0",
         "marker": {
          "color": "#E45756",
          "pattern": {
           "shape": ""
          }
         },
         "name": "32.0",
         "offsetgroup": "32.0",
         "orientation": "v",
         "showlegend": true,
         "textposition": "auto",
         "type": "bar",
         "x": [
          "BUKU Ship",
          "Breazy",
          "BuiltBar",
          "Chirp",
          "Chukou1",
          "Demand Group",
          "EightCig",
          "Electric Tobacconist",
          "Element Vape - Buku",
          "Glas Inc",
          "Savvi",
          "Turning Point Brands",
          "Turntable Labs"
         ],
         "xaxis": "x",
         "y": [
          null,
          null,
          3,
          null,
          null,
          null,
          null,
          1,
          2,
          null,
          null,
          6,
          null
         ],
         "yaxis": "y"
        },
        {
         "alignmentgroup": "True",
         "hovertemplate": "Business Days=33.0<br>Organizations Name=%{x}<br>Number of Shipments=%{y}<extra></extra>",
         "legendgroup": "33.0",
         "marker": {
          "color": "#72B7B2",
          "pattern": {
           "shape": ""
          }
         },
         "name": "33.0",
         "offsetgroup": "33.0",
         "orientation": "v",
         "showlegend": true,
         "textposition": "auto",
         "type": "bar",
         "x": [
          "BUKU Ship",
          "Breazy",
          "BuiltBar",
          "Chirp",
          "Chukou1",
          "Demand Group",
          "EightCig",
          "Electric Tobacconist",
          "Element Vape - Buku",
          "Glas Inc",
          "Savvi",
          "Turning Point Brands",
          "Turntable Labs"
         ],
         "xaxis": "x",
         "y": [
          null,
          null,
          1,
          null,
          null,
          1,
          null,
          null,
          null,
          null,
          null,
          5,
          null
         ],
         "yaxis": "y"
        },
        {
         "alignmentgroup": "True",
         "hovertemplate": "Business Days=34.0<br>Organizations Name=%{x}<br>Number of Shipments=%{y}<extra></extra>",
         "legendgroup": "34.0",
         "marker": {
          "color": "#54A24B",
          "pattern": {
           "shape": ""
          }
         },
         "name": "34.0",
         "offsetgroup": "34.0",
         "orientation": "v",
         "showlegend": true,
         "textposition": "auto",
         "type": "bar",
         "x": [
          "BUKU Ship",
          "Breazy",
          "BuiltBar",
          "Chirp",
          "Chukou1",
          "Demand Group",
          "EightCig",
          "Electric Tobacconist",
          "Element Vape - Buku",
          "Glas Inc",
          "Savvi",
          "Turning Point Brands",
          "Turntable Labs"
         ],
         "xaxis": "x",
         "y": [
          null,
          null,
          2,
          null,
          null,
          4,
          null,
          5,
          null,
          null,
          null,
          2,
          null
         ],
         "yaxis": "y"
        },
        {
         "alignmentgroup": "True",
         "hovertemplate": "Business Days=35.0<br>Organizations Name=%{x}<br>Number of Shipments=%{y}<extra></extra>",
         "legendgroup": "35.0",
         "marker": {
          "color": "#EECA3B",
          "pattern": {
           "shape": ""
          }
         },
         "name": "35.0",
         "offsetgroup": "35.0",
         "orientation": "v",
         "showlegend": true,
         "textposition": "auto",
         "type": "bar",
         "x": [
          "BUKU Ship",
          "Breazy",
          "BuiltBar",
          "Chirp",
          "Chukou1",
          "Demand Group",
          "EightCig",
          "Electric Tobacconist",
          "Element Vape - Buku",
          "Glas Inc",
          "Savvi",
          "Turning Point Brands",
          "Turntable Labs"
         ],
         "xaxis": "x",
         "y": [
          null,
          null,
          null,
          null,
          null,
          1,
          null,
          3,
          null,
          null,
          null,
          1,
          null
         ],
         "yaxis": "y"
        },
        {
         "alignmentgroup": "True",
         "hovertemplate": "Business Days=36.0<br>Organizations Name=%{x}<br>Number of Shipments=%{y}<extra></extra>",
         "legendgroup": "36.0",
         "marker": {
          "color": "#B279A2",
          "pattern": {
           "shape": ""
          }
         },
         "name": "36.0",
         "offsetgroup": "36.0",
         "orientation": "v",
         "showlegend": true,
         "textposition": "auto",
         "type": "bar",
         "x": [
          "BUKU Ship",
          "Breazy",
          "BuiltBar",
          "Chirp",
          "Chukou1",
          "Demand Group",
          "EightCig",
          "Electric Tobacconist",
          "Element Vape - Buku",
          "Glas Inc",
          "Savvi",
          "Turning Point Brands",
          "Turntable Labs"
         ],
         "xaxis": "x",
         "y": [
          null,
          1,
          null,
          null,
          null,
          null,
          null,
          1,
          null,
          null,
          null,
          2,
          null
         ],
         "yaxis": "y"
        },
        {
         "alignmentgroup": "True",
         "hovertemplate": "Business Days=37.0<br>Organizations Name=%{x}<br>Number of Shipments=%{y}<extra></extra>",
         "legendgroup": "37.0",
         "marker": {
          "color": "#FF9DA6",
          "pattern": {
           "shape": ""
          }
         },
         "name": "37.0",
         "offsetgroup": "37.0",
         "orientation": "v",
         "showlegend": true,
         "textposition": "auto",
         "type": "bar",
         "x": [
          "BUKU Ship",
          "Breazy",
          "BuiltBar",
          "Chirp",
          "Chukou1",
          "Demand Group",
          "EightCig",
          "Electric Tobacconist",
          "Element Vape - Buku",
          "Glas Inc",
          "Savvi",
          "Turning Point Brands",
          "Turntable Labs"
         ],
         "xaxis": "x",
         "y": [
          null,
          null,
          2,
          1,
          null,
          null,
          null,
          2,
          null,
          null,
          null,
          null,
          null
         ],
         "yaxis": "y"
        },
        {
         "alignmentgroup": "True",
         "hovertemplate": "Business Days=38.0<br>Organizations Name=%{x}<br>Number of Shipments=%{y}<extra></extra>",
         "legendgroup": "38.0",
         "marker": {
          "color": "#9D755D",
          "pattern": {
           "shape": ""
          }
         },
         "name": "38.0",
         "offsetgroup": "38.0",
         "orientation": "v",
         "showlegend": true,
         "textposition": "auto",
         "type": "bar",
         "x": [
          "BUKU Ship",
          "Breazy",
          "BuiltBar",
          "Chirp",
          "Chukou1",
          "Demand Group",
          "EightCig",
          "Electric Tobacconist",
          "Element Vape - Buku",
          "Glas Inc",
          "Savvi",
          "Turning Point Brands",
          "Turntable Labs"
         ],
         "xaxis": "x",
         "y": [
          null,
          null,
          null,
          null,
          null,
          null,
          null,
          1,
          null,
          null,
          null,
          1,
          null
         ],
         "yaxis": "y"
        },
        {
         "alignmentgroup": "True",
         "hovertemplate": "Business Days=39.0<br>Organizations Name=%{x}<br>Number of Shipments=%{y}<extra></extra>",
         "legendgroup": "39.0",
         "marker": {
          "color": "#BAB0AC",
          "pattern": {
           "shape": ""
          }
         },
         "name": "39.0",
         "offsetgroup": "39.0",
         "orientation": "v",
         "showlegend": true,
         "textposition": "auto",
         "type": "bar",
         "x": [
          "BUKU Ship",
          "Breazy",
          "BuiltBar",
          "Chirp",
          "Chukou1",
          "Demand Group",
          "EightCig",
          "Electric Tobacconist",
          "Element Vape - Buku",
          "Glas Inc",
          "Savvi",
          "Turning Point Brands",
          "Turntable Labs"
         ],
         "xaxis": "x",
         "y": [
          null,
          1,
          null,
          null,
          null,
          null,
          null,
          2,
          null,
          null,
          null,
          1,
          null
         ],
         "yaxis": "y"
        },
        {
         "alignmentgroup": "True",
         "hovertemplate": "Business Days=40.0<br>Organizations Name=%{x}<br>Number of Shipments=%{y}<extra></extra>",
         "legendgroup": "40.0",
         "marker": {
          "color": "#4C78A8",
          "pattern": {
           "shape": ""
          }
         },
         "name": "40.0",
         "offsetgroup": "40.0",
         "orientation": "v",
         "showlegend": true,
         "textposition": "auto",
         "type": "bar",
         "x": [
          "BUKU Ship",
          "Breazy",
          "BuiltBar",
          "Chirp",
          "Chukou1",
          "Demand Group",
          "EightCig",
          "Electric Tobacconist",
          "Element Vape - Buku",
          "Glas Inc",
          "Savvi",
          "Turning Point Brands",
          "Turntable Labs"
         ],
         "xaxis": "x",
         "y": [
          null,
          null,
          1,
          null,
          null,
          null,
          null,
          1,
          null,
          null,
          null,
          1,
          null
         ],
         "yaxis": "y"
        },
        {
         "alignmentgroup": "True",
         "hovertemplate": "Business Days=41.0<br>Organizations Name=%{x}<br>Number of Shipments=%{y}<extra></extra>",
         "legendgroup": "41.0",
         "marker": {
          "color": "#F58518",
          "pattern": {
           "shape": ""
          }
         },
         "name": "41.0",
         "offsetgroup": "41.0",
         "orientation": "v",
         "showlegend": true,
         "textposition": "auto",
         "type": "bar",
         "x": [
          "BUKU Ship",
          "Breazy",
          "BuiltBar",
          "Chirp",
          "Chukou1",
          "Demand Group",
          "EightCig",
          "Electric Tobacconist",
          "Element Vape - Buku",
          "Glas Inc",
          "Savvi",
          "Turning Point Brands",
          "Turntable Labs"
         ],
         "xaxis": "x",
         "y": [
          null,
          null,
          2,
          null,
          null,
          null,
          null,
          null,
          null,
          null,
          null,
          null,
          null
         ],
         "yaxis": "y"
        },
        {
         "alignmentgroup": "True",
         "hovertemplate": "Business Days=42.0<br>Organizations Name=%{x}<br>Number of Shipments=%{y}<extra></extra>",
         "legendgroup": "42.0",
         "marker": {
          "color": "#E45756",
          "pattern": {
           "shape": ""
          }
         },
         "name": "42.0",
         "offsetgroup": "42.0",
         "orientation": "v",
         "showlegend": true,
         "textposition": "auto",
         "type": "bar",
         "x": [
          "BUKU Ship",
          "Breazy",
          "BuiltBar",
          "Chirp",
          "Chukou1",
          "Demand Group",
          "EightCig",
          "Electric Tobacconist",
          "Element Vape - Buku",
          "Glas Inc",
          "Savvi",
          "Turning Point Brands",
          "Turntable Labs"
         ],
         "xaxis": "x",
         "y": [
          null,
          null,
          1,
          null,
          null,
          null,
          null,
          1,
          1,
          null,
          null,
          1,
          null
         ],
         "yaxis": "y"
        },
        {
         "alignmentgroup": "True",
         "hovertemplate": "Business Days=43.0<br>Organizations Name=%{x}<br>Number of Shipments=%{y}<extra></extra>",
         "legendgroup": "43.0",
         "marker": {
          "color": "#72B7B2",
          "pattern": {
           "shape": ""
          }
         },
         "name": "43.0",
         "offsetgroup": "43.0",
         "orientation": "v",
         "showlegend": true,
         "textposition": "auto",
         "type": "bar",
         "x": [
          "BUKU Ship",
          "Breazy",
          "BuiltBar",
          "Chirp",
          "Chukou1",
          "Demand Group",
          "EightCig",
          "Electric Tobacconist",
          "Element Vape - Buku",
          "Glas Inc",
          "Savvi",
          "Turning Point Brands",
          "Turntable Labs"
         ],
         "xaxis": "x",
         "y": [
          null,
          null,
          null,
          null,
          null,
          null,
          null,
          1,
          1,
          null,
          null,
          1,
          null
         ],
         "yaxis": "y"
        },
        {
         "alignmentgroup": "True",
         "hovertemplate": "Business Days=44.0<br>Organizations Name=%{x}<br>Number of Shipments=%{y}<extra></extra>",
         "legendgroup": "44.0",
         "marker": {
          "color": "#54A24B",
          "pattern": {
           "shape": ""
          }
         },
         "name": "44.0",
         "offsetgroup": "44.0",
         "orientation": "v",
         "showlegend": true,
         "textposition": "auto",
         "type": "bar",
         "x": [
          "BUKU Ship",
          "Breazy",
          "BuiltBar",
          "Chirp",
          "Chukou1",
          "Demand Group",
          "EightCig",
          "Electric Tobacconist",
          "Element Vape - Buku",
          "Glas Inc",
          "Savvi",
          "Turning Point Brands",
          "Turntable Labs"
         ],
         "xaxis": "x",
         "y": [
          null,
          null,
          null,
          null,
          null,
          null,
          null,
          2,
          null,
          null,
          null,
          null,
          null
         ],
         "yaxis": "y"
        },
        {
         "alignmentgroup": "True",
         "hovertemplate": "Business Days=45.0<br>Organizations Name=%{x}<br>Number of Shipments=%{y}<extra></extra>",
         "legendgroup": "45.0",
         "marker": {
          "color": "#EECA3B",
          "pattern": {
           "shape": ""
          }
         },
         "name": "45.0",
         "offsetgroup": "45.0",
         "orientation": "v",
         "showlegend": true,
         "textposition": "auto",
         "type": "bar",
         "x": [
          "BUKU Ship",
          "Breazy",
          "BuiltBar",
          "Chirp",
          "Chukou1",
          "Demand Group",
          "EightCig",
          "Electric Tobacconist",
          "Element Vape - Buku",
          "Glas Inc",
          "Savvi",
          "Turning Point Brands",
          "Turntable Labs"
         ],
         "xaxis": "x",
         "y": [
          null,
          null,
          1,
          null,
          null,
          null,
          null,
          2,
          null,
          null,
          null,
          null,
          null
         ],
         "yaxis": "y"
        },
        {
         "alignmentgroup": "True",
         "hovertemplate": "Business Days=46.0<br>Organizations Name=%{x}<br>Number of Shipments=%{y}<extra></extra>",
         "legendgroup": "46.0",
         "marker": {
          "color": "#B279A2",
          "pattern": {
           "shape": ""
          }
         },
         "name": "46.0",
         "offsetgroup": "46.0",
         "orientation": "v",
         "showlegend": true,
         "textposition": "auto",
         "type": "bar",
         "x": [
          "BUKU Ship",
          "Breazy",
          "BuiltBar",
          "Chirp",
          "Chukou1",
          "Demand Group",
          "EightCig",
          "Electric Tobacconist",
          "Element Vape - Buku",
          "Glas Inc",
          "Savvi",
          "Turning Point Brands",
          "Turntable Labs"
         ],
         "xaxis": "x",
         "y": [
          null,
          null,
          null,
          null,
          null,
          1,
          null,
          null,
          null,
          null,
          null,
          null,
          null
         ],
         "yaxis": "y"
        },
        {
         "alignmentgroup": "True",
         "hovertemplate": "Business Days=47.0<br>Organizations Name=%{x}<br>Number of Shipments=%{y}<extra></extra>",
         "legendgroup": "47.0",
         "marker": {
          "color": "#FF9DA6",
          "pattern": {
           "shape": ""
          }
         },
         "name": "47.0",
         "offsetgroup": "47.0",
         "orientation": "v",
         "showlegend": true,
         "textposition": "auto",
         "type": "bar",
         "x": [
          "BUKU Ship",
          "Breazy",
          "BuiltBar",
          "Chirp",
          "Chukou1",
          "Demand Group",
          "EightCig",
          "Electric Tobacconist",
          "Element Vape - Buku",
          "Glas Inc",
          "Savvi",
          "Turning Point Brands",
          "Turntable Labs"
         ],
         "xaxis": "x",
         "y": [
          null,
          null,
          1,
          null,
          null,
          1,
          null,
          1,
          null,
          null,
          null,
          null,
          null
         ],
         "yaxis": "y"
        },
        {
         "alignmentgroup": "True",
         "hovertemplate": "Business Days=49.0<br>Organizations Name=%{x}<br>Number of Shipments=%{y}<extra></extra>",
         "legendgroup": "49.0",
         "marker": {
          "color": "#9D755D",
          "pattern": {
           "shape": ""
          }
         },
         "name": "49.0",
         "offsetgroup": "49.0",
         "orientation": "v",
         "showlegend": true,
         "textposition": "auto",
         "type": "bar",
         "x": [
          "BUKU Ship",
          "Breazy",
          "BuiltBar",
          "Chirp",
          "Chukou1",
          "Demand Group",
          "EightCig",
          "Electric Tobacconist",
          "Element Vape - Buku",
          "Glas Inc",
          "Savvi",
          "Turning Point Brands",
          "Turntable Labs"
         ],
         "xaxis": "x",
         "y": [
          null,
          null,
          null,
          null,
          null,
          1,
          null,
          3,
          null,
          null,
          null,
          1,
          null
         ],
         "yaxis": "y"
        },
        {
         "alignmentgroup": "True",
         "hovertemplate": "Business Days=50.0<br>Organizations Name=%{x}<br>Number of Shipments=%{y}<extra></extra>",
         "legendgroup": "50.0",
         "marker": {
          "color": "#BAB0AC",
          "pattern": {
           "shape": ""
          }
         },
         "name": "50.0",
         "offsetgroup": "50.0",
         "orientation": "v",
         "showlegend": true,
         "textposition": "auto",
         "type": "bar",
         "x": [
          "BUKU Ship",
          "Breazy",
          "BuiltBar",
          "Chirp",
          "Chukou1",
          "Demand Group",
          "EightCig",
          "Electric Tobacconist",
          "Element Vape - Buku",
          "Glas Inc",
          "Savvi",
          "Turning Point Brands",
          "Turntable Labs"
         ],
         "xaxis": "x",
         "y": [
          null,
          null,
          1,
          null,
          null,
          null,
          null,
          null,
          null,
          null,
          null,
          null,
          null
         ],
         "yaxis": "y"
        },
        {
         "alignmentgroup": "True",
         "hovertemplate": "Business Days=51.0<br>Organizations Name=%{x}<br>Number of Shipments=%{y}<extra></extra>",
         "legendgroup": "51.0",
         "marker": {
          "color": "#4C78A8",
          "pattern": {
           "shape": ""
          }
         },
         "name": "51.0",
         "offsetgroup": "51.0",
         "orientation": "v",
         "showlegend": true,
         "textposition": "auto",
         "type": "bar",
         "x": [
          "BUKU Ship",
          "Breazy",
          "BuiltBar",
          "Chirp",
          "Chukou1",
          "Demand Group",
          "EightCig",
          "Electric Tobacconist",
          "Element Vape - Buku",
          "Glas Inc",
          "Savvi",
          "Turning Point Brands",
          "Turntable Labs"
         ],
         "xaxis": "x",
         "y": [
          null,
          null,
          null,
          null,
          null,
          1,
          null,
          null,
          null,
          null,
          null,
          null,
          null
         ],
         "yaxis": "y"
        },
        {
         "alignmentgroup": "True",
         "hovertemplate": "Business Days=52.0<br>Organizations Name=%{x}<br>Number of Shipments=%{y}<extra></extra>",
         "legendgroup": "52.0",
         "marker": {
          "color": "#F58518",
          "pattern": {
           "shape": ""
          }
         },
         "name": "52.0",
         "offsetgroup": "52.0",
         "orientation": "v",
         "showlegend": true,
         "textposition": "auto",
         "type": "bar",
         "x": [
          "BUKU Ship",
          "Breazy",
          "BuiltBar",
          "Chirp",
          "Chukou1",
          "Demand Group",
          "EightCig",
          "Electric Tobacconist",
          "Element Vape - Buku",
          "Glas Inc",
          "Savvi",
          "Turning Point Brands",
          "Turntable Labs"
         ],
         "xaxis": "x",
         "y": [
          null,
          null,
          null,
          null,
          null,
          null,
          null,
          null,
          null,
          null,
          null,
          1,
          null
         ],
         "yaxis": "y"
        },
        {
         "alignmentgroup": "True",
         "hovertemplate": "Business Days=53.0<br>Organizations Name=%{x}<br>Number of Shipments=%{y}<extra></extra>",
         "legendgroup": "53.0",
         "marker": {
          "color": "#E45756",
          "pattern": {
           "shape": ""
          }
         },
         "name": "53.0",
         "offsetgroup": "53.0",
         "orientation": "v",
         "showlegend": true,
         "textposition": "auto",
         "type": "bar",
         "x": [
          "BUKU Ship",
          "Breazy",
          "BuiltBar",
          "Chirp",
          "Chukou1",
          "Demand Group",
          "EightCig",
          "Electric Tobacconist",
          "Element Vape - Buku",
          "Glas Inc",
          "Savvi",
          "Turning Point Brands",
          "Turntable Labs"
         ],
         "xaxis": "x",
         "y": [
          null,
          null,
          1,
          null,
          null,
          null,
          null,
          null,
          null,
          1,
          null,
          null,
          null
         ],
         "yaxis": "y"
        },
        {
         "alignmentgroup": "True",
         "hovertemplate": "Business Days=54.0<br>Organizations Name=%{x}<br>Number of Shipments=%{y}<extra></extra>",
         "legendgroup": "54.0",
         "marker": {
          "color": "#72B7B2",
          "pattern": {
           "shape": ""
          }
         },
         "name": "54.0",
         "offsetgroup": "54.0",
         "orientation": "v",
         "showlegend": true,
         "textposition": "auto",
         "type": "bar",
         "x": [
          "BUKU Ship",
          "Breazy",
          "BuiltBar",
          "Chirp",
          "Chukou1",
          "Demand Group",
          "EightCig",
          "Electric Tobacconist",
          "Element Vape - Buku",
          "Glas Inc",
          "Savvi",
          "Turning Point Brands",
          "Turntable Labs"
         ],
         "xaxis": "x",
         "y": [
          null,
          1,
          null,
          null,
          null,
          null,
          null,
          1,
          null,
          null,
          null,
          null,
          null
         ],
         "yaxis": "y"
        },
        {
         "alignmentgroup": "True",
         "hovertemplate": "Business Days=56.0<br>Organizations Name=%{x}<br>Number of Shipments=%{y}<extra></extra>",
         "legendgroup": "56.0",
         "marker": {
          "color": "#54A24B",
          "pattern": {
           "shape": ""
          }
         },
         "name": "56.0",
         "offsetgroup": "56.0",
         "orientation": "v",
         "showlegend": true,
         "textposition": "auto",
         "type": "bar",
         "x": [
          "BUKU Ship",
          "Breazy",
          "BuiltBar",
          "Chirp",
          "Chukou1",
          "Demand Group",
          "EightCig",
          "Electric Tobacconist",
          "Element Vape - Buku",
          "Glas Inc",
          "Savvi",
          "Turning Point Brands",
          "Turntable Labs"
         ],
         "xaxis": "x",
         "y": [
          null,
          null,
          null,
          null,
          null,
          null,
          null,
          1,
          null,
          null,
          null,
          null,
          null
         ],
         "yaxis": "y"
        },
        {
         "alignmentgroup": "True",
         "hovertemplate": "Business Days=58.0<br>Organizations Name=%{x}<br>Number of Shipments=%{y}<extra></extra>",
         "legendgroup": "58.0",
         "marker": {
          "color": "#EECA3B",
          "pattern": {
           "shape": ""
          }
         },
         "name": "58.0",
         "offsetgroup": "58.0",
         "orientation": "v",
         "showlegend": true,
         "textposition": "auto",
         "type": "bar",
         "x": [
          "BUKU Ship",
          "Breazy",
          "BuiltBar",
          "Chirp",
          "Chukou1",
          "Demand Group",
          "EightCig",
          "Electric Tobacconist",
          "Element Vape - Buku",
          "Glas Inc",
          "Savvi",
          "Turning Point Brands",
          "Turntable Labs"
         ],
         "xaxis": "x",
         "y": [
          null,
          null,
          null,
          null,
          null,
          null,
          null,
          1,
          null,
          null,
          null,
          null,
          null
         ],
         "yaxis": "y"
        },
        {
         "alignmentgroup": "True",
         "hovertemplate": "Business Days=60.0<br>Organizations Name=%{x}<br>Number of Shipments=%{y}<extra></extra>",
         "legendgroup": "60.0",
         "marker": {
          "color": "#B279A2",
          "pattern": {
           "shape": ""
          }
         },
         "name": "60.0",
         "offsetgroup": "60.0",
         "orientation": "v",
         "showlegend": true,
         "textposition": "auto",
         "type": "bar",
         "x": [
          "BUKU Ship",
          "Breazy",
          "BuiltBar",
          "Chirp",
          "Chukou1",
          "Demand Group",
          "EightCig",
          "Electric Tobacconist",
          "Element Vape - Buku",
          "Glas Inc",
          "Savvi",
          "Turning Point Brands",
          "Turntable Labs"
         ],
         "xaxis": "x",
         "y": [
          null,
          null,
          null,
          null,
          null,
          null,
          null,
          null,
          null,
          null,
          null,
          1,
          null
         ],
         "yaxis": "y"
        }
       ],
       "layout": {
        "barmode": "stack",
        "height": 800,
        "legend": {
         "title": {
          "text": "Business Days"
         },
         "tracegroupgap": 0
        },
        "template": {
         "data": {
          "bar": [
           {
            "error_x": {
             "color": "#2a3f5f"
            },
            "error_y": {
             "color": "#2a3f5f"
            },
            "marker": {
             "line": {
              "color": "#E5ECF6",
              "width": 0.5
             },
             "pattern": {
              "fillmode": "overlay",
              "size": 10,
              "solidity": 0.2
             }
            },
            "type": "bar"
           }
          ],
          "barpolar": [
           {
            "marker": {
             "line": {
              "color": "#E5ECF6",
              "width": 0.5
             },
             "pattern": {
              "fillmode": "overlay",
              "size": 10,
              "solidity": 0.2
             }
            },
            "type": "barpolar"
           }
          ],
          "carpet": [
           {
            "aaxis": {
             "endlinecolor": "#2a3f5f",
             "gridcolor": "white",
             "linecolor": "white",
             "minorgridcolor": "white",
             "startlinecolor": "#2a3f5f"
            },
            "baxis": {
             "endlinecolor": "#2a3f5f",
             "gridcolor": "white",
             "linecolor": "white",
             "minorgridcolor": "white",
             "startlinecolor": "#2a3f5f"
            },
            "type": "carpet"
           }
          ],
          "choropleth": [
           {
            "colorbar": {
             "outlinewidth": 0,
             "ticks": ""
            },
            "type": "choropleth"
           }
          ],
          "contour": [
           {
            "colorbar": {
             "outlinewidth": 0,
             "ticks": ""
            },
            "colorscale": [
             [
              0,
              "#0d0887"
             ],
             [
              0.1111111111111111,
              "#46039f"
             ],
             [
              0.2222222222222222,
              "#7201a8"
             ],
             [
              0.3333333333333333,
              "#9c179e"
             ],
             [
              0.4444444444444444,
              "#bd3786"
             ],
             [
              0.5555555555555556,
              "#d8576b"
             ],
             [
              0.6666666666666666,
              "#ed7953"
             ],
             [
              0.7777777777777778,
              "#fb9f3a"
             ],
             [
              0.8888888888888888,
              "#fdca26"
             ],
             [
              1,
              "#f0f921"
             ]
            ],
            "type": "contour"
           }
          ],
          "contourcarpet": [
           {
            "colorbar": {
             "outlinewidth": 0,
             "ticks": ""
            },
            "type": "contourcarpet"
           }
          ],
          "heatmap": [
           {
            "colorbar": {
             "outlinewidth": 0,
             "ticks": ""
            },
            "colorscale": [
             [
              0,
              "#0d0887"
             ],
             [
              0.1111111111111111,
              "#46039f"
             ],
             [
              0.2222222222222222,
              "#7201a8"
             ],
             [
              0.3333333333333333,
              "#9c179e"
             ],
             [
              0.4444444444444444,
              "#bd3786"
             ],
             [
              0.5555555555555556,
              "#d8576b"
             ],
             [
              0.6666666666666666,
              "#ed7953"
             ],
             [
              0.7777777777777778,
              "#fb9f3a"
             ],
             [
              0.8888888888888888,
              "#fdca26"
             ],
             [
              1,
              "#f0f921"
             ]
            ],
            "type": "heatmap"
           }
          ],
          "heatmapgl": [
           {
            "colorbar": {
             "outlinewidth": 0,
             "ticks": ""
            },
            "colorscale": [
             [
              0,
              "#0d0887"
             ],
             [
              0.1111111111111111,
              "#46039f"
             ],
             [
              0.2222222222222222,
              "#7201a8"
             ],
             [
              0.3333333333333333,
              "#9c179e"
             ],
             [
              0.4444444444444444,
              "#bd3786"
             ],
             [
              0.5555555555555556,
              "#d8576b"
             ],
             [
              0.6666666666666666,
              "#ed7953"
             ],
             [
              0.7777777777777778,
              "#fb9f3a"
             ],
             [
              0.8888888888888888,
              "#fdca26"
             ],
             [
              1,
              "#f0f921"
             ]
            ],
            "type": "heatmapgl"
           }
          ],
          "histogram": [
           {
            "marker": {
             "pattern": {
              "fillmode": "overlay",
              "size": 10,
              "solidity": 0.2
             }
            },
            "type": "histogram"
           }
          ],
          "histogram2d": [
           {
            "colorbar": {
             "outlinewidth": 0,
             "ticks": ""
            },
            "colorscale": [
             [
              0,
              "#0d0887"
             ],
             [
              0.1111111111111111,
              "#46039f"
             ],
             [
              0.2222222222222222,
              "#7201a8"
             ],
             [
              0.3333333333333333,
              "#9c179e"
             ],
             [
              0.4444444444444444,
              "#bd3786"
             ],
             [
              0.5555555555555556,
              "#d8576b"
             ],
             [
              0.6666666666666666,
              "#ed7953"
             ],
             [
              0.7777777777777778,
              "#fb9f3a"
             ],
             [
              0.8888888888888888,
              "#fdca26"
             ],
             [
              1,
              "#f0f921"
             ]
            ],
            "type": "histogram2d"
           }
          ],
          "histogram2dcontour": [
           {
            "colorbar": {
             "outlinewidth": 0,
             "ticks": ""
            },
            "colorscale": [
             [
              0,
              "#0d0887"
             ],
             [
              0.1111111111111111,
              "#46039f"
             ],
             [
              0.2222222222222222,
              "#7201a8"
             ],
             [
              0.3333333333333333,
              "#9c179e"
             ],
             [
              0.4444444444444444,
              "#bd3786"
             ],
             [
              0.5555555555555556,
              "#d8576b"
             ],
             [
              0.6666666666666666,
              "#ed7953"
             ],
             [
              0.7777777777777778,
              "#fb9f3a"
             ],
             [
              0.8888888888888888,
              "#fdca26"
             ],
             [
              1,
              "#f0f921"
             ]
            ],
            "type": "histogram2dcontour"
           }
          ],
          "mesh3d": [
           {
            "colorbar": {
             "outlinewidth": 0,
             "ticks": ""
            },
            "type": "mesh3d"
           }
          ],
          "parcoords": [
           {
            "line": {
             "colorbar": {
              "outlinewidth": 0,
              "ticks": ""
             }
            },
            "type": "parcoords"
           }
          ],
          "pie": [
           {
            "automargin": true,
            "type": "pie"
           }
          ],
          "scatter": [
           {
            "marker": {
             "colorbar": {
              "outlinewidth": 0,
              "ticks": ""
             }
            },
            "type": "scatter"
           }
          ],
          "scatter3d": [
           {
            "line": {
             "colorbar": {
              "outlinewidth": 0,
              "ticks": ""
             }
            },
            "marker": {
             "colorbar": {
              "outlinewidth": 0,
              "ticks": ""
             }
            },
            "type": "scatter3d"
           }
          ],
          "scattercarpet": [
           {
            "marker": {
             "colorbar": {
              "outlinewidth": 0,
              "ticks": ""
             }
            },
            "type": "scattercarpet"
           }
          ],
          "scattergeo": [
           {
            "marker": {
             "colorbar": {
              "outlinewidth": 0,
              "ticks": ""
             }
            },
            "type": "scattergeo"
           }
          ],
          "scattergl": [
           {
            "marker": {
             "colorbar": {
              "outlinewidth": 0,
              "ticks": ""
             }
            },
            "type": "scattergl"
           }
          ],
          "scattermapbox": [
           {
            "marker": {
             "colorbar": {
              "outlinewidth": 0,
              "ticks": ""
             }
            },
            "type": "scattermapbox"
           }
          ],
          "scatterpolar": [
           {
            "marker": {
             "colorbar": {
              "outlinewidth": 0,
              "ticks": ""
             }
            },
            "type": "scatterpolar"
           }
          ],
          "scatterpolargl": [
           {
            "marker": {
             "colorbar": {
              "outlinewidth": 0,
              "ticks": ""
             }
            },
            "type": "scatterpolargl"
           }
          ],
          "scatterternary": [
           {
            "marker": {
             "colorbar": {
              "outlinewidth": 0,
              "ticks": ""
             }
            },
            "type": "scatterternary"
           }
          ],
          "surface": [
           {
            "colorbar": {
             "outlinewidth": 0,
             "ticks": ""
            },
            "colorscale": [
             [
              0,
              "#0d0887"
             ],
             [
              0.1111111111111111,
              "#46039f"
             ],
             [
              0.2222222222222222,
              "#7201a8"
             ],
             [
              0.3333333333333333,
              "#9c179e"
             ],
             [
              0.4444444444444444,
              "#bd3786"
             ],
             [
              0.5555555555555556,
              "#d8576b"
             ],
             [
              0.6666666666666666,
              "#ed7953"
             ],
             [
              0.7777777777777778,
              "#fb9f3a"
             ],
             [
              0.8888888888888888,
              "#fdca26"
             ],
             [
              1,
              "#f0f921"
             ]
            ],
            "type": "surface"
           }
          ],
          "table": [
           {
            "cells": {
             "fill": {
              "color": "#EBF0F8"
             },
             "line": {
              "color": "white"
             }
            },
            "header": {
             "fill": {
              "color": "#C8D4E3"
             },
             "line": {
              "color": "white"
             }
            },
            "type": "table"
           }
          ]
         },
         "layout": {
          "annotationdefaults": {
           "arrowcolor": "#2a3f5f",
           "arrowhead": 0,
           "arrowwidth": 1
          },
          "autotypenumbers": "strict",
          "coloraxis": {
           "colorbar": {
            "outlinewidth": 0,
            "ticks": ""
           }
          },
          "colorscale": {
           "diverging": [
            [
             0,
             "#8e0152"
            ],
            [
             0.1,
             "#c51b7d"
            ],
            [
             0.2,
             "#de77ae"
            ],
            [
             0.3,
             "#f1b6da"
            ],
            [
             0.4,
             "#fde0ef"
            ],
            [
             0.5,
             "#f7f7f7"
            ],
            [
             0.6,
             "#e6f5d0"
            ],
            [
             0.7,
             "#b8e186"
            ],
            [
             0.8,
             "#7fbc41"
            ],
            [
             0.9,
             "#4d9221"
            ],
            [
             1,
             "#276419"
            ]
           ],
           "sequential": [
            [
             0,
             "#0d0887"
            ],
            [
             0.1111111111111111,
             "#46039f"
            ],
            [
             0.2222222222222222,
             "#7201a8"
            ],
            [
             0.3333333333333333,
             "#9c179e"
            ],
            [
             0.4444444444444444,
             "#bd3786"
            ],
            [
             0.5555555555555556,
             "#d8576b"
            ],
            [
             0.6666666666666666,
             "#ed7953"
            ],
            [
             0.7777777777777778,
             "#fb9f3a"
            ],
            [
             0.8888888888888888,
             "#fdca26"
            ],
            [
             1,
             "#f0f921"
            ]
           ],
           "sequentialminus": [
            [
             0,
             "#0d0887"
            ],
            [
             0.1111111111111111,
             "#46039f"
            ],
            [
             0.2222222222222222,
             "#7201a8"
            ],
            [
             0.3333333333333333,
             "#9c179e"
            ],
            [
             0.4444444444444444,
             "#bd3786"
            ],
            [
             0.5555555555555556,
             "#d8576b"
            ],
            [
             0.6666666666666666,
             "#ed7953"
            ],
            [
             0.7777777777777778,
             "#fb9f3a"
            ],
            [
             0.8888888888888888,
             "#fdca26"
            ],
            [
             1,
             "#f0f921"
            ]
           ]
          },
          "colorway": [
           "#636efa",
           "#EF553B",
           "#00cc96",
           "#ab63fa",
           "#FFA15A",
           "#19d3f3",
           "#FF6692",
           "#B6E880",
           "#FF97FF",
           "#FECB52"
          ],
          "font": {
           "color": "#2a3f5f"
          },
          "geo": {
           "bgcolor": "white",
           "lakecolor": "white",
           "landcolor": "#E5ECF6",
           "showlakes": true,
           "showland": true,
           "subunitcolor": "white"
          },
          "hoverlabel": {
           "align": "left"
          },
          "hovermode": "closest",
          "mapbox": {
           "style": "light"
          },
          "paper_bgcolor": "white",
          "plot_bgcolor": "#E5ECF6",
          "polar": {
           "angularaxis": {
            "gridcolor": "white",
            "linecolor": "white",
            "ticks": ""
           },
           "bgcolor": "#E5ECF6",
           "radialaxis": {
            "gridcolor": "white",
            "linecolor": "white",
            "ticks": ""
           }
          },
          "scene": {
           "xaxis": {
            "backgroundcolor": "#E5ECF6",
            "gridcolor": "white",
            "gridwidth": 2,
            "linecolor": "white",
            "showbackground": true,
            "ticks": "",
            "zerolinecolor": "white"
           },
           "yaxis": {
            "backgroundcolor": "#E5ECF6",
            "gridcolor": "white",
            "gridwidth": 2,
            "linecolor": "white",
            "showbackground": true,
            "ticks": "",
            "zerolinecolor": "white"
           },
           "zaxis": {
            "backgroundcolor": "#E5ECF6",
            "gridcolor": "white",
            "gridwidth": 2,
            "linecolor": "white",
            "showbackground": true,
            "ticks": "",
            "zerolinecolor": "white"
           }
          },
          "shapedefaults": {
           "line": {
            "color": "#2a3f5f"
           }
          },
          "ternary": {
           "aaxis": {
            "gridcolor": "white",
            "linecolor": "white",
            "ticks": ""
           },
           "baxis": {
            "gridcolor": "white",
            "linecolor": "white",
            "ticks": ""
           },
           "bgcolor": "#E5ECF6",
           "caxis": {
            "gridcolor": "white",
            "linecolor": "white",
            "ticks": ""
           }
          },
          "title": {
           "x": 0.05
          },
          "xaxis": {
           "automargin": true,
           "gridcolor": "white",
           "linecolor": "white",
           "ticks": "",
           "title": {
            "standoff": 15
           },
           "zerolinecolor": "white",
           "zerolinewidth": 2
          },
          "yaxis": {
           "automargin": true,
           "gridcolor": "white",
           "linecolor": "white",
           "ticks": "",
           "title": {
            "standoff": 15
           },
           "zerolinecolor": "white",
           "zerolinewidth": 2
          }
         }
        },
        "title": {
         "text": "Delivery Time Distributions"
        },
        "width": 800,
        "xaxis": {
         "anchor": "y",
         "domain": [
          0,
          1
         ],
         "title": {
          "text": "Organizations Name"
         }
        },
        "yaxis": {
         "anchor": "x",
         "domain": [
          0,
          1
         ],
         "title": {
          "text": "Number of Shipments"
         }
        }
       }
      },
      "text/html": [
       "<div>                            <div id=\"3e763b35-8eba-4c6d-b482-c34f14e170e4\" class=\"plotly-graph-div\" style=\"height:800px; width:800px;\"></div>            <script type=\"text/javascript\">                require([\"plotly\"], function(Plotly) {                    window.PLOTLYENV=window.PLOTLYENV || {};                                    if (document.getElementById(\"3e763b35-8eba-4c6d-b482-c34f14e170e4\")) {                    Plotly.newPlot(                        \"3e763b35-8eba-4c6d-b482-c34f14e170e4\",                        [{\"alignmentgroup\":\"True\",\"hovertemplate\":\"Business Days=0.0<br>Organizations Name=%{x}<br>Number of Shipments=%{y}<extra></extra>\",\"legendgroup\":\"0.0\",\"marker\":{\"color\":\"#4C78A8\",\"pattern\":{\"shape\":\"\"}},\"name\":\"0.0\",\"offsetgroup\":\"0.0\",\"orientation\":\"v\",\"showlegend\":true,\"textposition\":\"auto\",\"type\":\"bar\",\"x\":[\"BUKU Ship\",\"Breazy\",\"BuiltBar\",\"Chirp\",\"Chukou1\",\"Demand Group\",\"EightCig\",\"Electric Tobacconist\",\"Element Vape - Buku\",\"Glas Inc\",\"Savvi\",\"Turning Point Brands\",\"Turntable Labs\"],\"xaxis\":\"x\",\"y\":[null,null,2162.0,7.0,106.0,1.0,null,4.0,null,null,52.0,16.0,86.0],\"yaxis\":\"y\"},{\"alignmentgroup\":\"True\",\"hovertemplate\":\"Business Days=1.0<br>Organizations Name=%{x}<br>Number of Shipments=%{y}<extra></extra>\",\"legendgroup\":\"1.0\",\"marker\":{\"color\":\"#F58518\",\"pattern\":{\"shape\":\"\"}},\"name\":\"1.0\",\"offsetgroup\":\"1.0\",\"orientation\":\"v\",\"showlegend\":true,\"textposition\":\"auto\",\"type\":\"bar\",\"x\":[\"BUKU Ship\",\"Breazy\",\"BuiltBar\",\"Chirp\",\"Chukou1\",\"Demand Group\",\"EightCig\",\"Electric Tobacconist\",\"Element Vape - Buku\",\"Glas Inc\",\"Savvi\",\"Turning Point Brands\",\"Turntable Labs\"],\"xaxis\":\"x\",\"y\":[34.0,null,53345.0,524.0,515.0,18.0,null,8.0,2.0,null,529.0,40.0,476.0],\"yaxis\":\"y\"},{\"alignmentgroup\":\"True\",\"hovertemplate\":\"Business Days=2.0<br>Organizations Name=%{x}<br>Number of Shipments=%{y}<extra></extra>\",\"legendgroup\":\"2.0\",\"marker\":{\"color\":\"#E45756\",\"pattern\":{\"shape\":\"\"}},\"name\":\"2.0\",\"offsetgroup\":\"2.0\",\"orientation\":\"v\",\"showlegend\":true,\"textposition\":\"auto\",\"type\":\"bar\",\"x\":[\"BUKU Ship\",\"Breazy\",\"BuiltBar\",\"Chirp\",\"Chukou1\",\"Demand Group\",\"EightCig\",\"Electric Tobacconist\",\"Element Vape - Buku\",\"Glas Inc\",\"Savvi\",\"Turning Point Brands\",\"Turntable Labs\"],\"xaxis\":\"x\",\"y\":[395.0,null,97999.0,1290.0,199.0,5.0,null,34.0,3975.0,null,1721.0,455.0,681.0],\"yaxis\":\"y\"},{\"alignmentgroup\":\"True\",\"hovertemplate\":\"Business Days=3.0<br>Organizations Name=%{x}<br>Number of Shipments=%{y}<extra></extra>\",\"legendgroup\":\"3.0\",\"marker\":{\"color\":\"#72B7B2\",\"pattern\":{\"shape\":\"\"}},\"name\":\"3.0\",\"offsetgroup\":\"3.0\",\"orientation\":\"v\",\"showlegend\":true,\"textposition\":\"auto\",\"type\":\"bar\",\"x\":[\"BUKU Ship\",\"Breazy\",\"BuiltBar\",\"Chirp\",\"Chukou1\",\"Demand Group\",\"EightCig\",\"Electric Tobacconist\",\"Element Vape - Buku\",\"Glas Inc\",\"Savvi\",\"Turning Point Brands\",\"Turntable Labs\"],\"xaxis\":\"x\",\"y\":[145.0,4.0,88751.0,1300.0,49.0,8.0,null,1050.0,604.0,27.0,1918.0,3063.0,648.0],\"yaxis\":\"y\"},{\"alignmentgroup\":\"True\",\"hovertemplate\":\"Business Days=4.0<br>Organizations Name=%{x}<br>Number of Shipments=%{y}<extra></extra>\",\"legendgroup\":\"4.0\",\"marker\":{\"color\":\"#54A24B\",\"pattern\":{\"shape\":\"\"}},\"name\":\"4.0\",\"offsetgroup\":\"4.0\",\"orientation\":\"v\",\"showlegend\":true,\"textposition\":\"auto\",\"type\":\"bar\",\"x\":[\"BUKU Ship\",\"Breazy\",\"BuiltBar\",\"Chirp\",\"Chukou1\",\"Demand Group\",\"EightCig\",\"Electric Tobacconist\",\"Element Vape - Buku\",\"Glas Inc\",\"Savvi\",\"Turning Point Brands\",\"Turntable Labs\"],\"xaxis\":\"x\",\"y\":[50.0,16.0,53493.0,1118.0,9.0,141.0,null,2893.0,427.0,9.0,2398.0,4979.0,639.0],\"yaxis\":\"y\"},{\"alignmentgroup\":\"True\",\"hovertemplate\":\"Business Days=5.0<br>Organizations Name=%{x}<br>Number of Shipments=%{y}<extra></extra>\",\"legendgroup\":\"5.0\",\"marker\":{\"color\":\"#EECA3B\",\"pattern\":{\"shape\":\"\"}},\"name\":\"5.0\",\"offsetgroup\":\"5.0\",\"orientation\":\"v\",\"showlegend\":true,\"textposition\":\"auto\",\"type\":\"bar\",\"x\":[\"BUKU Ship\",\"Breazy\",\"BuiltBar\",\"Chirp\",\"Chukou1\",\"Demand Group\",\"EightCig\",\"Electric Tobacconist\",\"Element Vape - Buku\",\"Glas Inc\",\"Savvi\",\"Turning Point Brands\",\"Turntable Labs\"],\"xaxis\":\"x\",\"y\":[20.0,78.0,19287.0,394.0,3.0,385.0,null,2128.0,362.0,2.0,982.0,3501.0,357.0],\"yaxis\":\"y\"},{\"alignmentgroup\":\"True\",\"hovertemplate\":\"Business Days=6.0<br>Organizations Name=%{x}<br>Number of Shipments=%{y}<extra></extra>\",\"legendgroup\":\"6.0\",\"marker\":{\"color\":\"#B279A2\",\"pattern\":{\"shape\":\"\"}},\"name\":\"6.0\",\"offsetgroup\":\"6.0\",\"orientation\":\"v\",\"showlegend\":true,\"textposition\":\"auto\",\"type\":\"bar\",\"x\":[\"BUKU Ship\",\"Breazy\",\"BuiltBar\",\"Chirp\",\"Chukou1\",\"Demand Group\",\"EightCig\",\"Electric Tobacconist\",\"Element Vape - Buku\",\"Glas Inc\",\"Savvi\",\"Turning Point Brands\",\"Turntable Labs\"],\"xaxis\":\"x\",\"y\":[null,140.0,7142.0,156.0,1.0,866.0,15.0,1441.0,192.0,1.0,281.0,2654.0,153.0],\"yaxis\":\"y\"},{\"alignmentgroup\":\"True\",\"hovertemplate\":\"Business Days=7.0<br>Organizations Name=%{x}<br>Number of Shipments=%{y}<extra></extra>\",\"legendgroup\":\"7.0\",\"marker\":{\"color\":\"#FF9DA6\",\"pattern\":{\"shape\":\"\"}},\"name\":\"7.0\",\"offsetgroup\":\"7.0\",\"orientation\":\"v\",\"showlegend\":true,\"textposition\":\"auto\",\"type\":\"bar\",\"x\":[\"BUKU Ship\",\"Breazy\",\"BuiltBar\",\"Chirp\",\"Chukou1\",\"Demand Group\",\"EightCig\",\"Electric Tobacconist\",\"Element Vape - Buku\",\"Glas Inc\",\"Savvi\",\"Turning Point Brands\",\"Turntable Labs\"],\"xaxis\":\"x\",\"y\":[null,100.0,2905.0,129.0,2.0,1190.0,19.0,791.0,290.0,1.0,107.0,1099.0,108.0],\"yaxis\":\"y\"},{\"alignmentgroup\":\"True\",\"hovertemplate\":\"Business Days=8.0<br>Organizations Name=%{x}<br>Number of Shipments=%{y}<extra></extra>\",\"legendgroup\":\"8.0\",\"marker\":{\"color\":\"#9D755D\",\"pattern\":{\"shape\":\"\"}},\"name\":\"8.0\",\"offsetgroup\":\"8.0\",\"orientation\":\"v\",\"showlegend\":true,\"textposition\":\"auto\",\"type\":\"bar\",\"x\":[\"BUKU Ship\",\"Breazy\",\"BuiltBar\",\"Chirp\",\"Chukou1\",\"Demand Group\",\"EightCig\",\"Electric Tobacconist\",\"Element Vape - Buku\",\"Glas Inc\",\"Savvi\",\"Turning Point Brands\",\"Turntable Labs\"],\"xaxis\":\"x\",\"y\":[1.0,100.0,1234.0,83.0,1.0,1242.0,7.0,353.0,134.0,2.0,73.0,650.0,186.0],\"yaxis\":\"y\"},{\"alignmentgroup\":\"True\",\"hovertemplate\":\"Business Days=9.0<br>Organizations Name=%{x}<br>Number of Shipments=%{y}<extra></extra>\",\"legendgroup\":\"9.0\",\"marker\":{\"color\":\"#BAB0AC\",\"pattern\":{\"shape\":\"\"}},\"name\":\"9.0\",\"offsetgroup\":\"9.0\",\"orientation\":\"v\",\"showlegend\":true,\"textposition\":\"auto\",\"type\":\"bar\",\"x\":[\"BUKU Ship\",\"Breazy\",\"BuiltBar\",\"Chirp\",\"Chukou1\",\"Demand Group\",\"EightCig\",\"Electric Tobacconist\",\"Element Vape - Buku\",\"Glas Inc\",\"Savvi\",\"Turning Point Brands\",\"Turntable Labs\"],\"xaxis\":\"x\",\"y\":[null,82.0,648.0,96.0,null,984.0,5.0,237.0,67.0,null,42.0,399.0,99.0],\"yaxis\":\"y\"},{\"alignmentgroup\":\"True\",\"hovertemplate\":\"Business Days=10.0<br>Organizations Name=%{x}<br>Number of Shipments=%{y}<extra></extra>\",\"legendgroup\":\"10.0\",\"marker\":{\"color\":\"#4C78A8\",\"pattern\":{\"shape\":\"\"}},\"name\":\"10.0\",\"offsetgroup\":\"10.0\",\"orientation\":\"v\",\"showlegend\":true,\"textposition\":\"auto\",\"type\":\"bar\",\"x\":[\"BUKU Ship\",\"Breazy\",\"BuiltBar\",\"Chirp\",\"Chukou1\",\"Demand Group\",\"EightCig\",\"Electric Tobacconist\",\"Element Vape - Buku\",\"Glas Inc\",\"Savvi\",\"Turning Point Brands\",\"Turntable Labs\"],\"xaxis\":\"x\",\"y\":[1.0,44.0,392.0,52.0,null,820.0,1.0,73.0,84.0,null,19.0,129.0,48.0],\"yaxis\":\"y\"},{\"alignmentgroup\":\"True\",\"hovertemplate\":\"Business Days=11.0<br>Organizations Name=%{x}<br>Number of Shipments=%{y}<extra></extra>\",\"legendgroup\":\"11.0\",\"marker\":{\"color\":\"#F58518\",\"pattern\":{\"shape\":\"\"}},\"name\":\"11.0\",\"offsetgroup\":\"11.0\",\"orientation\":\"v\",\"showlegend\":true,\"textposition\":\"auto\",\"type\":\"bar\",\"x\":[\"BUKU Ship\",\"Breazy\",\"BuiltBar\",\"Chirp\",\"Chukou1\",\"Demand Group\",\"EightCig\",\"Electric Tobacconist\",\"Element Vape - Buku\",\"Glas Inc\",\"Savvi\",\"Turning Point Brands\",\"Turntable Labs\"],\"xaxis\":\"x\",\"y\":[null,33.0,268.0,22.0,null,607.0,2.0,51.0,59.0,1.0,11.0,143.0,21.0],\"yaxis\":\"y\"},{\"alignmentgroup\":\"True\",\"hovertemplate\":\"Business Days=12.0<br>Organizations Name=%{x}<br>Number of Shipments=%{y}<extra></extra>\",\"legendgroup\":\"12.0\",\"marker\":{\"color\":\"#E45756\",\"pattern\":{\"shape\":\"\"}},\"name\":\"12.0\",\"offsetgroup\":\"12.0\",\"orientation\":\"v\",\"showlegend\":true,\"textposition\":\"auto\",\"type\":\"bar\",\"x\":[\"BUKU Ship\",\"Breazy\",\"BuiltBar\",\"Chirp\",\"Chukou1\",\"Demand Group\",\"EightCig\",\"Electric Tobacconist\",\"Element Vape - Buku\",\"Glas Inc\",\"Savvi\",\"Turning Point Brands\",\"Turntable Labs\"],\"xaxis\":\"x\",\"y\":[null,21.0,263.0,2.0,null,322.0,null,35.0,28.0,2.0,6.0,56.0,1.0],\"yaxis\":\"y\"},{\"alignmentgroup\":\"True\",\"hovertemplate\":\"Business Days=13.0<br>Organizations Name=%{x}<br>Number of Shipments=%{y}<extra></extra>\",\"legendgroup\":\"13.0\",\"marker\":{\"color\":\"#72B7B2\",\"pattern\":{\"shape\":\"\"}},\"name\":\"13.0\",\"offsetgroup\":\"13.0\",\"orientation\":\"v\",\"showlegend\":true,\"textposition\":\"auto\",\"type\":\"bar\",\"x\":[\"BUKU Ship\",\"Breazy\",\"BuiltBar\",\"Chirp\",\"Chukou1\",\"Demand Group\",\"EightCig\",\"Electric Tobacconist\",\"Element Vape - Buku\",\"Glas Inc\",\"Savvi\",\"Turning Point Brands\",\"Turntable Labs\"],\"xaxis\":\"x\",\"y\":[null,24.0,114.0,1.0,null,345.0,null,17.0,44.0,14.0,2.0,129.0,1.0],\"yaxis\":\"y\"},{\"alignmentgroup\":\"True\",\"hovertemplate\":\"Business Days=14.0<br>Organizations Name=%{x}<br>Number of Shipments=%{y}<extra></extra>\",\"legendgroup\":\"14.0\",\"marker\":{\"color\":\"#54A24B\",\"pattern\":{\"shape\":\"\"}},\"name\":\"14.0\",\"offsetgroup\":\"14.0\",\"orientation\":\"v\",\"showlegend\":true,\"textposition\":\"auto\",\"type\":\"bar\",\"x\":[\"BUKU Ship\",\"Breazy\",\"BuiltBar\",\"Chirp\",\"Chukou1\",\"Demand Group\",\"EightCig\",\"Electric Tobacconist\",\"Element Vape - Buku\",\"Glas Inc\",\"Savvi\",\"Turning Point Brands\",\"Turntable Labs\"],\"xaxis\":\"x\",\"y\":[null,15.0,57.0,null,null,96.0,null,24.0,22.0,2.0,4.0,42.0,3.0],\"yaxis\":\"y\"},{\"alignmentgroup\":\"True\",\"hovertemplate\":\"Business Days=15.0<br>Organizations Name=%{x}<br>Number of Shipments=%{y}<extra></extra>\",\"legendgroup\":\"15.0\",\"marker\":{\"color\":\"#EECA3B\",\"pattern\":{\"shape\":\"\"}},\"name\":\"15.0\",\"offsetgroup\":\"15.0\",\"orientation\":\"v\",\"showlegend\":true,\"textposition\":\"auto\",\"type\":\"bar\",\"x\":[\"BUKU Ship\",\"Breazy\",\"BuiltBar\",\"Chirp\",\"Chukou1\",\"Demand Group\",\"EightCig\",\"Electric Tobacconist\",\"Element Vape - Buku\",\"Glas Inc\",\"Savvi\",\"Turning Point Brands\",\"Turntable Labs\"],\"xaxis\":\"x\",\"y\":[null,9.0,35.0,13.0,null,42.0,null,21.0,66.0,null,1.0,25.0,1.0],\"yaxis\":\"y\"},{\"alignmentgroup\":\"True\",\"hovertemplate\":\"Business Days=16.0<br>Organizations Name=%{x}<br>Number of Shipments=%{y}<extra></extra>\",\"legendgroup\":\"16.0\",\"marker\":{\"color\":\"#B279A2\",\"pattern\":{\"shape\":\"\"}},\"name\":\"16.0\",\"offsetgroup\":\"16.0\",\"orientation\":\"v\",\"showlegend\":true,\"textposition\":\"auto\",\"type\":\"bar\",\"x\":[\"BUKU Ship\",\"Breazy\",\"BuiltBar\",\"Chirp\",\"Chukou1\",\"Demand Group\",\"EightCig\",\"Electric Tobacconist\",\"Element Vape - Buku\",\"Glas Inc\",\"Savvi\",\"Turning Point Brands\",\"Turntable Labs\"],\"xaxis\":\"x\",\"y\":[null,9.0,16.0,9.0,null,35.0,null,11.0,27.0,1.0,3.0,14.0,null],\"yaxis\":\"y\"},{\"alignmentgroup\":\"True\",\"hovertemplate\":\"Business Days=17.0<br>Organizations Name=%{x}<br>Number of Shipments=%{y}<extra></extra>\",\"legendgroup\":\"17.0\",\"marker\":{\"color\":\"#FF9DA6\",\"pattern\":{\"shape\":\"\"}},\"name\":\"17.0\",\"offsetgroup\":\"17.0\",\"orientation\":\"v\",\"showlegend\":true,\"textposition\":\"auto\",\"type\":\"bar\",\"x\":[\"BUKU Ship\",\"Breazy\",\"BuiltBar\",\"Chirp\",\"Chukou1\",\"Demand Group\",\"EightCig\",\"Electric Tobacconist\",\"Element Vape - Buku\",\"Glas Inc\",\"Savvi\",\"Turning Point Brands\",\"Turntable Labs\"],\"xaxis\":\"x\",\"y\":[null,4.0,22.0,2.0,null,19.0,null,10.0,10.0,null,null,21.0,1.0],\"yaxis\":\"y\"},{\"alignmentgroup\":\"True\",\"hovertemplate\":\"Business Days=18.0<br>Organizations Name=%{x}<br>Number of Shipments=%{y}<extra></extra>\",\"legendgroup\":\"18.0\",\"marker\":{\"color\":\"#9D755D\",\"pattern\":{\"shape\":\"\"}},\"name\":\"18.0\",\"offsetgroup\":\"18.0\",\"orientation\":\"v\",\"showlegend\":true,\"textposition\":\"auto\",\"type\":\"bar\",\"x\":[\"BUKU Ship\",\"Breazy\",\"BuiltBar\",\"Chirp\",\"Chukou1\",\"Demand Group\",\"EightCig\",\"Electric Tobacconist\",\"Element Vape - Buku\",\"Glas Inc\",\"Savvi\",\"Turning Point Brands\",\"Turntable Labs\"],\"xaxis\":\"x\",\"y\":[null,4.0,14.0,null,null,19.0,1.0,9.0,11.0,null,null,10.0,null],\"yaxis\":\"y\"},{\"alignmentgroup\":\"True\",\"hovertemplate\":\"Business Days=19.0<br>Organizations Name=%{x}<br>Number of Shipments=%{y}<extra></extra>\",\"legendgroup\":\"19.0\",\"marker\":{\"color\":\"#BAB0AC\",\"pattern\":{\"shape\":\"\"}},\"name\":\"19.0\",\"offsetgroup\":\"19.0\",\"orientation\":\"v\",\"showlegend\":true,\"textposition\":\"auto\",\"type\":\"bar\",\"x\":[\"BUKU Ship\",\"Breazy\",\"BuiltBar\",\"Chirp\",\"Chukou1\",\"Demand Group\",\"EightCig\",\"Electric Tobacconist\",\"Element Vape - Buku\",\"Glas Inc\",\"Savvi\",\"Turning Point Brands\",\"Turntable Labs\"],\"xaxis\":\"x\",\"y\":[null,1.0,3.0,1.0,null,15.0,null,4.0,3.0,null,null,10.0,null],\"yaxis\":\"y\"},{\"alignmentgroup\":\"True\",\"hovertemplate\":\"Business Days=20.0<br>Organizations Name=%{x}<br>Number of Shipments=%{y}<extra></extra>\",\"legendgroup\":\"20.0\",\"marker\":{\"color\":\"#4C78A8\",\"pattern\":{\"shape\":\"\"}},\"name\":\"20.0\",\"offsetgroup\":\"20.0\",\"orientation\":\"v\",\"showlegend\":true,\"textposition\":\"auto\",\"type\":\"bar\",\"x\":[\"BUKU Ship\",\"Breazy\",\"BuiltBar\",\"Chirp\",\"Chukou1\",\"Demand Group\",\"EightCig\",\"Electric Tobacconist\",\"Element Vape - Buku\",\"Glas Inc\",\"Savvi\",\"Turning Point Brands\",\"Turntable Labs\"],\"xaxis\":\"x\",\"y\":[null,1.0,3.0,4.0,null,10.0,null,8.0,2.0,null,null,12.0,null],\"yaxis\":\"y\"},{\"alignmentgroup\":\"True\",\"hovertemplate\":\"Business Days=21.0<br>Organizations Name=%{x}<br>Number of Shipments=%{y}<extra></extra>\",\"legendgroup\":\"21.0\",\"marker\":{\"color\":\"#F58518\",\"pattern\":{\"shape\":\"\"}},\"name\":\"21.0\",\"offsetgroup\":\"21.0\",\"orientation\":\"v\",\"showlegend\":true,\"textposition\":\"auto\",\"type\":\"bar\",\"x\":[\"BUKU Ship\",\"Breazy\",\"BuiltBar\",\"Chirp\",\"Chukou1\",\"Demand Group\",\"EightCig\",\"Electric Tobacconist\",\"Element Vape - Buku\",\"Glas Inc\",\"Savvi\",\"Turning Point Brands\",\"Turntable Labs\"],\"xaxis\":\"x\",\"y\":[null,1.0,4.0,15.0,null,7.0,null,2.0,1.0,null,null,5.0,null],\"yaxis\":\"y\"},{\"alignmentgroup\":\"True\",\"hovertemplate\":\"Business Days=22.0<br>Organizations Name=%{x}<br>Number of Shipments=%{y}<extra></extra>\",\"legendgroup\":\"22.0\",\"marker\":{\"color\":\"#E45756\",\"pattern\":{\"shape\":\"\"}},\"name\":\"22.0\",\"offsetgroup\":\"22.0\",\"orientation\":\"v\",\"showlegend\":true,\"textposition\":\"auto\",\"type\":\"bar\",\"x\":[\"BUKU Ship\",\"Breazy\",\"BuiltBar\",\"Chirp\",\"Chukou1\",\"Demand Group\",\"EightCig\",\"Electric Tobacconist\",\"Element Vape - Buku\",\"Glas Inc\",\"Savvi\",\"Turning Point Brands\",\"Turntable Labs\"],\"xaxis\":\"x\",\"y\":[null,1.0,2.0,13.0,null,1.0,null,2.0,null,null,null,16.0,null],\"yaxis\":\"y\"},{\"alignmentgroup\":\"True\",\"hovertemplate\":\"Business Days=23.0<br>Organizations Name=%{x}<br>Number of Shipments=%{y}<extra></extra>\",\"legendgroup\":\"23.0\",\"marker\":{\"color\":\"#72B7B2\",\"pattern\":{\"shape\":\"\"}},\"name\":\"23.0\",\"offsetgroup\":\"23.0\",\"orientation\":\"v\",\"showlegend\":true,\"textposition\":\"auto\",\"type\":\"bar\",\"x\":[\"BUKU Ship\",\"Breazy\",\"BuiltBar\",\"Chirp\",\"Chukou1\",\"Demand Group\",\"EightCig\",\"Electric Tobacconist\",\"Element Vape - Buku\",\"Glas Inc\",\"Savvi\",\"Turning Point Brands\",\"Turntable Labs\"],\"xaxis\":\"x\",\"y\":[null,null,3.0,null,null,3.0,null,4.0,1.0,null,null,7.0,null],\"yaxis\":\"y\"},{\"alignmentgroup\":\"True\",\"hovertemplate\":\"Business Days=24.0<br>Organizations Name=%{x}<br>Number of Shipments=%{y}<extra></extra>\",\"legendgroup\":\"24.0\",\"marker\":{\"color\":\"#54A24B\",\"pattern\":{\"shape\":\"\"}},\"name\":\"24.0\",\"offsetgroup\":\"24.0\",\"orientation\":\"v\",\"showlegend\":true,\"textposition\":\"auto\",\"type\":\"bar\",\"x\":[\"BUKU Ship\",\"Breazy\",\"BuiltBar\",\"Chirp\",\"Chukou1\",\"Demand Group\",\"EightCig\",\"Electric Tobacconist\",\"Element Vape - Buku\",\"Glas Inc\",\"Savvi\",\"Turning Point Brands\",\"Turntable Labs\"],\"xaxis\":\"x\",\"y\":[null,1.0,4.0,3.0,null,6.0,null,7.0,null,null,1.0,6.0,null],\"yaxis\":\"y\"},{\"alignmentgroup\":\"True\",\"hovertemplate\":\"Business Days=25.0<br>Organizations Name=%{x}<br>Number of Shipments=%{y}<extra></extra>\",\"legendgroup\":\"25.0\",\"marker\":{\"color\":\"#EECA3B\",\"pattern\":{\"shape\":\"\"}},\"name\":\"25.0\",\"offsetgroup\":\"25.0\",\"orientation\":\"v\",\"showlegend\":true,\"textposition\":\"auto\",\"type\":\"bar\",\"x\":[\"BUKU Ship\",\"Breazy\",\"BuiltBar\",\"Chirp\",\"Chukou1\",\"Demand Group\",\"EightCig\",\"Electric Tobacconist\",\"Element Vape - Buku\",\"Glas Inc\",\"Savvi\",\"Turning Point Brands\",\"Turntable Labs\"],\"xaxis\":\"x\",\"y\":[null,1.0,null,9.0,null,2.0,null,2.0,1.0,null,null,1.0,1.0],\"yaxis\":\"y\"},{\"alignmentgroup\":\"True\",\"hovertemplate\":\"Business Days=26.0<br>Organizations Name=%{x}<br>Number of Shipments=%{y}<extra></extra>\",\"legendgroup\":\"26.0\",\"marker\":{\"color\":\"#B279A2\",\"pattern\":{\"shape\":\"\"}},\"name\":\"26.0\",\"offsetgroup\":\"26.0\",\"orientation\":\"v\",\"showlegend\":true,\"textposition\":\"auto\",\"type\":\"bar\",\"x\":[\"BUKU Ship\",\"Breazy\",\"BuiltBar\",\"Chirp\",\"Chukou1\",\"Demand Group\",\"EightCig\",\"Electric Tobacconist\",\"Element Vape - Buku\",\"Glas Inc\",\"Savvi\",\"Turning Point Brands\",\"Turntable Labs\"],\"xaxis\":\"x\",\"y\":[null,1.0,1.0,4.0,null,5.0,null,1.0,1.0,null,null,7.0,null],\"yaxis\":\"y\"},{\"alignmentgroup\":\"True\",\"hovertemplate\":\"Business Days=27.0<br>Organizations Name=%{x}<br>Number of Shipments=%{y}<extra></extra>\",\"legendgroup\":\"27.0\",\"marker\":{\"color\":\"#FF9DA6\",\"pattern\":{\"shape\":\"\"}},\"name\":\"27.0\",\"offsetgroup\":\"27.0\",\"orientation\":\"v\",\"showlegend\":true,\"textposition\":\"auto\",\"type\":\"bar\",\"x\":[\"BUKU Ship\",\"Breazy\",\"BuiltBar\",\"Chirp\",\"Chukou1\",\"Demand Group\",\"EightCig\",\"Electric Tobacconist\",\"Element Vape - Buku\",\"Glas Inc\",\"Savvi\",\"Turning Point Brands\",\"Turntable Labs\"],\"xaxis\":\"x\",\"y\":[null,null,4.0,2.0,null,2.0,null,2.0,1.0,null,null,5.0,null],\"yaxis\":\"y\"},{\"alignmentgroup\":\"True\",\"hovertemplate\":\"Business Days=28.0<br>Organizations Name=%{x}<br>Number of Shipments=%{y}<extra></extra>\",\"legendgroup\":\"28.0\",\"marker\":{\"color\":\"#9D755D\",\"pattern\":{\"shape\":\"\"}},\"name\":\"28.0\",\"offsetgroup\":\"28.0\",\"orientation\":\"v\",\"showlegend\":true,\"textposition\":\"auto\",\"type\":\"bar\",\"x\":[\"BUKU Ship\",\"Breazy\",\"BuiltBar\",\"Chirp\",\"Chukou1\",\"Demand Group\",\"EightCig\",\"Electric Tobacconist\",\"Element Vape - Buku\",\"Glas Inc\",\"Savvi\",\"Turning Point Brands\",\"Turntable Labs\"],\"xaxis\":\"x\",\"y\":[null,null,1.0,1.0,null,1.0,null,2.0,null,null,null,7.0,null],\"yaxis\":\"y\"},{\"alignmentgroup\":\"True\",\"hovertemplate\":\"Business Days=29.0<br>Organizations Name=%{x}<br>Number of Shipments=%{y}<extra></extra>\",\"legendgroup\":\"29.0\",\"marker\":{\"color\":\"#BAB0AC\",\"pattern\":{\"shape\":\"\"}},\"name\":\"29.0\",\"offsetgroup\":\"29.0\",\"orientation\":\"v\",\"showlegend\":true,\"textposition\":\"auto\",\"type\":\"bar\",\"x\":[\"BUKU Ship\",\"Breazy\",\"BuiltBar\",\"Chirp\",\"Chukou1\",\"Demand Group\",\"EightCig\",\"Electric Tobacconist\",\"Element Vape - Buku\",\"Glas Inc\",\"Savvi\",\"Turning Point Brands\",\"Turntable Labs\"],\"xaxis\":\"x\",\"y\":[null,null,null,null,null,1.0,null,null,1.0,null,null,3.0,null],\"yaxis\":\"y\"},{\"alignmentgroup\":\"True\",\"hovertemplate\":\"Business Days=30.0<br>Organizations Name=%{x}<br>Number of Shipments=%{y}<extra></extra>\",\"legendgroup\":\"30.0\",\"marker\":{\"color\":\"#4C78A8\",\"pattern\":{\"shape\":\"\"}},\"name\":\"30.0\",\"offsetgroup\":\"30.0\",\"orientation\":\"v\",\"showlegend\":true,\"textposition\":\"auto\",\"type\":\"bar\",\"x\":[\"BUKU Ship\",\"Breazy\",\"BuiltBar\",\"Chirp\",\"Chukou1\",\"Demand Group\",\"EightCig\",\"Electric Tobacconist\",\"Element Vape - Buku\",\"Glas Inc\",\"Savvi\",\"Turning Point Brands\",\"Turntable Labs\"],\"xaxis\":\"x\",\"y\":[null,null,2.0,null,null,null,null,2.0,null,null,null,1.0,null],\"yaxis\":\"y\"},{\"alignmentgroup\":\"True\",\"hovertemplate\":\"Business Days=31.0<br>Organizations Name=%{x}<br>Number of Shipments=%{y}<extra></extra>\",\"legendgroup\":\"31.0\",\"marker\":{\"color\":\"#F58518\",\"pattern\":{\"shape\":\"\"}},\"name\":\"31.0\",\"offsetgroup\":\"31.0\",\"orientation\":\"v\",\"showlegend\":true,\"textposition\":\"auto\",\"type\":\"bar\",\"x\":[\"BUKU Ship\",\"Breazy\",\"BuiltBar\",\"Chirp\",\"Chukou1\",\"Demand Group\",\"EightCig\",\"Electric Tobacconist\",\"Element Vape - Buku\",\"Glas Inc\",\"Savvi\",\"Turning Point Brands\",\"Turntable Labs\"],\"xaxis\":\"x\",\"y\":[null,null,null,null,null,2.0,null,2.0,1.0,null,null,2.0,null],\"yaxis\":\"y\"},{\"alignmentgroup\":\"True\",\"hovertemplate\":\"Business Days=32.0<br>Organizations Name=%{x}<br>Number of Shipments=%{y}<extra></extra>\",\"legendgroup\":\"32.0\",\"marker\":{\"color\":\"#E45756\",\"pattern\":{\"shape\":\"\"}},\"name\":\"32.0\",\"offsetgroup\":\"32.0\",\"orientation\":\"v\",\"showlegend\":true,\"textposition\":\"auto\",\"type\":\"bar\",\"x\":[\"BUKU Ship\",\"Breazy\",\"BuiltBar\",\"Chirp\",\"Chukou1\",\"Demand Group\",\"EightCig\",\"Electric Tobacconist\",\"Element Vape - Buku\",\"Glas Inc\",\"Savvi\",\"Turning Point Brands\",\"Turntable Labs\"],\"xaxis\":\"x\",\"y\":[null,null,3.0,null,null,null,null,1.0,2.0,null,null,6.0,null],\"yaxis\":\"y\"},{\"alignmentgroup\":\"True\",\"hovertemplate\":\"Business Days=33.0<br>Organizations Name=%{x}<br>Number of Shipments=%{y}<extra></extra>\",\"legendgroup\":\"33.0\",\"marker\":{\"color\":\"#72B7B2\",\"pattern\":{\"shape\":\"\"}},\"name\":\"33.0\",\"offsetgroup\":\"33.0\",\"orientation\":\"v\",\"showlegend\":true,\"textposition\":\"auto\",\"type\":\"bar\",\"x\":[\"BUKU Ship\",\"Breazy\",\"BuiltBar\",\"Chirp\",\"Chukou1\",\"Demand Group\",\"EightCig\",\"Electric Tobacconist\",\"Element Vape - Buku\",\"Glas Inc\",\"Savvi\",\"Turning Point Brands\",\"Turntable Labs\"],\"xaxis\":\"x\",\"y\":[null,null,1.0,null,null,1.0,null,null,null,null,null,5.0,null],\"yaxis\":\"y\"},{\"alignmentgroup\":\"True\",\"hovertemplate\":\"Business Days=34.0<br>Organizations Name=%{x}<br>Number of Shipments=%{y}<extra></extra>\",\"legendgroup\":\"34.0\",\"marker\":{\"color\":\"#54A24B\",\"pattern\":{\"shape\":\"\"}},\"name\":\"34.0\",\"offsetgroup\":\"34.0\",\"orientation\":\"v\",\"showlegend\":true,\"textposition\":\"auto\",\"type\":\"bar\",\"x\":[\"BUKU Ship\",\"Breazy\",\"BuiltBar\",\"Chirp\",\"Chukou1\",\"Demand Group\",\"EightCig\",\"Electric Tobacconist\",\"Element Vape - Buku\",\"Glas Inc\",\"Savvi\",\"Turning Point Brands\",\"Turntable Labs\"],\"xaxis\":\"x\",\"y\":[null,null,2.0,null,null,4.0,null,5.0,null,null,null,2.0,null],\"yaxis\":\"y\"},{\"alignmentgroup\":\"True\",\"hovertemplate\":\"Business Days=35.0<br>Organizations Name=%{x}<br>Number of Shipments=%{y}<extra></extra>\",\"legendgroup\":\"35.0\",\"marker\":{\"color\":\"#EECA3B\",\"pattern\":{\"shape\":\"\"}},\"name\":\"35.0\",\"offsetgroup\":\"35.0\",\"orientation\":\"v\",\"showlegend\":true,\"textposition\":\"auto\",\"type\":\"bar\",\"x\":[\"BUKU Ship\",\"Breazy\",\"BuiltBar\",\"Chirp\",\"Chukou1\",\"Demand Group\",\"EightCig\",\"Electric Tobacconist\",\"Element Vape - Buku\",\"Glas Inc\",\"Savvi\",\"Turning Point Brands\",\"Turntable Labs\"],\"xaxis\":\"x\",\"y\":[null,null,null,null,null,1.0,null,3.0,null,null,null,1.0,null],\"yaxis\":\"y\"},{\"alignmentgroup\":\"True\",\"hovertemplate\":\"Business Days=36.0<br>Organizations Name=%{x}<br>Number of Shipments=%{y}<extra></extra>\",\"legendgroup\":\"36.0\",\"marker\":{\"color\":\"#B279A2\",\"pattern\":{\"shape\":\"\"}},\"name\":\"36.0\",\"offsetgroup\":\"36.0\",\"orientation\":\"v\",\"showlegend\":true,\"textposition\":\"auto\",\"type\":\"bar\",\"x\":[\"BUKU Ship\",\"Breazy\",\"BuiltBar\",\"Chirp\",\"Chukou1\",\"Demand Group\",\"EightCig\",\"Electric Tobacconist\",\"Element Vape - Buku\",\"Glas Inc\",\"Savvi\",\"Turning Point Brands\",\"Turntable Labs\"],\"xaxis\":\"x\",\"y\":[null,1.0,null,null,null,null,null,1.0,null,null,null,2.0,null],\"yaxis\":\"y\"},{\"alignmentgroup\":\"True\",\"hovertemplate\":\"Business Days=37.0<br>Organizations Name=%{x}<br>Number of Shipments=%{y}<extra></extra>\",\"legendgroup\":\"37.0\",\"marker\":{\"color\":\"#FF9DA6\",\"pattern\":{\"shape\":\"\"}},\"name\":\"37.0\",\"offsetgroup\":\"37.0\",\"orientation\":\"v\",\"showlegend\":true,\"textposition\":\"auto\",\"type\":\"bar\",\"x\":[\"BUKU Ship\",\"Breazy\",\"BuiltBar\",\"Chirp\",\"Chukou1\",\"Demand Group\",\"EightCig\",\"Electric Tobacconist\",\"Element Vape - Buku\",\"Glas Inc\",\"Savvi\",\"Turning Point Brands\",\"Turntable Labs\"],\"xaxis\":\"x\",\"y\":[null,null,2.0,1.0,null,null,null,2.0,null,null,null,null,null],\"yaxis\":\"y\"},{\"alignmentgroup\":\"True\",\"hovertemplate\":\"Business Days=38.0<br>Organizations Name=%{x}<br>Number of Shipments=%{y}<extra></extra>\",\"legendgroup\":\"38.0\",\"marker\":{\"color\":\"#9D755D\",\"pattern\":{\"shape\":\"\"}},\"name\":\"38.0\",\"offsetgroup\":\"38.0\",\"orientation\":\"v\",\"showlegend\":true,\"textposition\":\"auto\",\"type\":\"bar\",\"x\":[\"BUKU Ship\",\"Breazy\",\"BuiltBar\",\"Chirp\",\"Chukou1\",\"Demand Group\",\"EightCig\",\"Electric Tobacconist\",\"Element Vape - Buku\",\"Glas Inc\",\"Savvi\",\"Turning Point Brands\",\"Turntable Labs\"],\"xaxis\":\"x\",\"y\":[null,null,null,null,null,null,null,1.0,null,null,null,1.0,null],\"yaxis\":\"y\"},{\"alignmentgroup\":\"True\",\"hovertemplate\":\"Business Days=39.0<br>Organizations Name=%{x}<br>Number of Shipments=%{y}<extra></extra>\",\"legendgroup\":\"39.0\",\"marker\":{\"color\":\"#BAB0AC\",\"pattern\":{\"shape\":\"\"}},\"name\":\"39.0\",\"offsetgroup\":\"39.0\",\"orientation\":\"v\",\"showlegend\":true,\"textposition\":\"auto\",\"type\":\"bar\",\"x\":[\"BUKU Ship\",\"Breazy\",\"BuiltBar\",\"Chirp\",\"Chukou1\",\"Demand Group\",\"EightCig\",\"Electric Tobacconist\",\"Element Vape - Buku\",\"Glas Inc\",\"Savvi\",\"Turning Point Brands\",\"Turntable Labs\"],\"xaxis\":\"x\",\"y\":[null,1.0,null,null,null,null,null,2.0,null,null,null,1.0,null],\"yaxis\":\"y\"},{\"alignmentgroup\":\"True\",\"hovertemplate\":\"Business Days=40.0<br>Organizations Name=%{x}<br>Number of Shipments=%{y}<extra></extra>\",\"legendgroup\":\"40.0\",\"marker\":{\"color\":\"#4C78A8\",\"pattern\":{\"shape\":\"\"}},\"name\":\"40.0\",\"offsetgroup\":\"40.0\",\"orientation\":\"v\",\"showlegend\":true,\"textposition\":\"auto\",\"type\":\"bar\",\"x\":[\"BUKU Ship\",\"Breazy\",\"BuiltBar\",\"Chirp\",\"Chukou1\",\"Demand Group\",\"EightCig\",\"Electric Tobacconist\",\"Element Vape - Buku\",\"Glas Inc\",\"Savvi\",\"Turning Point Brands\",\"Turntable Labs\"],\"xaxis\":\"x\",\"y\":[null,null,1.0,null,null,null,null,1.0,null,null,null,1.0,null],\"yaxis\":\"y\"},{\"alignmentgroup\":\"True\",\"hovertemplate\":\"Business Days=41.0<br>Organizations Name=%{x}<br>Number of Shipments=%{y}<extra></extra>\",\"legendgroup\":\"41.0\",\"marker\":{\"color\":\"#F58518\",\"pattern\":{\"shape\":\"\"}},\"name\":\"41.0\",\"offsetgroup\":\"41.0\",\"orientation\":\"v\",\"showlegend\":true,\"textposition\":\"auto\",\"type\":\"bar\",\"x\":[\"BUKU Ship\",\"Breazy\",\"BuiltBar\",\"Chirp\",\"Chukou1\",\"Demand Group\",\"EightCig\",\"Electric Tobacconist\",\"Element Vape - Buku\",\"Glas Inc\",\"Savvi\",\"Turning Point Brands\",\"Turntable Labs\"],\"xaxis\":\"x\",\"y\":[null,null,2.0,null,null,null,null,null,null,null,null,null,null],\"yaxis\":\"y\"},{\"alignmentgroup\":\"True\",\"hovertemplate\":\"Business Days=42.0<br>Organizations Name=%{x}<br>Number of Shipments=%{y}<extra></extra>\",\"legendgroup\":\"42.0\",\"marker\":{\"color\":\"#E45756\",\"pattern\":{\"shape\":\"\"}},\"name\":\"42.0\",\"offsetgroup\":\"42.0\",\"orientation\":\"v\",\"showlegend\":true,\"textposition\":\"auto\",\"type\":\"bar\",\"x\":[\"BUKU Ship\",\"Breazy\",\"BuiltBar\",\"Chirp\",\"Chukou1\",\"Demand Group\",\"EightCig\",\"Electric Tobacconist\",\"Element Vape - Buku\",\"Glas Inc\",\"Savvi\",\"Turning Point Brands\",\"Turntable Labs\"],\"xaxis\":\"x\",\"y\":[null,null,1.0,null,null,null,null,1.0,1.0,null,null,1.0,null],\"yaxis\":\"y\"},{\"alignmentgroup\":\"True\",\"hovertemplate\":\"Business Days=43.0<br>Organizations Name=%{x}<br>Number of Shipments=%{y}<extra></extra>\",\"legendgroup\":\"43.0\",\"marker\":{\"color\":\"#72B7B2\",\"pattern\":{\"shape\":\"\"}},\"name\":\"43.0\",\"offsetgroup\":\"43.0\",\"orientation\":\"v\",\"showlegend\":true,\"textposition\":\"auto\",\"type\":\"bar\",\"x\":[\"BUKU Ship\",\"Breazy\",\"BuiltBar\",\"Chirp\",\"Chukou1\",\"Demand Group\",\"EightCig\",\"Electric Tobacconist\",\"Element Vape - Buku\",\"Glas Inc\",\"Savvi\",\"Turning Point Brands\",\"Turntable Labs\"],\"xaxis\":\"x\",\"y\":[null,null,null,null,null,null,null,1.0,1.0,null,null,1.0,null],\"yaxis\":\"y\"},{\"alignmentgroup\":\"True\",\"hovertemplate\":\"Business Days=44.0<br>Organizations Name=%{x}<br>Number of Shipments=%{y}<extra></extra>\",\"legendgroup\":\"44.0\",\"marker\":{\"color\":\"#54A24B\",\"pattern\":{\"shape\":\"\"}},\"name\":\"44.0\",\"offsetgroup\":\"44.0\",\"orientation\":\"v\",\"showlegend\":true,\"textposition\":\"auto\",\"type\":\"bar\",\"x\":[\"BUKU Ship\",\"Breazy\",\"BuiltBar\",\"Chirp\",\"Chukou1\",\"Demand Group\",\"EightCig\",\"Electric Tobacconist\",\"Element Vape - Buku\",\"Glas Inc\",\"Savvi\",\"Turning Point Brands\",\"Turntable Labs\"],\"xaxis\":\"x\",\"y\":[null,null,null,null,null,null,null,2.0,null,null,null,null,null],\"yaxis\":\"y\"},{\"alignmentgroup\":\"True\",\"hovertemplate\":\"Business Days=45.0<br>Organizations Name=%{x}<br>Number of Shipments=%{y}<extra></extra>\",\"legendgroup\":\"45.0\",\"marker\":{\"color\":\"#EECA3B\",\"pattern\":{\"shape\":\"\"}},\"name\":\"45.0\",\"offsetgroup\":\"45.0\",\"orientation\":\"v\",\"showlegend\":true,\"textposition\":\"auto\",\"type\":\"bar\",\"x\":[\"BUKU Ship\",\"Breazy\",\"BuiltBar\",\"Chirp\",\"Chukou1\",\"Demand Group\",\"EightCig\",\"Electric Tobacconist\",\"Element Vape - Buku\",\"Glas Inc\",\"Savvi\",\"Turning Point Brands\",\"Turntable Labs\"],\"xaxis\":\"x\",\"y\":[null,null,1.0,null,null,null,null,2.0,null,null,null,null,null],\"yaxis\":\"y\"},{\"alignmentgroup\":\"True\",\"hovertemplate\":\"Business Days=46.0<br>Organizations Name=%{x}<br>Number of Shipments=%{y}<extra></extra>\",\"legendgroup\":\"46.0\",\"marker\":{\"color\":\"#B279A2\",\"pattern\":{\"shape\":\"\"}},\"name\":\"46.0\",\"offsetgroup\":\"46.0\",\"orientation\":\"v\",\"showlegend\":true,\"textposition\":\"auto\",\"type\":\"bar\",\"x\":[\"BUKU Ship\",\"Breazy\",\"BuiltBar\",\"Chirp\",\"Chukou1\",\"Demand Group\",\"EightCig\",\"Electric Tobacconist\",\"Element Vape - Buku\",\"Glas Inc\",\"Savvi\",\"Turning Point Brands\",\"Turntable Labs\"],\"xaxis\":\"x\",\"y\":[null,null,null,null,null,1.0,null,null,null,null,null,null,null],\"yaxis\":\"y\"},{\"alignmentgroup\":\"True\",\"hovertemplate\":\"Business Days=47.0<br>Organizations Name=%{x}<br>Number of Shipments=%{y}<extra></extra>\",\"legendgroup\":\"47.0\",\"marker\":{\"color\":\"#FF9DA6\",\"pattern\":{\"shape\":\"\"}},\"name\":\"47.0\",\"offsetgroup\":\"47.0\",\"orientation\":\"v\",\"showlegend\":true,\"textposition\":\"auto\",\"type\":\"bar\",\"x\":[\"BUKU Ship\",\"Breazy\",\"BuiltBar\",\"Chirp\",\"Chukou1\",\"Demand Group\",\"EightCig\",\"Electric Tobacconist\",\"Element Vape - Buku\",\"Glas Inc\",\"Savvi\",\"Turning Point Brands\",\"Turntable Labs\"],\"xaxis\":\"x\",\"y\":[null,null,1.0,null,null,1.0,null,1.0,null,null,null,null,null],\"yaxis\":\"y\"},{\"alignmentgroup\":\"True\",\"hovertemplate\":\"Business Days=49.0<br>Organizations Name=%{x}<br>Number of Shipments=%{y}<extra></extra>\",\"legendgroup\":\"49.0\",\"marker\":{\"color\":\"#9D755D\",\"pattern\":{\"shape\":\"\"}},\"name\":\"49.0\",\"offsetgroup\":\"49.0\",\"orientation\":\"v\",\"showlegend\":true,\"textposition\":\"auto\",\"type\":\"bar\",\"x\":[\"BUKU Ship\",\"Breazy\",\"BuiltBar\",\"Chirp\",\"Chukou1\",\"Demand Group\",\"EightCig\",\"Electric Tobacconist\",\"Element Vape - Buku\",\"Glas Inc\",\"Savvi\",\"Turning Point Brands\",\"Turntable Labs\"],\"xaxis\":\"x\",\"y\":[null,null,null,null,null,1.0,null,3.0,null,null,null,1.0,null],\"yaxis\":\"y\"},{\"alignmentgroup\":\"True\",\"hovertemplate\":\"Business Days=50.0<br>Organizations Name=%{x}<br>Number of Shipments=%{y}<extra></extra>\",\"legendgroup\":\"50.0\",\"marker\":{\"color\":\"#BAB0AC\",\"pattern\":{\"shape\":\"\"}},\"name\":\"50.0\",\"offsetgroup\":\"50.0\",\"orientation\":\"v\",\"showlegend\":true,\"textposition\":\"auto\",\"type\":\"bar\",\"x\":[\"BUKU Ship\",\"Breazy\",\"BuiltBar\",\"Chirp\",\"Chukou1\",\"Demand Group\",\"EightCig\",\"Electric Tobacconist\",\"Element Vape - Buku\",\"Glas Inc\",\"Savvi\",\"Turning Point Brands\",\"Turntable Labs\"],\"xaxis\":\"x\",\"y\":[null,null,1.0,null,null,null,null,null,null,null,null,null,null],\"yaxis\":\"y\"},{\"alignmentgroup\":\"True\",\"hovertemplate\":\"Business Days=51.0<br>Organizations Name=%{x}<br>Number of Shipments=%{y}<extra></extra>\",\"legendgroup\":\"51.0\",\"marker\":{\"color\":\"#4C78A8\",\"pattern\":{\"shape\":\"\"}},\"name\":\"51.0\",\"offsetgroup\":\"51.0\",\"orientation\":\"v\",\"showlegend\":true,\"textposition\":\"auto\",\"type\":\"bar\",\"x\":[\"BUKU Ship\",\"Breazy\",\"BuiltBar\",\"Chirp\",\"Chukou1\",\"Demand Group\",\"EightCig\",\"Electric Tobacconist\",\"Element Vape - Buku\",\"Glas Inc\",\"Savvi\",\"Turning Point Brands\",\"Turntable Labs\"],\"xaxis\":\"x\",\"y\":[null,null,null,null,null,1.0,null,null,null,null,null,null,null],\"yaxis\":\"y\"},{\"alignmentgroup\":\"True\",\"hovertemplate\":\"Business Days=52.0<br>Organizations Name=%{x}<br>Number of Shipments=%{y}<extra></extra>\",\"legendgroup\":\"52.0\",\"marker\":{\"color\":\"#F58518\",\"pattern\":{\"shape\":\"\"}},\"name\":\"52.0\",\"offsetgroup\":\"52.0\",\"orientation\":\"v\",\"showlegend\":true,\"textposition\":\"auto\",\"type\":\"bar\",\"x\":[\"BUKU Ship\",\"Breazy\",\"BuiltBar\",\"Chirp\",\"Chukou1\",\"Demand Group\",\"EightCig\",\"Electric Tobacconist\",\"Element Vape - Buku\",\"Glas Inc\",\"Savvi\",\"Turning Point Brands\",\"Turntable Labs\"],\"xaxis\":\"x\",\"y\":[null,null,null,null,null,null,null,null,null,null,null,1.0,null],\"yaxis\":\"y\"},{\"alignmentgroup\":\"True\",\"hovertemplate\":\"Business Days=53.0<br>Organizations Name=%{x}<br>Number of Shipments=%{y}<extra></extra>\",\"legendgroup\":\"53.0\",\"marker\":{\"color\":\"#E45756\",\"pattern\":{\"shape\":\"\"}},\"name\":\"53.0\",\"offsetgroup\":\"53.0\",\"orientation\":\"v\",\"showlegend\":true,\"textposition\":\"auto\",\"type\":\"bar\",\"x\":[\"BUKU Ship\",\"Breazy\",\"BuiltBar\",\"Chirp\",\"Chukou1\",\"Demand Group\",\"EightCig\",\"Electric Tobacconist\",\"Element Vape - Buku\",\"Glas Inc\",\"Savvi\",\"Turning Point Brands\",\"Turntable Labs\"],\"xaxis\":\"x\",\"y\":[null,null,1.0,null,null,null,null,null,null,1.0,null,null,null],\"yaxis\":\"y\"},{\"alignmentgroup\":\"True\",\"hovertemplate\":\"Business Days=54.0<br>Organizations Name=%{x}<br>Number of Shipments=%{y}<extra></extra>\",\"legendgroup\":\"54.0\",\"marker\":{\"color\":\"#72B7B2\",\"pattern\":{\"shape\":\"\"}},\"name\":\"54.0\",\"offsetgroup\":\"54.0\",\"orientation\":\"v\",\"showlegend\":true,\"textposition\":\"auto\",\"type\":\"bar\",\"x\":[\"BUKU Ship\",\"Breazy\",\"BuiltBar\",\"Chirp\",\"Chukou1\",\"Demand Group\",\"EightCig\",\"Electric Tobacconist\",\"Element Vape - Buku\",\"Glas Inc\",\"Savvi\",\"Turning Point Brands\",\"Turntable Labs\"],\"xaxis\":\"x\",\"y\":[null,1.0,null,null,null,null,null,1.0,null,null,null,null,null],\"yaxis\":\"y\"},{\"alignmentgroup\":\"True\",\"hovertemplate\":\"Business Days=56.0<br>Organizations Name=%{x}<br>Number of Shipments=%{y}<extra></extra>\",\"legendgroup\":\"56.0\",\"marker\":{\"color\":\"#54A24B\",\"pattern\":{\"shape\":\"\"}},\"name\":\"56.0\",\"offsetgroup\":\"56.0\",\"orientation\":\"v\",\"showlegend\":true,\"textposition\":\"auto\",\"type\":\"bar\",\"x\":[\"BUKU Ship\",\"Breazy\",\"BuiltBar\",\"Chirp\",\"Chukou1\",\"Demand Group\",\"EightCig\",\"Electric Tobacconist\",\"Element Vape - Buku\",\"Glas Inc\",\"Savvi\",\"Turning Point Brands\",\"Turntable Labs\"],\"xaxis\":\"x\",\"y\":[null,null,null,null,null,null,null,1.0,null,null,null,null,null],\"yaxis\":\"y\"},{\"alignmentgroup\":\"True\",\"hovertemplate\":\"Business Days=58.0<br>Organizations Name=%{x}<br>Number of Shipments=%{y}<extra></extra>\",\"legendgroup\":\"58.0\",\"marker\":{\"color\":\"#EECA3B\",\"pattern\":{\"shape\":\"\"}},\"name\":\"58.0\",\"offsetgroup\":\"58.0\",\"orientation\":\"v\",\"showlegend\":true,\"textposition\":\"auto\",\"type\":\"bar\",\"x\":[\"BUKU Ship\",\"Breazy\",\"BuiltBar\",\"Chirp\",\"Chukou1\",\"Demand Group\",\"EightCig\",\"Electric Tobacconist\",\"Element Vape - Buku\",\"Glas Inc\",\"Savvi\",\"Turning Point Brands\",\"Turntable Labs\"],\"xaxis\":\"x\",\"y\":[null,null,null,null,null,null,null,1.0,null,null,null,null,null],\"yaxis\":\"y\"},{\"alignmentgroup\":\"True\",\"hovertemplate\":\"Business Days=60.0<br>Organizations Name=%{x}<br>Number of Shipments=%{y}<extra></extra>\",\"legendgroup\":\"60.0\",\"marker\":{\"color\":\"#B279A2\",\"pattern\":{\"shape\":\"\"}},\"name\":\"60.0\",\"offsetgroup\":\"60.0\",\"orientation\":\"v\",\"showlegend\":true,\"textposition\":\"auto\",\"type\":\"bar\",\"x\":[\"BUKU Ship\",\"Breazy\",\"BuiltBar\",\"Chirp\",\"Chukou1\",\"Demand Group\",\"EightCig\",\"Electric Tobacconist\",\"Element Vape - Buku\",\"Glas Inc\",\"Savvi\",\"Turning Point Brands\",\"Turntable Labs\"],\"xaxis\":\"x\",\"y\":[null,null,null,null,null,null,null,null,null,null,null,1.0,null],\"yaxis\":\"y\"}],                        {\"barmode\":\"stack\",\"height\":800,\"legend\":{\"title\":{\"text\":\"Business Days\"},\"tracegroupgap\":0},\"template\":{\"data\":{\"bar\":[{\"error_x\":{\"color\":\"#2a3f5f\"},\"error_y\":{\"color\":\"#2a3f5f\"},\"marker\":{\"line\":{\"color\":\"#E5ECF6\",\"width\":0.5},\"pattern\":{\"fillmode\":\"overlay\",\"size\":10,\"solidity\":0.2}},\"type\":\"bar\"}],\"barpolar\":[{\"marker\":{\"line\":{\"color\":\"#E5ECF6\",\"width\":0.5},\"pattern\":{\"fillmode\":\"overlay\",\"size\":10,\"solidity\":0.2}},\"type\":\"barpolar\"}],\"carpet\":[{\"aaxis\":{\"endlinecolor\":\"#2a3f5f\",\"gridcolor\":\"white\",\"linecolor\":\"white\",\"minorgridcolor\":\"white\",\"startlinecolor\":\"#2a3f5f\"},\"baxis\":{\"endlinecolor\":\"#2a3f5f\",\"gridcolor\":\"white\",\"linecolor\":\"white\",\"minorgridcolor\":\"white\",\"startlinecolor\":\"#2a3f5f\"},\"type\":\"carpet\"}],\"choropleth\":[{\"colorbar\":{\"outlinewidth\":0,\"ticks\":\"\"},\"type\":\"choropleth\"}],\"contour\":[{\"colorbar\":{\"outlinewidth\":0,\"ticks\":\"\"},\"colorscale\":[[0.0,\"#0d0887\"],[0.1111111111111111,\"#46039f\"],[0.2222222222222222,\"#7201a8\"],[0.3333333333333333,\"#9c179e\"],[0.4444444444444444,\"#bd3786\"],[0.5555555555555556,\"#d8576b\"],[0.6666666666666666,\"#ed7953\"],[0.7777777777777778,\"#fb9f3a\"],[0.8888888888888888,\"#fdca26\"],[1.0,\"#f0f921\"]],\"type\":\"contour\"}],\"contourcarpet\":[{\"colorbar\":{\"outlinewidth\":0,\"ticks\":\"\"},\"type\":\"contourcarpet\"}],\"heatmap\":[{\"colorbar\":{\"outlinewidth\":0,\"ticks\":\"\"},\"colorscale\":[[0.0,\"#0d0887\"],[0.1111111111111111,\"#46039f\"],[0.2222222222222222,\"#7201a8\"],[0.3333333333333333,\"#9c179e\"],[0.4444444444444444,\"#bd3786\"],[0.5555555555555556,\"#d8576b\"],[0.6666666666666666,\"#ed7953\"],[0.7777777777777778,\"#fb9f3a\"],[0.8888888888888888,\"#fdca26\"],[1.0,\"#f0f921\"]],\"type\":\"heatmap\"}],\"heatmapgl\":[{\"colorbar\":{\"outlinewidth\":0,\"ticks\":\"\"},\"colorscale\":[[0.0,\"#0d0887\"],[0.1111111111111111,\"#46039f\"],[0.2222222222222222,\"#7201a8\"],[0.3333333333333333,\"#9c179e\"],[0.4444444444444444,\"#bd3786\"],[0.5555555555555556,\"#d8576b\"],[0.6666666666666666,\"#ed7953\"],[0.7777777777777778,\"#fb9f3a\"],[0.8888888888888888,\"#fdca26\"],[1.0,\"#f0f921\"]],\"type\":\"heatmapgl\"}],\"histogram\":[{\"marker\":{\"pattern\":{\"fillmode\":\"overlay\",\"size\":10,\"solidity\":0.2}},\"type\":\"histogram\"}],\"histogram2d\":[{\"colorbar\":{\"outlinewidth\":0,\"ticks\":\"\"},\"colorscale\":[[0.0,\"#0d0887\"],[0.1111111111111111,\"#46039f\"],[0.2222222222222222,\"#7201a8\"],[0.3333333333333333,\"#9c179e\"],[0.4444444444444444,\"#bd3786\"],[0.5555555555555556,\"#d8576b\"],[0.6666666666666666,\"#ed7953\"],[0.7777777777777778,\"#fb9f3a\"],[0.8888888888888888,\"#fdca26\"],[1.0,\"#f0f921\"]],\"type\":\"histogram2d\"}],\"histogram2dcontour\":[{\"colorbar\":{\"outlinewidth\":0,\"ticks\":\"\"},\"colorscale\":[[0.0,\"#0d0887\"],[0.1111111111111111,\"#46039f\"],[0.2222222222222222,\"#7201a8\"],[0.3333333333333333,\"#9c179e\"],[0.4444444444444444,\"#bd3786\"],[0.5555555555555556,\"#d8576b\"],[0.6666666666666666,\"#ed7953\"],[0.7777777777777778,\"#fb9f3a\"],[0.8888888888888888,\"#fdca26\"],[1.0,\"#f0f921\"]],\"type\":\"histogram2dcontour\"}],\"mesh3d\":[{\"colorbar\":{\"outlinewidth\":0,\"ticks\":\"\"},\"type\":\"mesh3d\"}],\"parcoords\":[{\"line\":{\"colorbar\":{\"outlinewidth\":0,\"ticks\":\"\"}},\"type\":\"parcoords\"}],\"pie\":[{\"automargin\":true,\"type\":\"pie\"}],\"scatter\":[{\"marker\":{\"colorbar\":{\"outlinewidth\":0,\"ticks\":\"\"}},\"type\":\"scatter\"}],\"scatter3d\":[{\"line\":{\"colorbar\":{\"outlinewidth\":0,\"ticks\":\"\"}},\"marker\":{\"colorbar\":{\"outlinewidth\":0,\"ticks\":\"\"}},\"type\":\"scatter3d\"}],\"scattercarpet\":[{\"marker\":{\"colorbar\":{\"outlinewidth\":0,\"ticks\":\"\"}},\"type\":\"scattercarpet\"}],\"scattergeo\":[{\"marker\":{\"colorbar\":{\"outlinewidth\":0,\"ticks\":\"\"}},\"type\":\"scattergeo\"}],\"scattergl\":[{\"marker\":{\"colorbar\":{\"outlinewidth\":0,\"ticks\":\"\"}},\"type\":\"scattergl\"}],\"scattermapbox\":[{\"marker\":{\"colorbar\":{\"outlinewidth\":0,\"ticks\":\"\"}},\"type\":\"scattermapbox\"}],\"scatterpolar\":[{\"marker\":{\"colorbar\":{\"outlinewidth\":0,\"ticks\":\"\"}},\"type\":\"scatterpolar\"}],\"scatterpolargl\":[{\"marker\":{\"colorbar\":{\"outlinewidth\":0,\"ticks\":\"\"}},\"type\":\"scatterpolargl\"}],\"scatterternary\":[{\"marker\":{\"colorbar\":{\"outlinewidth\":0,\"ticks\":\"\"}},\"type\":\"scatterternary\"}],\"surface\":[{\"colorbar\":{\"outlinewidth\":0,\"ticks\":\"\"},\"colorscale\":[[0.0,\"#0d0887\"],[0.1111111111111111,\"#46039f\"],[0.2222222222222222,\"#7201a8\"],[0.3333333333333333,\"#9c179e\"],[0.4444444444444444,\"#bd3786\"],[0.5555555555555556,\"#d8576b\"],[0.6666666666666666,\"#ed7953\"],[0.7777777777777778,\"#fb9f3a\"],[0.8888888888888888,\"#fdca26\"],[1.0,\"#f0f921\"]],\"type\":\"surface\"}],\"table\":[{\"cells\":{\"fill\":{\"color\":\"#EBF0F8\"},\"line\":{\"color\":\"white\"}},\"header\":{\"fill\":{\"color\":\"#C8D4E3\"},\"line\":{\"color\":\"white\"}},\"type\":\"table\"}]},\"layout\":{\"annotationdefaults\":{\"arrowcolor\":\"#2a3f5f\",\"arrowhead\":0,\"arrowwidth\":1},\"autotypenumbers\":\"strict\",\"coloraxis\":{\"colorbar\":{\"outlinewidth\":0,\"ticks\":\"\"}},\"colorscale\":{\"diverging\":[[0,\"#8e0152\"],[0.1,\"#c51b7d\"],[0.2,\"#de77ae\"],[0.3,\"#f1b6da\"],[0.4,\"#fde0ef\"],[0.5,\"#f7f7f7\"],[0.6,\"#e6f5d0\"],[0.7,\"#b8e186\"],[0.8,\"#7fbc41\"],[0.9,\"#4d9221\"],[1,\"#276419\"]],\"sequential\":[[0.0,\"#0d0887\"],[0.1111111111111111,\"#46039f\"],[0.2222222222222222,\"#7201a8\"],[0.3333333333333333,\"#9c179e\"],[0.4444444444444444,\"#bd3786\"],[0.5555555555555556,\"#d8576b\"],[0.6666666666666666,\"#ed7953\"],[0.7777777777777778,\"#fb9f3a\"],[0.8888888888888888,\"#fdca26\"],[1.0,\"#f0f921\"]],\"sequentialminus\":[[0.0,\"#0d0887\"],[0.1111111111111111,\"#46039f\"],[0.2222222222222222,\"#7201a8\"],[0.3333333333333333,\"#9c179e\"],[0.4444444444444444,\"#bd3786\"],[0.5555555555555556,\"#d8576b\"],[0.6666666666666666,\"#ed7953\"],[0.7777777777777778,\"#fb9f3a\"],[0.8888888888888888,\"#fdca26\"],[1.0,\"#f0f921\"]]},\"colorway\":[\"#636efa\",\"#EF553B\",\"#00cc96\",\"#ab63fa\",\"#FFA15A\",\"#19d3f3\",\"#FF6692\",\"#B6E880\",\"#FF97FF\",\"#FECB52\"],\"font\":{\"color\":\"#2a3f5f\"},\"geo\":{\"bgcolor\":\"white\",\"lakecolor\":\"white\",\"landcolor\":\"#E5ECF6\",\"showlakes\":true,\"showland\":true,\"subunitcolor\":\"white\"},\"hoverlabel\":{\"align\":\"left\"},\"hovermode\":\"closest\",\"mapbox\":{\"style\":\"light\"},\"paper_bgcolor\":\"white\",\"plot_bgcolor\":\"#E5ECF6\",\"polar\":{\"angularaxis\":{\"gridcolor\":\"white\",\"linecolor\":\"white\",\"ticks\":\"\"},\"bgcolor\":\"#E5ECF6\",\"radialaxis\":{\"gridcolor\":\"white\",\"linecolor\":\"white\",\"ticks\":\"\"}},\"scene\":{\"xaxis\":{\"backgroundcolor\":\"#E5ECF6\",\"gridcolor\":\"white\",\"gridwidth\":2,\"linecolor\":\"white\",\"showbackground\":true,\"ticks\":\"\",\"zerolinecolor\":\"white\"},\"yaxis\":{\"backgroundcolor\":\"#E5ECF6\",\"gridcolor\":\"white\",\"gridwidth\":2,\"linecolor\":\"white\",\"showbackground\":true,\"ticks\":\"\",\"zerolinecolor\":\"white\"},\"zaxis\":{\"backgroundcolor\":\"#E5ECF6\",\"gridcolor\":\"white\",\"gridwidth\":2,\"linecolor\":\"white\",\"showbackground\":true,\"ticks\":\"\",\"zerolinecolor\":\"white\"}},\"shapedefaults\":{\"line\":{\"color\":\"#2a3f5f\"}},\"ternary\":{\"aaxis\":{\"gridcolor\":\"white\",\"linecolor\":\"white\",\"ticks\":\"\"},\"baxis\":{\"gridcolor\":\"white\",\"linecolor\":\"white\",\"ticks\":\"\"},\"bgcolor\":\"#E5ECF6\",\"caxis\":{\"gridcolor\":\"white\",\"linecolor\":\"white\",\"ticks\":\"\"}},\"title\":{\"x\":0.05},\"xaxis\":{\"automargin\":true,\"gridcolor\":\"white\",\"linecolor\":\"white\",\"ticks\":\"\",\"title\":{\"standoff\":15},\"zerolinecolor\":\"white\",\"zerolinewidth\":2},\"yaxis\":{\"automargin\":true,\"gridcolor\":\"white\",\"linecolor\":\"white\",\"ticks\":\"\",\"title\":{\"standoff\":15},\"zerolinecolor\":\"white\",\"zerolinewidth\":2}}},\"title\":{\"text\":\"Delivery Time Distributions\"},\"width\":800,\"xaxis\":{\"anchor\":\"y\",\"domain\":[0.0,1.0],\"title\":{\"text\":\"Organizations Name\"}},\"yaxis\":{\"anchor\":\"x\",\"domain\":[0.0,1.0],\"title\":{\"text\":\"Number of Shipments\"}}},                        {\"responsive\": true}                    ).then(function(){\n",
       "                            \n",
       "var gd = document.getElementById('3e763b35-8eba-4c6d-b482-c34f14e170e4');\n",
       "var x = new MutationObserver(function (mutations, observer) {{\n",
       "        var display = window.getComputedStyle(gd).display;\n",
       "        if (!display || display === 'none') {{\n",
       "            console.log([gd, 'removed!']);\n",
       "            Plotly.purge(gd);\n",
       "            observer.disconnect();\n",
       "        }}\n",
       "}});\n",
       "\n",
       "// Listen for the removal of the full notebook cells\n",
       "var notebookContainer = gd.closest('#notebook-container');\n",
       "if (notebookContainer) {{\n",
       "    x.observe(notebookContainer, {childList: true});\n",
       "}}\n",
       "\n",
       "// Listen for the clearing of the current output cell\n",
       "var outputEl = gd.closest('.output');\n",
       "if (outputEl) {{\n",
       "    x.observe(outputEl, {childList: true});\n",
       "}}\n",
       "\n",
       "                        })                };                });            </script>        </div>"
      ]
     },
     "metadata": {},
     "output_type": "display_data"
    }
   ],
   "source": [
    "delivery_time = data.copy()\n",
    "# use groupby on dataframe\n",
    "dfdt = delivery_time.groupby(['Organizations Name', 'Business Days from Label Created to Delivery']).size().to_frame('Count').reset_index()\n",
    "\n",
    "#pivot the table into correct format\n",
    "dfdt_pivot = dfdt.pivot_table(index=dfdt['Organizations Name'], columns='Business Days from Label Created to Delivery', values='Count', aggfunc='sum')\n",
    "# dfdt_pivot\n",
    "# plot the pivoted dataframe\n",
    "colors = px.colors.qualitative.T10\n",
    "fig = px.bar(dfdt_pivot,\n",
    "             title='Delivery Time Distributions',\n",
    "             color_discrete_sequence = colors,\n",
    "             labels={'value': 'Number of Shipments', 'Organization Name': 'Organzations', 'Business Days from Label Created to Delivery': 'Business Days' },\n",
    "             width=800,\n",
    "             height=800)\n",
    "fig.update_layout(barmode='stack')\n",
    "fig.show()\n"
   ]
  },
  {
   "cell_type": "markdown",
   "metadata": {
    "pycharm": {
     "name": "#%% md\n"
    }
   },
   "source": [
    "### Average Days Late\n",
    "> This chart gives us insight on the average days xDelivery's customer's parcels are delivered late.\n",
    ">\n",
    "> This is useful to know, if provide customer verticles, to help mediate any delays each customer has within delivery path."
   ]
  },
  {
   "cell_type": "code",
   "execution_count": 128,
   "metadata": {
    "pycharm": {
     "name": "#%%\n"
    }
   },
   "outputs": [
    {
     "data": {
      "application/vnd.plotly.v1+json": {
       "config": {
        "plotlyServerURL": "https://plot.ly"
       },
       "data": [
        {
         "alignmentgroup": "True",
         "hovertemplate": "Organizations Name=%{x}<br>Average Days Late=%{y}<extra></extra>",
         "legendgroup": "",
         "marker": {
          "color": "#4C78A8",
          "pattern": {
           "shape": ""
          }
         },
         "name": "",
         "offsetgroup": "",
         "orientation": "v",
         "showlegend": false,
         "textposition": "auto",
         "type": "bar",
         "x": [
          "BUKU Ship",
          "Breazy",
          "BuiltBar",
          "Chirp",
          "Chukou1",
          "Demand Group",
          "EightCig",
          "Electric Tobacconist",
          "Element Vape - Buku",
          "Glas Inc",
          "Savvi",
          "Turning Point Brands",
          "Turntable Labs"
         ],
         "xaxis": "x",
         "y": [
          9,
          9,
          7,
          9,
          7,
          9,
          7,
          8,
          9,
          14,
          7,
          8,
          8
         ],
         "yaxis": "y"
        }
       ],
       "layout": {
        "barmode": "relative",
        "legend": {
         "tracegroupgap": 0
        },
        "template": {
         "data": {
          "bar": [
           {
            "error_x": {
             "color": "#2a3f5f"
            },
            "error_y": {
             "color": "#2a3f5f"
            },
            "marker": {
             "line": {
              "color": "#E5ECF6",
              "width": 0.5
             },
             "pattern": {
              "fillmode": "overlay",
              "size": 10,
              "solidity": 0.2
             }
            },
            "type": "bar"
           }
          ],
          "barpolar": [
           {
            "marker": {
             "line": {
              "color": "#E5ECF6",
              "width": 0.5
             },
             "pattern": {
              "fillmode": "overlay",
              "size": 10,
              "solidity": 0.2
             }
            },
            "type": "barpolar"
           }
          ],
          "carpet": [
           {
            "aaxis": {
             "endlinecolor": "#2a3f5f",
             "gridcolor": "white",
             "linecolor": "white",
             "minorgridcolor": "white",
             "startlinecolor": "#2a3f5f"
            },
            "baxis": {
             "endlinecolor": "#2a3f5f",
             "gridcolor": "white",
             "linecolor": "white",
             "minorgridcolor": "white",
             "startlinecolor": "#2a3f5f"
            },
            "type": "carpet"
           }
          ],
          "choropleth": [
           {
            "colorbar": {
             "outlinewidth": 0,
             "ticks": ""
            },
            "type": "choropleth"
           }
          ],
          "contour": [
           {
            "colorbar": {
             "outlinewidth": 0,
             "ticks": ""
            },
            "colorscale": [
             [
              0,
              "#0d0887"
             ],
             [
              0.1111111111111111,
              "#46039f"
             ],
             [
              0.2222222222222222,
              "#7201a8"
             ],
             [
              0.3333333333333333,
              "#9c179e"
             ],
             [
              0.4444444444444444,
              "#bd3786"
             ],
             [
              0.5555555555555556,
              "#d8576b"
             ],
             [
              0.6666666666666666,
              "#ed7953"
             ],
             [
              0.7777777777777778,
              "#fb9f3a"
             ],
             [
              0.8888888888888888,
              "#fdca26"
             ],
             [
              1,
              "#f0f921"
             ]
            ],
            "type": "contour"
           }
          ],
          "contourcarpet": [
           {
            "colorbar": {
             "outlinewidth": 0,
             "ticks": ""
            },
            "type": "contourcarpet"
           }
          ],
          "heatmap": [
           {
            "colorbar": {
             "outlinewidth": 0,
             "ticks": ""
            },
            "colorscale": [
             [
              0,
              "#0d0887"
             ],
             [
              0.1111111111111111,
              "#46039f"
             ],
             [
              0.2222222222222222,
              "#7201a8"
             ],
             [
              0.3333333333333333,
              "#9c179e"
             ],
             [
              0.4444444444444444,
              "#bd3786"
             ],
             [
              0.5555555555555556,
              "#d8576b"
             ],
             [
              0.6666666666666666,
              "#ed7953"
             ],
             [
              0.7777777777777778,
              "#fb9f3a"
             ],
             [
              0.8888888888888888,
              "#fdca26"
             ],
             [
              1,
              "#f0f921"
             ]
            ],
            "type": "heatmap"
           }
          ],
          "heatmapgl": [
           {
            "colorbar": {
             "outlinewidth": 0,
             "ticks": ""
            },
            "colorscale": [
             [
              0,
              "#0d0887"
             ],
             [
              0.1111111111111111,
              "#46039f"
             ],
             [
              0.2222222222222222,
              "#7201a8"
             ],
             [
              0.3333333333333333,
              "#9c179e"
             ],
             [
              0.4444444444444444,
              "#bd3786"
             ],
             [
              0.5555555555555556,
              "#d8576b"
             ],
             [
              0.6666666666666666,
              "#ed7953"
             ],
             [
              0.7777777777777778,
              "#fb9f3a"
             ],
             [
              0.8888888888888888,
              "#fdca26"
             ],
             [
              1,
              "#f0f921"
             ]
            ],
            "type": "heatmapgl"
           }
          ],
          "histogram": [
           {
            "marker": {
             "pattern": {
              "fillmode": "overlay",
              "size": 10,
              "solidity": 0.2
             }
            },
            "type": "histogram"
           }
          ],
          "histogram2d": [
           {
            "colorbar": {
             "outlinewidth": 0,
             "ticks": ""
            },
            "colorscale": [
             [
              0,
              "#0d0887"
             ],
             [
              0.1111111111111111,
              "#46039f"
             ],
             [
              0.2222222222222222,
              "#7201a8"
             ],
             [
              0.3333333333333333,
              "#9c179e"
             ],
             [
              0.4444444444444444,
              "#bd3786"
             ],
             [
              0.5555555555555556,
              "#d8576b"
             ],
             [
              0.6666666666666666,
              "#ed7953"
             ],
             [
              0.7777777777777778,
              "#fb9f3a"
             ],
             [
              0.8888888888888888,
              "#fdca26"
             ],
             [
              1,
              "#f0f921"
             ]
            ],
            "type": "histogram2d"
           }
          ],
          "histogram2dcontour": [
           {
            "colorbar": {
             "outlinewidth": 0,
             "ticks": ""
            },
            "colorscale": [
             [
              0,
              "#0d0887"
             ],
             [
              0.1111111111111111,
              "#46039f"
             ],
             [
              0.2222222222222222,
              "#7201a8"
             ],
             [
              0.3333333333333333,
              "#9c179e"
             ],
             [
              0.4444444444444444,
              "#bd3786"
             ],
             [
              0.5555555555555556,
              "#d8576b"
             ],
             [
              0.6666666666666666,
              "#ed7953"
             ],
             [
              0.7777777777777778,
              "#fb9f3a"
             ],
             [
              0.8888888888888888,
              "#fdca26"
             ],
             [
              1,
              "#f0f921"
             ]
            ],
            "type": "histogram2dcontour"
           }
          ],
          "mesh3d": [
           {
            "colorbar": {
             "outlinewidth": 0,
             "ticks": ""
            },
            "type": "mesh3d"
           }
          ],
          "parcoords": [
           {
            "line": {
             "colorbar": {
              "outlinewidth": 0,
              "ticks": ""
             }
            },
            "type": "parcoords"
           }
          ],
          "pie": [
           {
            "automargin": true,
            "type": "pie"
           }
          ],
          "scatter": [
           {
            "marker": {
             "colorbar": {
              "outlinewidth": 0,
              "ticks": ""
             }
            },
            "type": "scatter"
           }
          ],
          "scatter3d": [
           {
            "line": {
             "colorbar": {
              "outlinewidth": 0,
              "ticks": ""
             }
            },
            "marker": {
             "colorbar": {
              "outlinewidth": 0,
              "ticks": ""
             }
            },
            "type": "scatter3d"
           }
          ],
          "scattercarpet": [
           {
            "marker": {
             "colorbar": {
              "outlinewidth": 0,
              "ticks": ""
             }
            },
            "type": "scattercarpet"
           }
          ],
          "scattergeo": [
           {
            "marker": {
             "colorbar": {
              "outlinewidth": 0,
              "ticks": ""
             }
            },
            "type": "scattergeo"
           }
          ],
          "scattergl": [
           {
            "marker": {
             "colorbar": {
              "outlinewidth": 0,
              "ticks": ""
             }
            },
            "type": "scattergl"
           }
          ],
          "scattermapbox": [
           {
            "marker": {
             "colorbar": {
              "outlinewidth": 0,
              "ticks": ""
             }
            },
            "type": "scattermapbox"
           }
          ],
          "scatterpolar": [
           {
            "marker": {
             "colorbar": {
              "outlinewidth": 0,
              "ticks": ""
             }
            },
            "type": "scatterpolar"
           }
          ],
          "scatterpolargl": [
           {
            "marker": {
             "colorbar": {
              "outlinewidth": 0,
              "ticks": ""
             }
            },
            "type": "scatterpolargl"
           }
          ],
          "scatterternary": [
           {
            "marker": {
             "colorbar": {
              "outlinewidth": 0,
              "ticks": ""
             }
            },
            "type": "scatterternary"
           }
          ],
          "surface": [
           {
            "colorbar": {
             "outlinewidth": 0,
             "ticks": ""
            },
            "colorscale": [
             [
              0,
              "#0d0887"
             ],
             [
              0.1111111111111111,
              "#46039f"
             ],
             [
              0.2222222222222222,
              "#7201a8"
             ],
             [
              0.3333333333333333,
              "#9c179e"
             ],
             [
              0.4444444444444444,
              "#bd3786"
             ],
             [
              0.5555555555555556,
              "#d8576b"
             ],
             [
              0.6666666666666666,
              "#ed7953"
             ],
             [
              0.7777777777777778,
              "#fb9f3a"
             ],
             [
              0.8888888888888888,
              "#fdca26"
             ],
             [
              1,
              "#f0f921"
             ]
            ],
            "type": "surface"
           }
          ],
          "table": [
           {
            "cells": {
             "fill": {
              "color": "#EBF0F8"
             },
             "line": {
              "color": "white"
             }
            },
            "header": {
             "fill": {
              "color": "#C8D4E3"
             },
             "line": {
              "color": "white"
             }
            },
            "type": "table"
           }
          ]
         },
         "layout": {
          "annotationdefaults": {
           "arrowcolor": "#2a3f5f",
           "arrowhead": 0,
           "arrowwidth": 1
          },
          "autotypenumbers": "strict",
          "coloraxis": {
           "colorbar": {
            "outlinewidth": 0,
            "ticks": ""
           }
          },
          "colorscale": {
           "diverging": [
            [
             0,
             "#8e0152"
            ],
            [
             0.1,
             "#c51b7d"
            ],
            [
             0.2,
             "#de77ae"
            ],
            [
             0.3,
             "#f1b6da"
            ],
            [
             0.4,
             "#fde0ef"
            ],
            [
             0.5,
             "#f7f7f7"
            ],
            [
             0.6,
             "#e6f5d0"
            ],
            [
             0.7,
             "#b8e186"
            ],
            [
             0.8,
             "#7fbc41"
            ],
            [
             0.9,
             "#4d9221"
            ],
            [
             1,
             "#276419"
            ]
           ],
           "sequential": [
            [
             0,
             "#0d0887"
            ],
            [
             0.1111111111111111,
             "#46039f"
            ],
            [
             0.2222222222222222,
             "#7201a8"
            ],
            [
             0.3333333333333333,
             "#9c179e"
            ],
            [
             0.4444444444444444,
             "#bd3786"
            ],
            [
             0.5555555555555556,
             "#d8576b"
            ],
            [
             0.6666666666666666,
             "#ed7953"
            ],
            [
             0.7777777777777778,
             "#fb9f3a"
            ],
            [
             0.8888888888888888,
             "#fdca26"
            ],
            [
             1,
             "#f0f921"
            ]
           ],
           "sequentialminus": [
            [
             0,
             "#0d0887"
            ],
            [
             0.1111111111111111,
             "#46039f"
            ],
            [
             0.2222222222222222,
             "#7201a8"
            ],
            [
             0.3333333333333333,
             "#9c179e"
            ],
            [
             0.4444444444444444,
             "#bd3786"
            ],
            [
             0.5555555555555556,
             "#d8576b"
            ],
            [
             0.6666666666666666,
             "#ed7953"
            ],
            [
             0.7777777777777778,
             "#fb9f3a"
            ],
            [
             0.8888888888888888,
             "#fdca26"
            ],
            [
             1,
             "#f0f921"
            ]
           ]
          },
          "colorway": [
           "#636efa",
           "#EF553B",
           "#00cc96",
           "#ab63fa",
           "#FFA15A",
           "#19d3f3",
           "#FF6692",
           "#B6E880",
           "#FF97FF",
           "#FECB52"
          ],
          "font": {
           "color": "#2a3f5f"
          },
          "geo": {
           "bgcolor": "white",
           "lakecolor": "white",
           "landcolor": "#E5ECF6",
           "showlakes": true,
           "showland": true,
           "subunitcolor": "white"
          },
          "hoverlabel": {
           "align": "left"
          },
          "hovermode": "closest",
          "mapbox": {
           "style": "light"
          },
          "paper_bgcolor": "white",
          "plot_bgcolor": "#E5ECF6",
          "polar": {
           "angularaxis": {
            "gridcolor": "white",
            "linecolor": "white",
            "ticks": ""
           },
           "bgcolor": "#E5ECF6",
           "radialaxis": {
            "gridcolor": "white",
            "linecolor": "white",
            "ticks": ""
           }
          },
          "scene": {
           "xaxis": {
            "backgroundcolor": "#E5ECF6",
            "gridcolor": "white",
            "gridwidth": 2,
            "linecolor": "white",
            "showbackground": true,
            "ticks": "",
            "zerolinecolor": "white"
           },
           "yaxis": {
            "backgroundcolor": "#E5ECF6",
            "gridcolor": "white",
            "gridwidth": 2,
            "linecolor": "white",
            "showbackground": true,
            "ticks": "",
            "zerolinecolor": "white"
           },
           "zaxis": {
            "backgroundcolor": "#E5ECF6",
            "gridcolor": "white",
            "gridwidth": 2,
            "linecolor": "white",
            "showbackground": true,
            "ticks": "",
            "zerolinecolor": "white"
           }
          },
          "shapedefaults": {
           "line": {
            "color": "#2a3f5f"
           }
          },
          "ternary": {
           "aaxis": {
            "gridcolor": "white",
            "linecolor": "white",
            "ticks": ""
           },
           "baxis": {
            "gridcolor": "white",
            "linecolor": "white",
            "ticks": ""
           },
           "bgcolor": "#E5ECF6",
           "caxis": {
            "gridcolor": "white",
            "linecolor": "white",
            "ticks": ""
           }
          },
          "title": {
           "x": 0.05
          },
          "xaxis": {
           "automargin": true,
           "gridcolor": "white",
           "linecolor": "white",
           "ticks": "",
           "title": {
            "standoff": 15
           },
           "zerolinecolor": "white",
           "zerolinewidth": 2
          },
          "yaxis": {
           "automargin": true,
           "gridcolor": "white",
           "linecolor": "white",
           "ticks": "",
           "title": {
            "standoff": 15
           },
           "zerolinecolor": "white",
           "zerolinewidth": 2
          }
         }
        },
        "title": {
         "text": "Average Days Late"
        },
        "xaxis": {
         "anchor": "y",
         "domain": [
          0,
          1
         ],
         "title": {
          "text": "Organizations Name"
         }
        },
        "yaxis": {
         "anchor": "x",
         "domain": [
          0,
          1
         ],
         "tickmode": "array",
         "tickvals": [
          0,
          1,
          2,
          3,
          4,
          5,
          6,
          7,
          8,
          9,
          10,
          11,
          12,
          13,
          14
         ],
         "title": {
          "text": "Average Days Late"
         }
        }
       }
      },
      "text/html": [
       "<div>                            <div id=\"0bfb0140-e38c-42a4-ae6e-58aaee2413a1\" class=\"plotly-graph-div\" style=\"height:525px; width:100%;\"></div>            <script type=\"text/javascript\">                require([\"plotly\"], function(Plotly) {                    window.PLOTLYENV=window.PLOTLYENV || {};                                    if (document.getElementById(\"0bfb0140-e38c-42a4-ae6e-58aaee2413a1\")) {                    Plotly.newPlot(                        \"0bfb0140-e38c-42a4-ae6e-58aaee2413a1\",                        [{\"alignmentgroup\":\"True\",\"hovertemplate\":\"Organizations Name=%{x}<br>Average Days Late=%{y}<extra></extra>\",\"legendgroup\":\"\",\"marker\":{\"color\":\"#4C78A8\",\"pattern\":{\"shape\":\"\"}},\"name\":\"\",\"offsetgroup\":\"\",\"orientation\":\"v\",\"showlegend\":false,\"textposition\":\"auto\",\"type\":\"bar\",\"x\":[\"BUKU Ship\",\"Breazy\",\"BuiltBar\",\"Chirp\",\"Chukou1\",\"Demand Group\",\"EightCig\",\"Electric Tobacconist\",\"Element Vape - Buku\",\"Glas Inc\",\"Savvi\",\"Turning Point Brands\",\"Turntable Labs\"],\"xaxis\":\"x\",\"y\":[9.0,9.0,7.0,9.0,7.0,9.0,7.0,8.0,9.0,14.0,7.0,8.0,8.0],\"yaxis\":\"y\"}],                        {\"barmode\":\"relative\",\"legend\":{\"tracegroupgap\":0},\"template\":{\"data\":{\"bar\":[{\"error_x\":{\"color\":\"#2a3f5f\"},\"error_y\":{\"color\":\"#2a3f5f\"},\"marker\":{\"line\":{\"color\":\"#E5ECF6\",\"width\":0.5},\"pattern\":{\"fillmode\":\"overlay\",\"size\":10,\"solidity\":0.2}},\"type\":\"bar\"}],\"barpolar\":[{\"marker\":{\"line\":{\"color\":\"#E5ECF6\",\"width\":0.5},\"pattern\":{\"fillmode\":\"overlay\",\"size\":10,\"solidity\":0.2}},\"type\":\"barpolar\"}],\"carpet\":[{\"aaxis\":{\"endlinecolor\":\"#2a3f5f\",\"gridcolor\":\"white\",\"linecolor\":\"white\",\"minorgridcolor\":\"white\",\"startlinecolor\":\"#2a3f5f\"},\"baxis\":{\"endlinecolor\":\"#2a3f5f\",\"gridcolor\":\"white\",\"linecolor\":\"white\",\"minorgridcolor\":\"white\",\"startlinecolor\":\"#2a3f5f\"},\"type\":\"carpet\"}],\"choropleth\":[{\"colorbar\":{\"outlinewidth\":0,\"ticks\":\"\"},\"type\":\"choropleth\"}],\"contour\":[{\"colorbar\":{\"outlinewidth\":0,\"ticks\":\"\"},\"colorscale\":[[0.0,\"#0d0887\"],[0.1111111111111111,\"#46039f\"],[0.2222222222222222,\"#7201a8\"],[0.3333333333333333,\"#9c179e\"],[0.4444444444444444,\"#bd3786\"],[0.5555555555555556,\"#d8576b\"],[0.6666666666666666,\"#ed7953\"],[0.7777777777777778,\"#fb9f3a\"],[0.8888888888888888,\"#fdca26\"],[1.0,\"#f0f921\"]],\"type\":\"contour\"}],\"contourcarpet\":[{\"colorbar\":{\"outlinewidth\":0,\"ticks\":\"\"},\"type\":\"contourcarpet\"}],\"heatmap\":[{\"colorbar\":{\"outlinewidth\":0,\"ticks\":\"\"},\"colorscale\":[[0.0,\"#0d0887\"],[0.1111111111111111,\"#46039f\"],[0.2222222222222222,\"#7201a8\"],[0.3333333333333333,\"#9c179e\"],[0.4444444444444444,\"#bd3786\"],[0.5555555555555556,\"#d8576b\"],[0.6666666666666666,\"#ed7953\"],[0.7777777777777778,\"#fb9f3a\"],[0.8888888888888888,\"#fdca26\"],[1.0,\"#f0f921\"]],\"type\":\"heatmap\"}],\"heatmapgl\":[{\"colorbar\":{\"outlinewidth\":0,\"ticks\":\"\"},\"colorscale\":[[0.0,\"#0d0887\"],[0.1111111111111111,\"#46039f\"],[0.2222222222222222,\"#7201a8\"],[0.3333333333333333,\"#9c179e\"],[0.4444444444444444,\"#bd3786\"],[0.5555555555555556,\"#d8576b\"],[0.6666666666666666,\"#ed7953\"],[0.7777777777777778,\"#fb9f3a\"],[0.8888888888888888,\"#fdca26\"],[1.0,\"#f0f921\"]],\"type\":\"heatmapgl\"}],\"histogram\":[{\"marker\":{\"pattern\":{\"fillmode\":\"overlay\",\"size\":10,\"solidity\":0.2}},\"type\":\"histogram\"}],\"histogram2d\":[{\"colorbar\":{\"outlinewidth\":0,\"ticks\":\"\"},\"colorscale\":[[0.0,\"#0d0887\"],[0.1111111111111111,\"#46039f\"],[0.2222222222222222,\"#7201a8\"],[0.3333333333333333,\"#9c179e\"],[0.4444444444444444,\"#bd3786\"],[0.5555555555555556,\"#d8576b\"],[0.6666666666666666,\"#ed7953\"],[0.7777777777777778,\"#fb9f3a\"],[0.8888888888888888,\"#fdca26\"],[1.0,\"#f0f921\"]],\"type\":\"histogram2d\"}],\"histogram2dcontour\":[{\"colorbar\":{\"outlinewidth\":0,\"ticks\":\"\"},\"colorscale\":[[0.0,\"#0d0887\"],[0.1111111111111111,\"#46039f\"],[0.2222222222222222,\"#7201a8\"],[0.3333333333333333,\"#9c179e\"],[0.4444444444444444,\"#bd3786\"],[0.5555555555555556,\"#d8576b\"],[0.6666666666666666,\"#ed7953\"],[0.7777777777777778,\"#fb9f3a\"],[0.8888888888888888,\"#fdca26\"],[1.0,\"#f0f921\"]],\"type\":\"histogram2dcontour\"}],\"mesh3d\":[{\"colorbar\":{\"outlinewidth\":0,\"ticks\":\"\"},\"type\":\"mesh3d\"}],\"parcoords\":[{\"line\":{\"colorbar\":{\"outlinewidth\":0,\"ticks\":\"\"}},\"type\":\"parcoords\"}],\"pie\":[{\"automargin\":true,\"type\":\"pie\"}],\"scatter\":[{\"marker\":{\"colorbar\":{\"outlinewidth\":0,\"ticks\":\"\"}},\"type\":\"scatter\"}],\"scatter3d\":[{\"line\":{\"colorbar\":{\"outlinewidth\":0,\"ticks\":\"\"}},\"marker\":{\"colorbar\":{\"outlinewidth\":0,\"ticks\":\"\"}},\"type\":\"scatter3d\"}],\"scattercarpet\":[{\"marker\":{\"colorbar\":{\"outlinewidth\":0,\"ticks\":\"\"}},\"type\":\"scattercarpet\"}],\"scattergeo\":[{\"marker\":{\"colorbar\":{\"outlinewidth\":0,\"ticks\":\"\"}},\"type\":\"scattergeo\"}],\"scattergl\":[{\"marker\":{\"colorbar\":{\"outlinewidth\":0,\"ticks\":\"\"}},\"type\":\"scattergl\"}],\"scattermapbox\":[{\"marker\":{\"colorbar\":{\"outlinewidth\":0,\"ticks\":\"\"}},\"type\":\"scattermapbox\"}],\"scatterpolar\":[{\"marker\":{\"colorbar\":{\"outlinewidth\":0,\"ticks\":\"\"}},\"type\":\"scatterpolar\"}],\"scatterpolargl\":[{\"marker\":{\"colorbar\":{\"outlinewidth\":0,\"ticks\":\"\"}},\"type\":\"scatterpolargl\"}],\"scatterternary\":[{\"marker\":{\"colorbar\":{\"outlinewidth\":0,\"ticks\":\"\"}},\"type\":\"scatterternary\"}],\"surface\":[{\"colorbar\":{\"outlinewidth\":0,\"ticks\":\"\"},\"colorscale\":[[0.0,\"#0d0887\"],[0.1111111111111111,\"#46039f\"],[0.2222222222222222,\"#7201a8\"],[0.3333333333333333,\"#9c179e\"],[0.4444444444444444,\"#bd3786\"],[0.5555555555555556,\"#d8576b\"],[0.6666666666666666,\"#ed7953\"],[0.7777777777777778,\"#fb9f3a\"],[0.8888888888888888,\"#fdca26\"],[1.0,\"#f0f921\"]],\"type\":\"surface\"}],\"table\":[{\"cells\":{\"fill\":{\"color\":\"#EBF0F8\"},\"line\":{\"color\":\"white\"}},\"header\":{\"fill\":{\"color\":\"#C8D4E3\"},\"line\":{\"color\":\"white\"}},\"type\":\"table\"}]},\"layout\":{\"annotationdefaults\":{\"arrowcolor\":\"#2a3f5f\",\"arrowhead\":0,\"arrowwidth\":1},\"autotypenumbers\":\"strict\",\"coloraxis\":{\"colorbar\":{\"outlinewidth\":0,\"ticks\":\"\"}},\"colorscale\":{\"diverging\":[[0,\"#8e0152\"],[0.1,\"#c51b7d\"],[0.2,\"#de77ae\"],[0.3,\"#f1b6da\"],[0.4,\"#fde0ef\"],[0.5,\"#f7f7f7\"],[0.6,\"#e6f5d0\"],[0.7,\"#b8e186\"],[0.8,\"#7fbc41\"],[0.9,\"#4d9221\"],[1,\"#276419\"]],\"sequential\":[[0.0,\"#0d0887\"],[0.1111111111111111,\"#46039f\"],[0.2222222222222222,\"#7201a8\"],[0.3333333333333333,\"#9c179e\"],[0.4444444444444444,\"#bd3786\"],[0.5555555555555556,\"#d8576b\"],[0.6666666666666666,\"#ed7953\"],[0.7777777777777778,\"#fb9f3a\"],[0.8888888888888888,\"#fdca26\"],[1.0,\"#f0f921\"]],\"sequentialminus\":[[0.0,\"#0d0887\"],[0.1111111111111111,\"#46039f\"],[0.2222222222222222,\"#7201a8\"],[0.3333333333333333,\"#9c179e\"],[0.4444444444444444,\"#bd3786\"],[0.5555555555555556,\"#d8576b\"],[0.6666666666666666,\"#ed7953\"],[0.7777777777777778,\"#fb9f3a\"],[0.8888888888888888,\"#fdca26\"],[1.0,\"#f0f921\"]]},\"colorway\":[\"#636efa\",\"#EF553B\",\"#00cc96\",\"#ab63fa\",\"#FFA15A\",\"#19d3f3\",\"#FF6692\",\"#B6E880\",\"#FF97FF\",\"#FECB52\"],\"font\":{\"color\":\"#2a3f5f\"},\"geo\":{\"bgcolor\":\"white\",\"lakecolor\":\"white\",\"landcolor\":\"#E5ECF6\",\"showlakes\":true,\"showland\":true,\"subunitcolor\":\"white\"},\"hoverlabel\":{\"align\":\"left\"},\"hovermode\":\"closest\",\"mapbox\":{\"style\":\"light\"},\"paper_bgcolor\":\"white\",\"plot_bgcolor\":\"#E5ECF6\",\"polar\":{\"angularaxis\":{\"gridcolor\":\"white\",\"linecolor\":\"white\",\"ticks\":\"\"},\"bgcolor\":\"#E5ECF6\",\"radialaxis\":{\"gridcolor\":\"white\",\"linecolor\":\"white\",\"ticks\":\"\"}},\"scene\":{\"xaxis\":{\"backgroundcolor\":\"#E5ECF6\",\"gridcolor\":\"white\",\"gridwidth\":2,\"linecolor\":\"white\",\"showbackground\":true,\"ticks\":\"\",\"zerolinecolor\":\"white\"},\"yaxis\":{\"backgroundcolor\":\"#E5ECF6\",\"gridcolor\":\"white\",\"gridwidth\":2,\"linecolor\":\"white\",\"showbackground\":true,\"ticks\":\"\",\"zerolinecolor\":\"white\"},\"zaxis\":{\"backgroundcolor\":\"#E5ECF6\",\"gridcolor\":\"white\",\"gridwidth\":2,\"linecolor\":\"white\",\"showbackground\":true,\"ticks\":\"\",\"zerolinecolor\":\"white\"}},\"shapedefaults\":{\"line\":{\"color\":\"#2a3f5f\"}},\"ternary\":{\"aaxis\":{\"gridcolor\":\"white\",\"linecolor\":\"white\",\"ticks\":\"\"},\"baxis\":{\"gridcolor\":\"white\",\"linecolor\":\"white\",\"ticks\":\"\"},\"bgcolor\":\"#E5ECF6\",\"caxis\":{\"gridcolor\":\"white\",\"linecolor\":\"white\",\"ticks\":\"\"}},\"title\":{\"x\":0.05},\"xaxis\":{\"automargin\":true,\"gridcolor\":\"white\",\"linecolor\":\"white\",\"ticks\":\"\",\"title\":{\"standoff\":15},\"zerolinecolor\":\"white\",\"zerolinewidth\":2},\"yaxis\":{\"automargin\":true,\"gridcolor\":\"white\",\"linecolor\":\"white\",\"ticks\":\"\",\"title\":{\"standoff\":15},\"zerolinecolor\":\"white\",\"zerolinewidth\":2}}},\"title\":{\"text\":\"Average Days Late\"},\"xaxis\":{\"anchor\":\"y\",\"domain\":[0.0,1.0],\"title\":{\"text\":\"Organizations Name\"}},\"yaxis\":{\"anchor\":\"x\",\"domain\":[0.0,1.0],\"tickmode\":\"array\",\"tickvals\":[0,1,2,3,4,5,6,7,8,9,10,11,12,13,14],\"title\":{\"text\":\"Average Days Late\"}}},                        {\"responsive\": true}                    ).then(function(){\n",
       "                            \n",
       "var gd = document.getElementById('0bfb0140-e38c-42a4-ae6e-58aaee2413a1');\n",
       "var x = new MutationObserver(function (mutations, observer) {{\n",
       "        var display = window.getComputedStyle(gd).display;\n",
       "        if (!display || display === 'none') {{\n",
       "            console.log([gd, 'removed!']);\n",
       "            Plotly.purge(gd);\n",
       "            observer.disconnect();\n",
       "        }}\n",
       "}});\n",
       "\n",
       "// Listen for the removal of the full notebook cells\n",
       "var notebookContainer = gd.closest('#notebook-container');\n",
       "if (notebookContainer) {{\n",
       "    x.observe(notebookContainer, {childList: true});\n",
       "}}\n",
       "\n",
       "// Listen for the clearing of the current output cell\n",
       "var outputEl = gd.closest('.output');\n",
       "if (outputEl) {{\n",
       "    x.observe(outputEl, {childList: true});\n",
       "}}\n",
       "\n",
       "                        })                };                });            </script>        </div>"
      ]
     },
     "metadata": {},
     "output_type": "display_data"
    }
   ],
   "source": [
    "average_days_late = data.copy()\n",
    "\n",
    "# filter using 5 day threshold\n",
    "threshold = 5\n",
    "average_days_late = average_days_late[average_days_late['Business Days from Label Created to Delivery'] > threshold]\n",
    "\n",
    "df_adt = average_days_late.groupby('Organizations Name').mean().round(0).reset_index()\n",
    "df_adt['Average Days Late'] = df_adt['Business Days from Label Created to Delivery']\n",
    "\n",
    "fig = px.bar(df_adt,\n",
    "                 x='Organizations Name',\n",
    "                 y='Average Days Late',\n",
    "                 title='Average Days Late',\n",
    "                 color_discrete_sequence = colors,)\n",
    "\n",
    "colors = px.colors.qualitative.T10\n",
    "fig.update_layout(\n",
    "    yaxis = dict(\n",
    "        tickmode = 'array',\n",
    "        tickvals = np.arange(0,15)\n",
    "    )\n",
    ")\n",
    "\n",
    "fig.show()\n"
   ]
  }
 ],
 "metadata": {
  "kernelspec": {
   "display_name": "PyCharm (xDelivery_challenge)",
   "language": "python",
   "name": "pycharm-e7d9b584"
  },
  "language_info": {
   "codemirror_mode": {
    "name": "ipython",
    "version": 3
   },
   "file_extension": ".py",
   "mimetype": "text/x-python",
   "name": "python",
   "nbconvert_exporter": "python",
   "pygments_lexer": "ipython3",
   "version": "3.9.7"
  }
 },
 "nbformat": 4,
 "nbformat_minor": 1
}
